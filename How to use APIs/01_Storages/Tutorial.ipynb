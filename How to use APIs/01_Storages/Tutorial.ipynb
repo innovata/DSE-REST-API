{
 "cells": [
  {
   "cell_type": "markdown",
   "id": "bd945537",
   "metadata": {},
   "source": [
    "# 환경셋업"
   ]
  },
  {
   "cell_type": "code",
   "execution_count": null,
   "id": "30760df7",
   "metadata": {},
   "outputs": [],
   "source": [
    "# 패키지 설치\n",
    "!pip install dserestapi "
   ]
  },
  {
   "cell_type": "code",
   "execution_count": 3,
   "id": "5ed69d0c",
   "metadata": {},
   "outputs": [],
   "source": [
    "import pprint\n",
    "pp = pprint.PrettyPrinter(indent=2)"
   ]
  },
  {
   "cell_type": "code",
   "execution_count": 5,
   "id": "7a0affb7",
   "metadata": {},
   "outputs": [],
   "source": [
    "# 사용자 본인의 ID/PW 를 입력하시기 바랍니다.\n",
    "import json \n",
    "credential = r\"N:\\My Drive\\__CREDENTIALS__\\3DS\\JLE69_GMAIL\\CML Agent ID-PW.json\"\n",
    "with open(credential, \"r\", encoding='utf-8') as f:\n",
    "    cred = json.load(f)\n",
    "os.environ[\"CLM_AGENT_ID\"] = cred['Agent ID']\n",
    "os.environ[\"CLM_AGENT_PASSWORD\"] = cred['Agent Password']"
   ]
  },
  {
   "cell_type": "code",
   "execution_count": 6,
   "id": "71e80753",
   "metadata": {},
   "outputs": [],
   "source": [
    "# 사용하시는 테넌트 URI 를 확인하시고 바꾸시기 바랍니다.\n",
    "os.environ['3DX_PLATFORM_TENANT_URI'] = \"https://r1132100527066-apk2-sgi.3dexperience.3ds.com:443\""
   ]
  },
  {
   "cell_type": "code",
   "execution_count": 10,
   "id": "e2afe6a9",
   "metadata": {},
   "outputs": [],
   "source": [
    "from dserestapi import Storages, ObjectStorage, SemanticGraphIndex"
   ]
  },
  {
   "cell_type": "code",
   "execution_count": 33,
   "id": "3964d806",
   "metadata": {},
   "outputs": [],
   "source": [
    "api = Storages()"
   ]
  },
  {
   "cell_type": "markdown",
   "id": "cf5336b8",
   "metadata": {},
   "source": [
    "# USE CASE - 01\n",
    "- 스토리지 목록 가져오기 \n",
    "- ObjectStorage 신규 생성 \n",
    "- 스토리지 목록 갱신 및 생성한 스토리지 찾기"
   ]
  },
  {
   "cell_type": "code",
   "execution_count": 34,
   "id": "1f7df395",
   "metadata": {},
   "outputs": [],
   "source": [
    "# 모든 스토리지 리스트 가져오기\n",
    "res = api.get()\n",
    "with open(os.path.join(os.getcwd(), \"Storages List.json\"), \"w\", encoding=\"utf-8\") as f:\n",
    "    json.dump(res.json(), f, ensure_ascii=False, indent=2)"
   ]
  },
  {
   "cell_type": "code",
   "execution_count": 35,
   "id": "91d9ec75",
   "metadata": {},
   "outputs": [
    {
     "name": "stdout",
     "output_type": "stream",
     "text": [
      "\n",
      "응답코드--> 201\n"
     ]
    }
   ],
   "source": [
    "# 스토리지 생성\n",
    "res = api.create(\n",
    "    stype=\"ObjectStorage\",\n",
    "    name=\"TestObject01.CreatedByRestAPI\",\n",
    "    description=\"테스트 후 삭제\"\n",
    ")\n",
    "with open(os.path.join(os.getcwd(), \"Create A Storage.json\"), \"w\", encoding=\"utf-8\") as f:\n",
    "    json.dump(res.json(), f, ensure_ascii=False, indent=2)"
   ]
  },
  {
   "cell_type": "code",
   "execution_count": 38,
   "id": "35db295c",
   "metadata": {},
   "outputs": [
    {
     "name": "stdout",
     "output_type": "stream",
     "text": [
      "\n",
      "응답코드--> 200\n"
     ]
    }
   ],
   "source": [
    "# 스토리지 검색-1\n",
    "res = api.search_by_name(name=\"TestObject01.CreatedByRestAPI\", workspace_id=\"dw-global-000000-default\")\n",
    "\n",
    "with open(os.path.join(os.getcwd(), \"Search-1 the Storage.json\"), \"w\", encoding=\"utf-8\") as f:\n",
    "    json.dump(res.json(), f, ensure_ascii=False, indent=2)"
   ]
  },
  {
   "cell_type": "markdown",
   "id": "39cc6dbe",
   "metadata": {},
   "source": [
    "# USE CASE - 02\n",
    "- 생성한 스토리지 찾기  \n",
    "- 해당 스토리지 삭제 \n",
    "- 스토리지 목록 갱신"
   ]
  },
  {
   "cell_type": "code",
   "execution_count": 39,
   "id": "9e588503",
   "metadata": {},
   "outputs": [
    {
     "name": "stdout",
     "output_type": "stream",
     "text": [
      "\n",
      "응답코드--> 200\n"
     ]
    }
   ],
   "source": [
    "with open(os.path.join(os.getcwd(), \"Search-1 the Storage.json\"), \"r\", encoding=\"utf-8\") as f:\n",
    "    info = json.load(f)\n",
    "    resource_uuid = info['cards'][0][\"resourceUUID\"]\n",
    "\n",
    "# 스토리지 검색-2\n",
    "res = api.search_by_uuid(resource_uuid=resource_uuid)\n",
    "\n",
    "with open(os.path.join(os.getcwd(), \"Search-2 the Storage.json\"), \"w\", encoding=\"utf-8\") as f:\n",
    "    json.dump(res.json(), f, ensure_ascii=False, indent=2)"
   ]
  },
  {
   "cell_type": "code",
   "execution_count": 40,
   "id": "852c64a9",
   "metadata": {},
   "outputs": [
    {
     "name": "stdout",
     "output_type": "stream",
     "text": [
      "\n",
      "응답코드--> 200\n",
      "{ '_content': b'',\n",
      "  '_content_consumed': True,\n",
      "  '_next': None,\n",
      "  'connection': <requests.adapters.HTTPAdapter object at 0x00000245943F7350>,\n",
      "  'cookies': <RequestsCookieJar[]>,\n",
      "  'elapsed': datetime.timedelta(seconds=1, microseconds=756925),\n",
      "  'encoding': None,\n",
      "  'headers': {'content-length': '0', 'date': 'Fri, 18 Jul 2025 05:05:17 GMT', 'server': 'Microsoft-IIS/7.0'},\n",
      "  'history': [],\n",
      "  'raw': <urllib3.response.HTTPResponse object at 0x0000024594FF1960>,\n",
      "  'reason': 'OK',\n",
      "  'request': <PreparedRequest [DELETE]>,\n",
      "  'status_code': 200,\n",
      "  'url': 'https://r1132100527066-apk2-sgi.3dexperience.3ds.com:443/data-factory/resources/v1/storage/e56cf961-01a0-43a6-8b2b-0061f1477169'}\n"
     ]
    }
   ],
   "source": [
    "# 스토리지 삭제\n",
    "res = api.delete(resource_uuid=resource_uuid)\n",
    "pp.pprint(res.__dict__)"
   ]
  },
  {
   "cell_type": "markdown",
   "id": "c967b6e7",
   "metadata": {},
   "source": [
    "# USE CASE - 03\n",
    "- 생성한 스토리지 찾기  \n",
    "- 해당 스토리지 업데이트 "
   ]
  },
  {
   "cell_type": "code",
   "execution_count": null,
   "id": "38e00496",
   "metadata": {},
   "outputs": [],
   "source": []
  },
  {
   "cell_type": "code",
   "execution_count": null,
   "id": "447fad90",
   "metadata": {},
   "outputs": [],
   "source": []
  },
  {
   "cell_type": "code",
   "execution_count": null,
   "id": "08cdaa80",
   "metadata": {},
   "outputs": [],
   "source": []
  },
  {
   "cell_type": "code",
   "execution_count": null,
   "id": "fe26d039",
   "metadata": {},
   "outputs": [],
   "source": []
  },
  {
   "cell_type": "code",
   "execution_count": null,
   "id": "36d9312e",
   "metadata": {},
   "outputs": [],
   "source": []
  },
  {
   "cell_type": "code",
   "execution_count": null,
   "id": "4fbbc446",
   "metadata": {},
   "outputs": [],
   "source": []
  },
  {
   "cell_type": "code",
   "execution_count": null,
   "id": "a116dd90",
   "metadata": {},
   "outputs": [],
   "source": []
  },
  {
   "cell_type": "code",
   "execution_count": null,
   "id": "a9ae7ec9",
   "metadata": {},
   "outputs": [],
   "source": []
  }
 ],
 "metadata": {
  "kernelspec": {
   "display_name": ".env",
   "language": "python",
   "name": "python3"
  },
  "language_info": {
   "codemirror_mode": {
    "name": "ipython",
    "version": 3
   },
   "file_extension": ".py",
   "mimetype": "text/x-python",
   "name": "python",
   "nbconvert_exporter": "python",
   "pygments_lexer": "ipython3",
   "version": "3.12.9"
  }
 },
 "nbformat": 4,
 "nbformat_minor": 5
}
