{
 "cells": [
  {
   "cell_type": "markdown",
   "id": "bd945537",
   "metadata": {},
   "source": [
    "# 환경셋업"
   ]
  },
  {
   "cell_type": "code",
   "execution_count": null,
   "id": "30760df7",
   "metadata": {},
   "outputs": [],
   "source": [
    "# 패키지 설치\n",
    "!pip install dserestapi "
   ]
  },
  {
   "cell_type": "code",
   "execution_count": 2,
   "id": "5ed69d0c",
   "metadata": {},
   "outputs": [],
   "source": [
    "import pprint\n",
    "pp = pprint.PrettyPrinter(indent=2)"
   ]
  },
  {
   "cell_type": "code",
   "execution_count": 3,
   "id": "7a0affb7",
   "metadata": {},
   "outputs": [],
   "source": [
    "# 사용자 본인의 ID/PW 를 입력하시기 바랍니다.\n",
    "import json \n",
    "credential = r\"N:\\My Drive\\__CREDENTIALS__\\3DS\\JLE69_GMAIL\\CML Agent ID-PW.json\"\n",
    "with open(credential, \"r\", encoding='utf-8') as f:\n",
    "    cred = json.load(f)\n",
    "os.environ[\"CLM_AGENT_ID\"] = cred['Agent ID']\n",
    "os.environ[\"CLM_AGENT_PASSWORD\"] = cred['Agent Password']"
   ]
  },
  {
   "cell_type": "code",
   "execution_count": 4,
   "id": "71e80753",
   "metadata": {},
   "outputs": [],
   "source": [
    "# 사용하시는 테넌트 URI 를 확인하시고 바꾸시기 바랍니다.\n",
    "os.environ['3DX_PLATFORM_TENANT_URI'] = \"https://r1132100527066-apk2-sgi.3dexperience.3ds.com:443\""
   ]
  },
  {
   "cell_type": "code",
   "execution_count": 14,
   "id": "e2afe6a9",
   "metadata": {},
   "outputs": [],
   "source": [
    "from importlib import reload \n",
    "import dserestapi \n",
    "reload(dserestapi)\n",
    "from dserestapi import Storages, ObjectStorage, SemanticGraphIndex"
   ]
  },
  {
   "cell_type": "code",
   "execution_count": 12,
   "id": "3964d806",
   "metadata": {},
   "outputs": [
    {
     "data": {
      "text/plain": [
       "<module 'dserestapi' from 'F:\\\\pypjts\\\\DSE-REST-API\\\\src\\\\dserestapi\\\\__init__.py'>"
      ]
     },
     "execution_count": 12,
     "metadata": {},
     "output_type": "execute_result"
    }
   ],
   "source": []
  },
  {
   "cell_type": "markdown",
   "id": "cf5336b8",
   "metadata": {},
   "source": [
    "# USE CASE - 01\n",
    "- ObjectStorage 신규 생성 \n",
    "- 생성한 스토리지에 파일 업로드 "
   ]
  },
  {
   "cell_type": "code",
   "execution_count": 7,
   "id": "91d9ec75",
   "metadata": {},
   "outputs": [
    {
     "name": "stdout",
     "output_type": "stream",
     "text": [
      "\n",
      "응답코드--> 201\n"
     ]
    }
   ],
   "source": [
    "# 스토리지 생성\n",
    "api = Storages()\n",
    "res = api.create(\n",
    "    stype=\"ObjectStorage\",\n",
    "    name=\"TestObject-02.CreatedByRestAPI\",\n",
    "    description=\"테스트 후 삭제 | 파일 업로드 테스트용\"\n",
    ")\n",
    "with open(os.path.join(os.getcwd(), \"Create A Storage.json\"), \"w\", encoding=\"utf-8\") as f:\n",
    "    json.dump(res.json(), f, ensure_ascii=False, indent=2)"
   ]
  },
  {
   "cell_type": "code",
   "execution_count": 9,
   "id": "7eefabda",
   "metadata": {},
   "outputs": [
    {
     "name": "stdout",
     "output_type": "stream",
     "text": [
      "\n",
      "응답코드--> 200\n",
      "<Response [200]>\n",
      "{ '_content': b'',\n",
      "  '_content_consumed': True,\n",
      "  '_next': None,\n",
      "  'connection': <requests.adapters.HTTPAdapter object at 0x0000019B32C5A690>,\n",
      "  'cookies': <RequestsCookieJar[]>,\n",
      "  'elapsed': datetime.timedelta(microseconds=269140),\n",
      "  'encoding': None,\n",
      "  'headers': {'content-length': '0', 'date': 'Fri, 18 Jul 2025 05:12:17 GMT', 'server': 'Microsoft-IIS/7.0'},\n",
      "  'history': [],\n",
      "  'raw': <urllib3.response.HTTPResponse object at 0x0000019B32D977F0>,\n",
      "  'reason': 'OK',\n",
      "  'request': <PreparedRequest [POST]>,\n",
      "  'status_code': 200,\n",
      "  'url': 'https://r1132100527066-apk2-sgi.3dexperience.3ds.com:443/data-factory/resources/v1/objectstorage/82b61588-a6b6-4c4b-9b72-11e45736dfc5/upload'}\n"
     ]
    }
   ],
   "source": [
    "with open(os.path.join(os.getcwd(), \"Create A Storage.json\"), \"r\", encoding=\"utf-8\") as f:\n",
    "    info = json.load(f)\n",
    "    resource_uuid = info[\"resourceUUID\"]\n",
    "\n",
    "# 파일 업로드\n",
    "api = ObjectStorage()\n",
    "uploading_file = os.path.join(os.getcwd(), \"Create A Storage.json\")\n",
    "res = api.upload(resourceUUID=resource_uuid, file=uploading_file, path=None)\n",
    "# JSON 데이터 없음\n",
    "print(res)\n",
    "pp.pprint(res.__dict__)"
   ]
  },
  {
   "cell_type": "markdown",
   "id": "39cc6dbe",
   "metadata": {},
   "source": [
    "# USE CASE - 02\n",
    "- 디렉토리 내의 모든 파일을 업로드"
   ]
  },
  {
   "cell_type": "code",
   "execution_count": 15,
   "id": "9e588503",
   "metadata": {},
   "outputs": [
    {
     "data": {
      "text/plain": [
       "['f:\\\\pypjts\\\\DSE-REST-API\\\\How to use APIs\\\\01_Storages\\\\Create A Storage.json',\n",
       " 'f:\\\\pypjts\\\\DSE-REST-API\\\\How to use APIs\\\\01_Storages\\\\Search-1 the Storage.json',\n",
       " 'f:\\\\pypjts\\\\DSE-REST-API\\\\How to use APIs\\\\01_Storages\\\\Search-2 the Storage.json',\n",
       " 'f:\\\\pypjts\\\\DSE-REST-API\\\\How to use APIs\\\\01_Storages\\\\Storages List.json',\n",
       " 'f:\\\\pypjts\\\\DSE-REST-API\\\\How to use APIs\\\\01_Storages\\\\Tutorial.ipynb']"
      ]
     },
     "execution_count": 15,
     "metadata": {},
     "output_type": "execute_result"
    }
   ],
   "source": [
    "uploading_files = []\n",
    "_dir = os.path.join(os.path.dirname(os.getcwd()), \"01_Storages\")\n",
    "for root, dirs, files in os.walk(_dir):\n",
    "    for file in files:\n",
    "        uploading_files.append(os.path.join(root, file))\n",
    "\n",
    "uploading_files"
   ]
  },
  {
   "cell_type": "code",
   "execution_count": 17,
   "id": "38e00496",
   "metadata": {},
   "outputs": [
    {
     "name": "stderr",
     "output_type": "stream",
     "text": [
      "Uploading:  40%|████      | 2/5 [00:11<00:13,  4.62s/it]"
     ]
    },
    {
     "name": "stdout",
     "output_type": "stream",
     "text": [
      "\n",
      "응답코드--> 200\n",
      "\n",
      "응답코드--> 200\n"
     ]
    },
    {
     "name": "stderr",
     "output_type": "stream",
     "text": [
      "Uploading: 100%|██████████| 5/5 [00:15<00:00,  3.16s/it]"
     ]
    },
    {
     "name": "stdout",
     "output_type": "stream",
     "text": [
      "\n",
      "응답코드--> 200\n",
      "\n",
      "응답코드--> 200\n",
      "\n",
      "응답코드--> 200\n",
      "[ <Response [200]>,\n",
      "  <Response [200]>,\n",
      "  <Response [200]>,\n",
      "  <Response [200]>,\n",
      "  <Response [200]>]\n"
     ]
    },
    {
     "name": "stderr",
     "output_type": "stream",
     "text": [
      "\n"
     ]
    }
   ],
   "source": [
    "# 멀티 파일 업로드\n",
    "api = ObjectStorage()\n",
    "res_li = api.upload_files(resourceUUID=resource_uuid, files=uploading_files, path=None)\n",
    "pp.pprint(res_li)"
   ]
  },
  {
   "cell_type": "code",
   "execution_count": null,
   "id": "447fad90",
   "metadata": {},
   "outputs": [],
   "source": []
  },
  {
   "cell_type": "code",
   "execution_count": null,
   "id": "a9ae7ec9",
   "metadata": {},
   "outputs": [],
   "source": []
  }
 ],
 "metadata": {
  "kernelspec": {
   "display_name": ".env",
   "language": "python",
   "name": "python3"
  },
  "language_info": {
   "codemirror_mode": {
    "name": "ipython",
    "version": 3
   },
   "file_extension": ".py",
   "mimetype": "text/x-python",
   "name": "python",
   "nbconvert_exporter": "python",
   "pygments_lexer": "ipython3",
   "version": "3.12.9"
  }
 },
 "nbformat": 4,
 "nbformat_minor": 5
}
