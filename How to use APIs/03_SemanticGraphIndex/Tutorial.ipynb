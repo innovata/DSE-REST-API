{
 "cells": [
  {
   "cell_type": "markdown",
   "id": "bd945537",
   "metadata": {},
   "source": [
    "# 환경셋업"
   ]
  },
  {
   "cell_type": "code",
   "execution_count": 53,
   "id": "30760df7",
   "metadata": {},
   "outputs": [
    {
     "name": "stdout",
     "output_type": "stream",
     "text": [
      "Collecting dserestapi\n",
      "  Downloading dserestapi-0.1.4-py3-none-any.whl.metadata (8.2 kB)\n",
      "Requirement already satisfied: requests in f:\\pypjts\\dse-agent\\.env\\lib\\site-packages (from dserestapi) (2.32.4)\n",
      "Requirement already satisfied: tqdm in f:\\pypjts\\dse-agent\\.env\\lib\\site-packages (from dserestapi) (4.67.1)\n",
      "Requirement already satisfied: charset_normalizer<4,>=2 in f:\\pypjts\\dse-agent\\.env\\lib\\site-packages (from requests->dserestapi) (3.4.2)\n",
      "Requirement already satisfied: idna<4,>=2.5 in f:\\pypjts\\dse-agent\\.env\\lib\\site-packages (from requests->dserestapi) (3.10)\n",
      "Requirement already satisfied: urllib3<3,>=1.21.1 in f:\\pypjts\\dse-agent\\.env\\lib\\site-packages (from requests->dserestapi) (2.5.0)\n",
      "Requirement already satisfied: certifi>=2017.4.17 in f:\\pypjts\\dse-agent\\.env\\lib\\site-packages (from requests->dserestapi) (2025.7.14)\n",
      "Requirement already satisfied: colorama in f:\\pypjts\\dse-agent\\.env\\lib\\site-packages (from tqdm->dserestapi) (0.4.6)\n",
      "Downloading dserestapi-0.1.4-py3-none-any.whl (6.6 kB)\n",
      "Installing collected packages: dserestapi\n",
      "Successfully installed dserestapi-0.1.4\n"
     ]
    },
    {
     "name": "stderr",
     "output_type": "stream",
     "text": [
      "\n",
      "[notice] A new release of pip is available: 24.3.1 -> 25.1.1\n",
      "[notice] To update, run: python.exe -m pip install --upgrade pip\n"
     ]
    }
   ],
   "source": [
    "# 패키지 설치\n",
    "!pip install dserestapi "
   ]
  },
  {
   "cell_type": "code",
   "execution_count": 2,
   "id": "5ed69d0c",
   "metadata": {},
   "outputs": [],
   "source": [
    "import pprint\n",
    "pp = pprint.PrettyPrinter(indent=2)"
   ]
  },
  {
   "cell_type": "code",
   "execution_count": 3,
   "id": "7a0affb7",
   "metadata": {},
   "outputs": [],
   "source": [
    "# 사용자 본인의 ID/PW 를 입력하시기 바랍니다.\n",
    "import json \n",
    "credential = r\"N:\\My Drive\\__CREDENTIALS__\\3DS\\JLE69_GMAIL\\CML Agent ID-PW.json\"\n",
    "with open(credential, \"r\", encoding='utf-8') as f:\n",
    "    cred = json.load(f)\n",
    "os.environ[\"CLM_AGENT_ID\"] = cred['Agent ID']\n",
    "os.environ[\"CLM_AGENT_PASSWORD\"] = cred['Agent Password']"
   ]
  },
  {
   "cell_type": "code",
   "execution_count": 4,
   "id": "71e80753",
   "metadata": {},
   "outputs": [],
   "source": [
    "# 사용하시는 테넌트 URI 를 확인하시고 바꾸시기 바랍니다.\n",
    "os.environ['3DX_PLATFORM_TENANT_URI'] = \"https://r1132100527066-apk2-sgi.3dexperience.3ds.com:443\""
   ]
  },
  {
   "cell_type": "code",
   "execution_count": 52,
   "id": "e2afe6a9",
   "metadata": {},
   "outputs": [],
   "source": [
    "from importlib import reload \n",
    "import dserestapi \n",
    "reload(dserestapi)\n",
    "from dserestapi import Storages, ObjectStorage, SemanticGraphIndex"
   ]
  },
  {
   "cell_type": "markdown",
   "id": "cf5336b8",
   "metadata": {},
   "source": [
    "# USE CASE - 01\n",
    "- 데이터 모델링 \n",
    "- SemanticGraphIndex Storage 신규 생성 \n",
    "- 생성시 데이터 모델링을 동시에 수행 "
   ]
  },
  {
   "cell_type": "code",
   "execution_count": null,
   "id": "c173eb54",
   "metadata": {},
   "outputs": [],
   "source": [
    "# 데이터 모델링 \n",
    "data_modeling_config = {\n",
    "    \"datamodel\": {\n",
    "        \"classes\": [\n",
    "            {\n",
    "                \"name\": \"DummyData\",\n",
    "                \"parents\": [],\n",
    "                \"pkg\": \"Rawdata\",\n",
    "                \"attributes\": [\n",
    "                    {\n",
    "                        \"name\": \"seq\",\n",
    "                        \"type\": {\n",
    "                            \"dataType\": \"Integer\",\n",
    "                            \"dataStructure\": \"Singleton\"\n",
    "                        },\n",
    "                        \"annotation\": {}\n",
    "                    },\n",
    "                    {\n",
    "                        \"name\": \"title\",\n",
    "                        \"type\": {\n",
    "                            \"dataType\": \"String\",\n",
    "                            \"dataStructure\": \"Singleton\"\n",
    "                        },\n",
    "                        \"annotation\": {}\n",
    "                    },\n",
    "                    {\n",
    "                        \"name\": \"_text\",\n",
    "                        \"type\": {\n",
    "                            \"dataType\": \"String\",\n",
    "                            \"dataStructure\": \"Singleton\"\n",
    "                        },\n",
    "                        \"annotation\": {}\n",
    "                    }\n",
    "                ]\n",
    "            }\n",
    "        ]\n",
    "    }\n",
    "}"
   ]
  },
  {
   "cell_type": "code",
   "execution_count": null,
   "id": "272b518a",
   "metadata": {},
   "outputs": [],
   "source": []
  },
  {
   "cell_type": "code",
   "execution_count": 10,
   "id": "91d9ec75",
   "metadata": {},
   "outputs": [
    {
     "name": "stdout",
     "output_type": "stream",
     "text": [
      "\n",
      "응답코드--> 201\n"
     ]
    }
   ],
   "source": [
    "# 스토리지 생성\n",
    "api = Storages()\n",
    "res = api.create(\n",
    "    stype=\"IndexUnit\",\n",
    "    name=\"TestSGI_01_CreatedByRestAPI\",\n",
    "    description=\"테스트 후 삭제 | SGI 데이터 모델링 테스트\",\n",
    "    config=data_modeling_config\n",
    ")\n",
    "with open(os.path.join(os.getcwd(), \"Create A SGI.json\"), \"w\", encoding=\"utf-8\") as f:\n",
    "    json.dump(res.json(), f, ensure_ascii=False, indent=2)"
   ]
  },
  {
   "cell_type": "code",
   "execution_count": 12,
   "id": "1a133e9f",
   "metadata": {},
   "outputs": [
    {
     "name": "stdout",
     "output_type": "stream",
     "text": [
      "\n",
      "응답코드--> 200\n"
     ]
    },
    {
     "data": {
      "text/plain": [
       "'5327b9fc-dbd7-40dc-9136-082e0cc1c6d8'"
      ]
     },
     "execution_count": 12,
     "metadata": {},
     "output_type": "execute_result"
    }
   ],
   "source": [
    "sgi = SemanticGraphIndex()\n",
    "res = sgi.get_index(sgi_name=\"TestSGI_01_CreatedByRestAPI\")\n",
    "with open(os.path.join(os.getcwd(), \"Get an Index.json\"), \"w\", encoding=\"utf-8\") as f:\n",
    "    json.dump(res.json(), f, ensure_ascii=False, indent=2)\n",
    "\n",
    "sgi_info = res.json()\n",
    "resource_uuid = sgi_info[\"resourceUUID\"]\n",
    "resource_uuid"
   ]
  },
  {
   "cell_type": "code",
   "execution_count": 41,
   "id": "e61eb05c",
   "metadata": {},
   "outputs": [
    {
     "name": "stdout",
     "output_type": "stream",
     "text": [
      "\n",
      "응답코드--> 200\n"
     ]
    }
   ],
   "source": [
    "# 생성한 데이터 모델 개수 확인\n",
    "res = sgi.class_count(resourceUUID=resource_uuid, pkg_name=\"Rawdata\", class_name_li=[\"DummyData\"])\n",
    "with open(os.path.join(os.getcwd(), \"Class Count.json\"), \"w\", encoding=\"utf-8\") as f:\n",
    "    json.dump(res.json(), f, ensure_ascii=False, indent=2)"
   ]
  },
  {
   "cell_type": "markdown",
   "id": "4c297fbb",
   "metadata": {},
   "source": [
    "# USE CASE - 02\n",
    "- 데이터 모델 스키마에 맞는 데이터 생성 \n",
    "- 스키마에 맞는 데이터 타입인지 정합성 체크 \n",
    "- 생성한 SGI의 타겟 데이터 모델에 데이터 주입/적재 "
   ]
  },
  {
   "cell_type": "code",
   "execution_count": 44,
   "id": "735311dd",
   "metadata": {},
   "outputs": [],
   "source": [
    "# 데이터 생성 \n",
    "data = [\n",
    "    {\n",
    "        \"class\": \"Rawdata.DummyData\",\n",
    "        \"seq\": 1,\n",
    "        \"title\": \"This is a title\",\n",
    "        \"_text\": \"bla bla bla bla bla bla bla bla bla bla bla bla bla bla bla bla bla bla bla bla bla bla bla bla~\"\n",
    "    },\n",
    "    {\n",
    "        \"class\": \"Rawdata.DummyData\",\n",
    "        \"seq\": 2,\n",
    "        \"title\": \"This is a title-2\",\n",
    "        \"_text\": \"(2) bla bla bla bla bla bla bla bla bla bla bla bla bla bla bla bla bla bla bla bla bla bla bla bla~\"\n",
    "    },\n",
    "]"
   ]
  },
  {
   "cell_type": "code",
   "execution_count": 45,
   "id": "a4cd9e35",
   "metadata": {},
   "outputs": [
    {
     "name": "stdout",
     "output_type": "stream",
     "text": [
      "\n",
      "응답코드--> 200\n"
     ]
    }
   ],
   "source": [
    "# 주입할 데이터의 정합성 체크 \n",
    "sgi = SemanticGraphIndex()\n",
    "res = sgi.validateItemsEvent(resourceUUID=resource_uuid, action=\"AddOrReplaceItem\", data=data)\n",
    "res \n",
    "with open(os.path.join(os.getcwd(), \"Validation Items.json\"), \"w\", encoding=\"utf-8\") as f:\n",
    "    json.dump(res.json(), f, ensure_ascii=False, indent=2)"
   ]
  },
  {
   "cell_type": "code",
   "execution_count": 46,
   "id": "a1881d8f",
   "metadata": {},
   "outputs": [
    {
     "name": "stdout",
     "output_type": "stream",
     "text": [
      "\n",
      "응답코드--> 200\n"
     ]
    }
   ],
   "source": [
    "# 데이터 주입/적재\n",
    "res = sgi.ingest(resourceUUID=resource_uuid, data=data)\n",
    "with open(os.path.join(os.getcwd(), \"Ingest Data.json\"), \"w\", encoding=\"utf-8\") as f:\n",
    "    json.dump(res.json(), f, ensure_ascii=False, indent=2)"
   ]
  },
  {
   "cell_type": "code",
   "execution_count": 47,
   "id": "fa5e6699",
   "metadata": {},
   "outputs": [
    {
     "name": "stdout",
     "output_type": "stream",
     "text": [
      "\n",
      "응답코드--> 200\n"
     ]
    }
   ],
   "source": [
    "# 데이터 주입/적재 결과 알림 받기 \n",
    "res = sgi.notification(resourceUUID=resource_uuid)\n",
    "with open(os.path.join(os.getcwd(), \"Notification.json\"), \"w\", encoding=\"utf-8\") as f:\n",
    "    json.dump(res.json(), f, ensure_ascii=False, indent=2)"
   ]
  },
  {
   "cell_type": "code",
   "execution_count": 49,
   "id": "9f7fd0d7",
   "metadata": {},
   "outputs": [
    {
     "name": "stdout",
     "output_type": "stream",
     "text": [
      "\n",
      "응답코드--> 200\n"
     ]
    }
   ],
   "source": [
    "# 주입한 데이터의 object 별 uri 가져오기\n",
    "res = sgi.get_uri(resourceUUID=resource_uuid)\n",
    "with open(os.path.join(os.getcwd(), \"SGI URI.json\"), \"w\", encoding=\"utf-8\") as f:\n",
    "    json.dump(res.json(), f, ensure_ascii=False, indent=2)"
   ]
  },
  {
   "cell_type": "code",
   "execution_count": null,
   "id": "802bc9bf",
   "metadata": {},
   "outputs": [],
   "source": []
  },
  {
   "cell_type": "code",
   "execution_count": null,
   "id": "99e15e38",
   "metadata": {},
   "outputs": [],
   "source": []
  },
  {
   "cell_type": "code",
   "execution_count": null,
   "id": "da91957d",
   "metadata": {},
   "outputs": [],
   "source": []
  },
  {
   "cell_type": "code",
   "execution_count": null,
   "id": "5e245a64",
   "metadata": {},
   "outputs": [],
   "source": []
  },
  {
   "cell_type": "code",
   "execution_count": null,
   "id": "7857ac76",
   "metadata": {},
   "outputs": [],
   "source": []
  }
 ],
 "metadata": {
  "kernelspec": {
   "display_name": ".env",
   "language": "python",
   "name": "python3"
  },
  "language_info": {
   "codemirror_mode": {
    "name": "ipython",
    "version": 3
   },
   "file_extension": ".py",
   "mimetype": "text/x-python",
   "name": "python",
   "nbconvert_exporter": "python",
   "pygments_lexer": "ipython3",
   "version": "3.12.9"
  }
 },
 "nbformat": 4,
 "nbformat_minor": 5
}
