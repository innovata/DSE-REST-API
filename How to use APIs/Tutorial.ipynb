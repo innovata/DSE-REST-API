{
 "cells": [
  {
   "cell_type": "markdown",
   "id": "c09ee781",
   "metadata": {},
   "source": [
    "# Documentation \n",
    "https://github.com/innovata/DSE-REST-API  "
   ]
  },
  {
   "cell_type": "markdown",
   "id": "1e5a435e",
   "metadata": {},
   "source": [
    "# [1] 3DEXPERIENCE Platform CLM Agent 생성  \n",
    "- \"F:\\pypjts\\DSE-REST-API\\How to use APIs\\credentials\"경로에 Agent ID, Password 저장 "
   ]
  },
  {
   "cell_type": "markdown",
   "id": "1f037d39",
   "metadata": {},
   "source": [
    "# [2] 파이썬 가상환경(Python Virtual Environment) 생성 및 dserestapi 패키지 설치\n",
    "\n"
   ]
  },
  {
   "cell_type": "code",
   "execution_count": 120,
   "id": "40687b0a",
   "metadata": {},
   "outputs": [],
   "source": [
    "# 개발용 경로설정\n",
    "import os, sys \n",
    "sys.path.append(r\"F:\\pypjts\\DSE-REST-API\\src\")"
   ]
  },
  {
   "cell_type": "code",
   "execution_count": null,
   "id": "abc20d38",
   "metadata": {},
   "outputs": [],
   "source": [
    "# 커맨드 프롬프트 사용 권장\n",
    "# !pip install dserestapi"
   ]
  },
  {
   "cell_type": "markdown",
   "id": "12d18a3b",
   "metadata": {},
   "source": [
    "# [3] 환경셋업"
   ]
  },
  {
   "cell_type": "code",
   "execution_count": 118,
   "id": "2659e45f",
   "metadata": {},
   "outputs": [
    {
     "name": "stdout",
     "output_type": "stream",
     "text": [
      "['CLM_AGENT_CREDENTIAL_PATH', 'F:\\\\pypjts\\\\DSE-REST-API\\\\How to use APIs\\\\credentials\\\\CML Agent ID-PW.json']\n",
      "['3DX_PLATFORM_TENANT_URI', 'https://r1132100527066-apk2-sgi.3dexperience.3ds.com:443']\n"
     ]
    }
   ],
   "source": [
    "import os\n",
    "import re \n",
    "os.environ[\"CLM_AGENT_CREDENTIAL_PATH\"] = r\"F:\\pypjts\\DSE-REST-API\\How to use APIs\\credentials\\CML Agent ID-PW.json\"\n",
    "os.environ[\"3DX_PLATFORM_TENANT_URI\"] = \"https://r1132100527066-apk2-sgi.3dexperience.3ds.com:443\"\n",
    "for k, v in os.environ.items():\n",
    "    if re.search(r\"^CLM|^3DX\", k):\n",
    "        print([k, v])"
   ]
  },
  {
   "cell_type": "code",
   "execution_count": 119,
   "id": "d918e5d6",
   "metadata": {},
   "outputs": [
    {
     "data": {
      "text/plain": [
       "<module 'dserestapi' from 'F:\\\\pypjts\\\\DSE-REST-API\\\\src\\\\dserestapi\\\\__init__.py'>"
      ]
     },
     "execution_count": 119,
     "metadata": {},
     "output_type": "execute_result"
    }
   ],
   "source": [
    "import dserestapi \n",
    "dserestapi"
   ]
  },
  {
   "cell_type": "markdown",
   "id": "168ad45e",
   "metadata": {},
   "source": [
    "# [4] 사용 예제 | Storages"
   ]
  },
  {
   "cell_type": "code",
   "execution_count": 123,
   "id": "0a919406",
   "metadata": {},
   "outputs": [
    {
     "data": {
      "text/plain": [
       "<dserestapi.Storages at 0x1de5aea5be0>"
      ]
     },
     "execution_count": 123,
     "metadata": {},
     "output_type": "execute_result"
    }
   ],
   "source": [
    "from dserestapi import Storages\n",
    "api = Storages()\n",
    "api "
   ]
  },
  {
   "cell_type": "markdown",
   "id": "25c65d0b",
   "metadata": {},
   "source": [
    "### [4.1] 스토리지 목록 가져오기 "
   ]
  },
  {
   "cell_type": "code",
   "execution_count": 124,
   "id": "bdb2f79d",
   "metadata": {},
   "outputs": [
    {
     "data": {
      "text/plain": [
       "<Response [200]>"
      ]
     },
     "execution_count": 124,
     "metadata": {},
     "output_type": "execute_result"
    }
   ],
   "source": [
    "# 모든 스토리지 리스트 가져오기\n",
    "res = api.get()\n",
    "res"
   ]
  },
  {
   "cell_type": "code",
   "execution_count": 125,
   "id": "a92e1d81",
   "metadata": {},
   "outputs": [],
   "source": [
    "import json \n",
    "file = os.path.join(os.getcwd(), \"01_Storages\", \"Storages List.json\")\n",
    "with open(file, \"w\", encoding=\"utf-8\") as f:\n",
    "    json.dump(res.json(), f, ensure_ascii=False, indent=2)"
   ]
  },
  {
   "cell_type": "code",
   "execution_count": 126,
   "id": "665e908b",
   "metadata": {},
   "outputs": [],
   "source": [
    "# !pip install pandas "
   ]
  },
  {
   "cell_type": "code",
   "execution_count": 142,
   "id": "d1f21d37",
   "metadata": {},
   "outputs": [
    {
     "data": {
      "application/vnd.microsoft.datawrangler.viewer.v0+json": {
       "columns": [
        {
         "name": "index",
         "rawType": "int64",
         "type": "integer"
        },
        {
         "name": "id",
         "rawType": "object",
         "type": "string"
        },
        {
         "name": "resourceId",
         "rawType": "object",
         "type": "string"
        },
        {
         "name": "projectId",
         "rawType": "object",
         "type": "string"
        },
        {
         "name": "resourceUUID",
         "rawType": "object",
         "type": "string"
        },
        {
         "name": "workspaceId",
         "rawType": "object",
         "type": "string"
        },
        {
         "name": "name",
         "rawType": "object",
         "type": "string"
        },
        {
         "name": "creator",
         "rawType": "object",
         "type": "string"
        },
        {
         "name": "kind",
         "rawType": "object",
         "type": "string"
        },
        {
         "name": "type",
         "rawType": "object",
         "type": "string"
        },
        {
         "name": "created",
         "rawType": "int64",
         "type": "integer"
        },
        {
         "name": "lastModified",
         "rawType": "int64",
         "type": "integer"
        },
        {
         "name": "permissions",
         "rawType": "object",
         "type": "unknown"
        }
       ],
       "ref": "c46993b1-9bd5-4da0-b94f-2e4a38542d6a",
       "rows": [
        [
         "0",
         "0add512f-3759-487b-aa40-9c5019874ea3",
         "20241217_16:00_dsjeon_storage",
         "dp-global-000000",
         "0add512f-3759-487b-aa40-9c5019874ea3",
         "dw-global-000000-default",
         "20241217_16:00_dsjeon_storage",
         "jeondongsoo",
         "Storage",
         "ObjectStorage",
         "1734418711011",
         "1734418711007",
         "{'read': True, 'write': True, 'execute': True}"
        ],
        [
         "1",
         "7118465e-739b-4746-8fc7-657755764ee7",
         "240129_part_information_OU3",
         "dp-global-000000",
         "7118465e-739b-4746-8fc7-657755764ee7",
         "dw-global-000000-default",
         "240129_part_information_OU3",
         "N/A",
         "Storage",
         "IndexUnit",
         "1707553208946",
         "1745657169549",
         "{'read': True, 'write': True, 'execute': True}"
        ],
        [
         "2",
         "R1132100527066_3DS_AdditiveManufacturingQualityAnalyst_Data",
         "3DS_AdditiveManufacturingQualityAnalyst_Data",
         "ca221e4a-46b1-43b1-9c3e-4eea8a0aa662",
         "R1132100527066_3DS_AdditiveManufacturingQualityAnalyst_Data",
         "ca221e4a-46b1-43b1-9c3e-4eea8a0aa662",
         "3DS_AdditiveManufacturingQualityAnalyst_Data",
         "svc_sgi_clouduser",
         "Storage",
         "ObjectStorage",
         "1751697876373",
         "1751697876334",
         "{'read': True, 'write': True, 'execute': True}"
        ],
        [
         "3",
         "R1132100527066_3DS_AdditiveManufacturingQualityAnalyst_Image",
         "3DS_AdditiveManufacturingQualityAnalyst_Image",
         "ca221e4a-46b1-43b1-9c3e-4eea8a0aa662",
         "R1132100527066_3DS_AdditiveManufacturingQualityAnalyst_Image",
         "ca221e4a-46b1-43b1-9c3e-4eea8a0aa662",
         "3DS_AdditiveManufacturingQualityAnalyst_Image",
         "svc_sgi_clouduser",
         "Storage",
         "ObjectStorage",
         "1751697876576",
         "1751697876537",
         "{'read': True, 'write': True, 'execute': True}"
        ],
        [
         "4",
         "R1132100527066_3DS_AdditiveManufacturingQualityAnalyst_Result",
         "3DS_AdditiveManufacturingQualityAnalyst_Result",
         "ca221e4a-46b1-43b1-9c3e-4eea8a0aa662",
         "R1132100527066_3DS_AdditiveManufacturingQualityAnalyst_Result",
         "ca221e4a-46b1-43b1-9c3e-4eea8a0aa662",
         "3DS_AdditiveManufacturingQualityAnalyst_Result",
         "svc_sgi_clouduser",
         "Storage",
         "ObjectStorage",
         "1751697876473",
         "1751697876435",
         "{'read': True, 'write': True, 'execute': True}"
        ],
        [
         "5",
         "R1132100527066_3DS_AdditiveManufacturingQualityAnalyst_SGI",
         "3DS_AdditiveManufacturingQualityAnalyst_SGI",
         "ca221e4a-46b1-43b1-9c3e-4eea8a0aa662",
         "R1132100527066_3DS_AdditiveManufacturingQualityAnalyst_SGI",
         "ca221e4a-46b1-43b1-9c3e-4eea8a0aa662",
         "3DS_AdditiveManufacturingQualityAnalyst_SGI",
         "svc_sgi_clouduser",
         "Storage",
         "IndexUnit",
         "1751697876280",
         "1751697876130",
         "{'read': True, 'write': True, 'execute': True}"
        ],
        [
         "6",
         "R1132100527066_3DS_Clustering_Data",
         "3DS_Clustering_Data",
         "dp-global-000000",
         "R1132100527066_3DS_Clustering_Data",
         "dw-global-000000-default",
         "3DS_Clustering_Data",
         "N/A",
         "Storage",
         "IndexUnit",
         "1707553209072",
         "1745657169645",
         "{'read': True, 'write': True, 'execute': True}"
        ],
        [
         "7",
         "R1132100527066_3DS_FieldQualityIntelligence_Data",
         "3DS_FieldQualityIntelligence_Data",
         "dp-fieldqualityintelligence-000000",
         "R1132100527066_3DS_FieldQualityIntelligence_Data",
         "dp-fieldqualityintelligence-000000",
         "3DS_FieldQualityIntelligence_Data",
         "svc_sgi_clouduser",
         "Storage",
         "IndexUnit",
         "1751698135340",
         "1751698135288",
         "{'read': True, 'write': False, 'execute': True}"
        ],
        [
         "8",
         "R1132100527066_3DS_FieldQualityIntelligence_storage",
         "3DS_FieldQualityIntelligence_storage",
         "dp-fieldqualityintelligence-000000",
         "R1132100527066_3DS_FieldQualityIntelligence_storage",
         "dp-fieldqualityintelligence-000000",
         "3DS_FieldQualityIntelligence_storage",
         "svc_sgi_clouduser",
         "Storage",
         "ObjectStorage",
         "1751698135433",
         "1751698135393",
         "{'read': True, 'write': True, 'execute': True}"
        ],
        [
         "9",
         "R1132100527066_3DS_IQ_MolecularTable",
         "3DS_IQ_MolecularTable",
         "dp-bioviainsightqueries-000000",
         "R1132100527066_3DS_IQ_MolecularTable",
         "dp-bioviainsightqueries-000000",
         "3DS_IQ_MolecularTable",
         "svc_sgi_clouduser",
         "Storage",
         "IndexUnit",
         "1751697942920",
         "1751697942866",
         "{'read': True, 'write': True, 'execute': True}"
        ],
        [
         "10",
         "R1132100527066_3DS_MI_ImportConsolidatedData",
         "3DS_MI_ImportConsolidatedData",
         "dp-bioviamaterialsintelligence-000000",
         "R1132100527066_3DS_MI_ImportConsolidatedData",
         "dp-bioviamaterialsintelligence-000000",
         "3DS_MI_ImportConsolidatedData",
         "svc_sgi_clouduser",
         "Storage",
         "S3Storage",
         "1751698021284",
         "1751698021274",
         "{'read': True, 'write': True, 'execute': True}"
        ],
        [
         "11",
         "R1132100527066_3DS_ManufacturingEngineeringIntelligence_Consolidation",
         "3DS_ManufacturingEngineeringIntelligence_Consolidation",
         "1d99889d-91a9-47c6-ae10-5a0f0c06bee5",
         "R1132100527066_3DS_ManufacturingEngineeringIntelligence_Consolidation",
         "1d99889d-91a9-47c6-ae10-5a0f0c06bee5",
         "3DS_ManufacturingEngineeringIntelligence_Consolidation",
         "svc_sgi_clouduser",
         "Storage",
         "IndexUnit",
         "1751698149286",
         "1751698149227",
         "{'read': True, 'write': True, 'execute': True}"
        ],
        [
         "12",
         "R1132100527066_3DS_ModelBasedSystemEngineering_Search",
         "3DS_ModelBasedSystemEngineering_Search",
         "6cc6c82c-1181-4b51-9af5-75865de628b2",
         "R1132100527066_3DS_ModelBasedSystemEngineering_Search",
         "6cc6c82c-1181-4b51-9af5-75865de628b2",
         "3DS_ModelBasedSystemEngineering_Search",
         "svc_sgi_clouduser",
         "Storage",
         "IndexUnit",
         "1751698256678",
         "1751698256625",
         "{'read': True, 'write': False, 'execute': True}"
        ],
        [
         "13",
         "R1132100527066_3DS_ProcurementIntelligence_Data",
         "3DS_ProcurementIntelligence_Data",
         "a818380d-3daf-40b4-91f0-4667fcfd0c8c",
         "R1132100527066_3DS_ProcurementIntelligence_Data",
         "a818380d-3daf-40b4-91f0-4667fcfd0c8c",
         "3DS_ProcurementIntelligence_Data",
         "svc_sgi_clouduser",
         "Storage",
         "IndexUnit",
         "1751698162467",
         "1751698162414",
         "{'read': True, 'write': False, 'execute': True}"
        ],
        [
         "14",
         "R1132100527066_3DS_ProcurementIntelligence_ERPStorage",
         "3DS_ProcurementIntelligence_ERPStorage",
         "a818380d-3daf-40b4-91f0-4667fcfd0c8c",
         "R1132100527066_3DS_ProcurementIntelligence_ERPStorage",
         "a818380d-3daf-40b4-91f0-4667fcfd0c8c",
         "3DS_ProcurementIntelligence_ERPStorage",
         "svc_sgi_clouduser",
         "Storage",
         "ObjectStorage",
         "1751698162297",
         "1751698162258",
         "{'read': True, 'write': True, 'execute': True}"
        ],
        [
         "15",
         "R1132100527066_3DS_ProcurementIntelligence_ExternalData",
         "3DS_ProcurementIntelligence_ExternalData",
         "a818380d-3daf-40b4-91f0-4667fcfd0c8c",
         "R1132100527066_3DS_ProcurementIntelligence_ExternalData",
         "a818380d-3daf-40b4-91f0-4667fcfd0c8c",
         "3DS_ProcurementIntelligence_ExternalData",
         "N/A",
         "Storage",
         "IndexUnit",
         "1751698162625",
         "1751698162571",
         "{'read': True, 'write': True, 'execute': True}"
        ],
        [
         "16",
         "a3672732-e712-44a1-86d5-96b85cb27afc",
         "3DSpace",
         "dp-3dspace-000000",
         "a3672732-e712-44a1-86d5-96b85cb27afc",
         "dw-3dspace-000000-default",
         "3DSpace",
         "svc_sgi_clouduser",
         "Storage",
         "IndexUnit",
         "1745657299647",
         "1751710779547",
         "{'read': True, 'write': False, 'execute': False}"
        ],
        [
         "17",
         "2d0f5d0f-d1de-4007-9115-5aaf42ab682e",
         "3dnetwork",
         "dp-3dnetwork-000000",
         "2d0f5d0f-d1de-4007-9115-5aaf42ab682e",
         "dw-3dnetwork-000000-default",
         "3dnetwork",
         "svc_sgi_clouduser",
         "Storage",
         "IndexUnit",
         "1748362699788",
         "1751707587298",
         "{'read': True, 'write': False, 'execute': False}"
        ],
        [
         "18",
         "be91132e-f85b-4370-872c-2ee5f09f0796",
         "3dorganization",
         "dp-3dorganization-000000",
         "be91132e-f85b-4370-872c-2ee5f09f0796",
         "dw-3dorganization-000000-default",
         "3dorganization",
         "svc_sgi_clouduser",
         "Storage",
         "IndexUnit",
         "1745657296251",
         "1745657294104",
         "{'read': True, 'write': False, 'execute': False}"
        ],
        [
         "19",
         "fb2b5ec4-0fe1-43a4-b61d-a4c26f53abdc",
         "3dplan",
         "dp-3dplan-000000",
         "fb2b5ec4-0fe1-43a4-b61d-a4c26f53abdc",
         "dw-3dplan-000000-default",
         "3dplan",
         "svc_sgi_clouduser",
         "Storage",
         "IndexUnit",
         "1745669346606",
         "1751707645419",
         "{'read': True, 'write': False, 'execute': False}"
        ],
        [
         "20",
         "R1132100527066_3dplan_Baseline",
         "3dplan_Baseline",
         "20f147c2-5b24-4a71-af10-81521fbcf73a",
         "R1132100527066_3dplan_Baseline",
         "20f147c2-5b24-4a71-af10-81521fbcf73a",
         "3dplan_Baseline",
         "svc_sgi_clouduser",
         "Storage",
         "IndexUnit",
         "1751698223408",
         "1751698223357",
         "{'read': True, 'write': True, 'execute': True}"
        ],
        [
         "21",
         "069a5dfa-bb76-428a-9b5c-9b2a80abce99",
         "6WTags",
         "dp-6wtags-000000",
         "069a5dfa-bb76-428a-9b5c-9b2a80abce99",
         "dw-6wtags-000000-default",
         "6WTags",
         "svc_sgi_clouduser",
         "Storage",
         "IndexUnit",
         "1745657301190",
         "1745666203072",
         "{'read': True, 'write': False, 'execute': False}"
        ],
        [
         "22",
         "3f2c1d90-c971-48d2-bdea-6fe016239dad",
         "BusinessProcess",
         "dp-global-000000",
         "3f2c1d90-c971-48d2-bdea-6fe016239dad",
         "dw-global-000000-default",
         "BusinessProcess",
         "svc_iterop_clouduser",
         "Storage",
         "IndexUnit",
         "1726900285706",
         "1726900285703",
         "{'read': True, 'write': False, 'execute': True}"
        ],
        [
         "23",
         "525ee943-5a35-4d98-a9f4-e9d83fdb92ed",
         "DATAFLOW_SGI",
         "dp-global-000000",
         "525ee943-5a35-4d98-a9f4-e9d83fdb92ed",
         "dw-global-000000-default",
         "DATAFLOW_SGI",
         "jihunyoon",
         "Storage",
         "IndexUnit",
         "1734678235580",
         "1734678235574",
         "{'read': True, 'write': True, 'execute': True}"
        ],
        [
         "24",
         "3eb778e6-a1fb-48a3-81a4-eeacba7282ea",
         "DATASET",
         "901e3c05-6645-4ddb-b263-f87749f43231",
         "3eb778e6-a1fb-48a3-81a4-eeacba7282ea",
         "dw-6645-4ddb-youtubedataanalytics",
         "DATASET",
         "jle69_gmail",
         "Storage",
         "ObjectStorage",
         "1752297014907",
         "1752297014916",
         "{'read': True, 'write': True, 'execute': True}"
        ],
        [
         "25",
         "e1730c37-37c6-4b43-a59c-22286a39496b",
         "DATASET",
         "dp-netvibestrainingprogram-881699",
         "e1730c37-37c6-4b43-a59c-22286a39496b",
         "dw-netvibestrainingprogram-881699-biginnerlevel",
         "DATASET",
         "jle69",
         "Storage",
         "ObjectStorage",
         "1752471182303",
         "1752471182337",
         "{'read': True, 'write': True, 'execute': True}"
        ],
        [
         "26",
         "e0a395a2-ec43-41ff-a376-d6006c68dbbe",
         "DATASET",
         "dp-jle69ptoyproject-874623",
         "e0a395a2-ec43-41ff-a376-d6006c68dbbe",
         "dw-jle69ptoyproject-874623-youtubedataanalytics",
         "DATASET",
         "jle69_gmail",
         "Storage",
         "ObjectStorage",
         "1752307565391",
         "1752307565394",
         "{'read': True, 'write': True, 'execute': True}"
        ],
        [
         "27",
         "3739ef15-1177-4ea6-b7d8-62dabf30544d",
         "DATASET",
         "901e3c05-6645-4ddb-b263-f87749f43231",
         "3739ef15-1177-4ea6-b7d8-62dabf30544d",
         "dw-6645-4ddb-stocktraderstudio",
         "DATASET",
         "jle69",
         "Storage",
         "ObjectStorage",
         "1752125255046",
         "1752125277066",
         "{'read': True, 'write': True, 'execute': True}"
        ],
        [
         "28",
         "fa720da6-8f57-49b0-ba8e-ce57f3fca92d",
         "DATASET",
         "dp-dseagent-716118",
         "fa720da6-8f57-49b0-ba8e-ce57f3fca92d",
         "dw-dseagent-716118-workspace",
         "DATASET",
         "jle69_gmail",
         "Storage",
         "ObjectStorage",
         "1751874395411",
         "1751874395442",
         "{'read': True, 'write': True, 'execute': True}"
        ],
        [
         "29",
         "R1132100527066_DELMIA_SnOP_DataModel",
         "DELMIA_SnOP_DataModel",
         "dp-global-000000",
         "R1132100527066_DELMIA_SnOP_DataModel",
         "dw-global-000000-default",
         "DELMIA_SnOP_DataModel",
         "svc_sgi_clouduser",
         "Storage",
         "IndexUnit",
         "1720256627665",
         "1707561887551",
         "{'read': True, 'write': True, 'execute': True}"
        ],
        [
         "30",
         "R1132100527066_DELMIA_SnOP_Images",
         "DELMIA_SnOP_Images",
         "dp-global-000000",
         "R1132100527066_DELMIA_SnOP_Images",
         "dw-global-000000-default",
         "DELMIA_SnOP_Images",
         "N/A",
         "Storage",
         "ObjectStorage",
         "1720256627668",
         "1707561224191",
         "{'read': True, 'write': True, 'execute': True}"
        ],
        [
         "31",
         "R1132100527066_DELMIA_SnOP_Metric",
         "DELMIA_SnOP_Metric",
         "dp-global-000000",
         "R1132100527066_DELMIA_SnOP_Metric",
         "dw-global-000000-default",
         "DELMIA_SnOP_Metric",
         "N/A",
         "Storage",
         "IndexUnit",
         "1707553208309",
         "1745657169739",
         "{'read': True, 'write': True, 'execute': True}"
        ],
        [
         "32",
         "R1132100527066_DELMIA_SnOP_Storage",
         "DELMIA_SnOP_Storage",
         "dp-global-000000",
         "R1132100527066_DELMIA_SnOP_Storage",
         "dw-global-000000-default",
         "DELMIA_SnOP_Storage",
         "N/A",
         "Storage",
         "ObjectStorage",
         "1720256627670",
         "1707561224140",
         "{'read': True, 'write': True, 'execute': True}"
        ],
        [
         "33",
         "a2ab2c11-36c8-46fa-8212-131bbcdabfec",
         "DF_TEST",
         "dp-global-000000",
         "a2ab2c11-36c8-46fa-8212-131bbcdabfec",
         "dw-global-000000-default",
         "DF_TEST",
         "jihunyoon",
         "Storage",
         "ObjectStorage",
         "1734497873628",
         "1734497873623",
         "{'read': True, 'write': True, 'execute': True}"
        ],
        [
         "34",
         "a945e9cc-8bfb-4aa3-b23e-bfd7e2e1ceba",
         "DF_TEST_SGI",
         "dp-global-000000",
         "a945e9cc-8bfb-4aa3-b23e-bfd7e2e1ceba",
         "dw-global-000000-default",
         "DF_TEST_SGI",
         "jihunyoon",
         "Storage",
         "IndexUnit",
         "1734501357681",
         "1734501357677",
         "{'read': True, 'write': True, 'execute': True}"
        ],
        [
         "35",
         "25626555-7e90-4907-91e5-313870a6bb1d",
         "DummyData",
         "dp-netvibestrainingprogram-881699",
         "25626555-7e90-4907-91e5-313870a6bb1d",
         "dw-netvibestrainingprogram-881699-biginnerlevel",
         "DummyData",
         "jle69",
         "Storage",
         "IndexUnit",
         "1753176698529",
         "1753179183318",
         "{'read': True, 'write': True, 'execute': True}"
        ],
        [
         "36",
         "95402619-a89f-46da-8c34-d1955703e71c",
         "EDRCou3InternalBucket",
         "dp-global-000000",
         "95402619-a89f-46da-8c34-d1955703e71c",
         "dw-global-000000-default",
         "EDRCou3InternalBucket",
         "N/A",
         "Storage",
         "ObjectStorage",
         "1707553209043",
         "1745657169927",
         "{'read': True, 'write': True, 'execute': True}"
        ],
        [
         "37",
         "8fc53b1d-9f40-41d8-a237-2c7721b359d0",
         "EDRCou3index",
         "dp-global-000000",
         "8fc53b1d-9f40-41d8-a237-2c7721b359d0",
         "dw-global-000000-default",
         "EDRCou3index",
         "N/A",
         "Storage",
         "IndexUnit",
         "1751081541885",
         "1751081539438",
         "{'read': True, 'write': True, 'execute': True}"
        ],
        [
         "38",
         "36d01723-6463-4e57-9a21-883349a619ff",
         "EPC-K5K-BUCKET",
         "dp-global-000000",
         "36d01723-6463-4e57-9a21-883349a619ff",
         "dw-global-000000-default",
         "EPC-K5K-BUCKET",
         "N/A",
         "Storage",
         "ObjectStorage",
         "1707553208905",
         "1745657169945",
         "{'read': True, 'write': True, 'execute': True}"
        ],
        [
         "39",
         "16275aeb-2dcc-43e2-9e2d-c1c65a12baf7",
         "EPC-K5K-INDEXUNIT",
         "dp-global-000000",
         "16275aeb-2dcc-43e2-9e2d-c1c65a12baf7",
         "dw-global-000000-default",
         "EPC-K5K-INDEXUNIT",
         "N/A",
         "Storage",
         "IndexUnit",
         "1707553208930",
         "1745657169963",
         "{'read': True, 'write': True, 'execute': True}"
        ],
        [
         "40",
         "R1132100527066_ERPStorage",
         "ERPStorage",
         "dp-global-000000",
         "R1132100527066_ERPStorage",
         "dw-global-000000-default",
         "ERPStorage",
         "svc_sgi_clouduser",
         "Storage",
         "ObjectStorage",
         "1720256627671",
         "1720233822226",
         "{'read': True, 'write': True, 'execute': True}"
        ],
        [
         "41",
         "d27534ab-e09f-492a-a75a-223e97c390f0",
         "ETH94.TESTDATASET",
         "dp-global-000000",
         "d27534ab-e09f-492a-a75a-223e97c390f0",
         "dw-global-000000-default",
         "ETH94.TESTDATASET",
         "eomtaehyun",
         "Storage",
         "ObjectStorage",
         "1734419170856",
         "1734419170852",
         "{'read': True, 'write': True, 'execute': True}"
        ],
        [
         "42",
         "e5281160-f15b-4b9d-a9cb-34e7f2a2ac7b",
         "ETH94_ICTPEOPLE_Date_SGI",
         "dp-global-000000",
         "e5281160-f15b-4b9d-a9cb-34e7f2a2ac7b",
         "dw-global-000000-default",
         "ETH94_ICTPEOPLE_Date_SGI",
         "eomtaehyun",
         "Storage",
         "IndexUnit",
         "1734419635468",
         "1734419635462",
         "{'read': True, 'write': True, 'execute': True}"
        ],
        [
         "43",
         "2a3e5921-5434-47c2-a62e-cdf645bc865e",
         "ETH94_ICTPEOPLE_Date_SGI1",
         "dp-global-000000",
         "2a3e5921-5434-47c2-a62e-cdf645bc865e",
         "dw-global-000000-default",
         "ETH94_ICTPEOPLE_Date_SGI1",
         "eomtaehyun",
         "Storage",
         "IndexUnit",
         "1734420722276",
         "1734420722272",
         "{'read': True, 'write': True, 'execute': True}"
        ],
        [
         "44",
         "d7b26fe8-3e58-4d8d-81f7-48cbd66ff2ad",
         "ETH94_ICTPEOPLE_SGI",
         "dp-global-000000",
         "d7b26fe8-3e58-4d8d-81f7-48cbd66ff2ad",
         "dw-global-000000-default",
         "ETH94_ICTPEOPLE_SGI",
         "eomtaehyun",
         "Storage",
         "IndexUnit",
         "1734334861748",
         "1734334861742",
         "{'read': True, 'write': True, 'execute': True}"
        ],
        [
         "45",
         "ef7f39eb-3461-4ff1-a9c5-5c29ffd49145",
         "ETH_ICTPEOPLE_DATASET_SGI_N",
         "dp-global-000000",
         "ef7f39eb-3461-4ff1-a9c5-5c29ffd49145",
         "dw-global-000000-default",
         "ETH_ICTPEOPLE_DATASET_SGI_N",
         "eomtaehyun",
         "Storage",
         "IndexUnit",
         "1734481912645",
         "1734481912640",
         "{'read': True, 'write': True, 'execute': True}"
        ],
        [
         "46",
         "R1132100527066_ExternalMaterials",
         "ExternalMaterials",
         "dp-bioviamaterialsintelligence-000000",
         "R1132100527066_ExternalMaterials",
         "dp-bioviamaterialsintelligence-000000",
         "ExternalMaterials",
         "svc_sgi_clouduser",
         "Storage",
         "IndexUnit",
         "1751698021059",
         "1751698021004",
         "{'read': True, 'write': True, 'execute': True}"
        ],
        [
         "47",
         "4590173a-f2e9-4996-8f53-bdb67fd63941",
         "HHN11.DASSAULT.TEMP_PRJ_01",
         "dp-global-000000",
         "4590173a-f2e9-4996-8f53-bdb67fd63941",
         "dw-global-000000-default",
         "HHN11.DASSAULT.TEMP_PRJ_01",
         "hhn11",
         "Storage",
         "ObjectStorage",
         "1734326934124",
         "1734326934120",
         "{'read': True, 'write': True, 'execute': True}"
        ],
        [
         "48",
         "2abccfb6-8e50-4cc8-bb33-5d975afd0cd5",
         "HHN11.DASSAULT.TEMP_PRJ_02",
         "dp-global-000000",
         "2abccfb6-8e50-4cc8-bb33-5d975afd0cd5",
         "dw-global-000000-default",
         "HHN11.DASSAULT.TEMP_PRJ_02",
         "hhn11",
         "Storage",
         "ObjectStorage",
         "1734399843489",
         "1734399843485",
         "{'read': True, 'write': True, 'execute': True}"
        ],
        [
         "49",
         "d6391d5e-5ca4-4736-96e9-e2c222b29147",
         "HHN11.DASSAULT.TEMP_PRJ_03",
         "dp-global-000000",
         "d6391d5e-5ca4-4736-96e9-e2c222b29147",
         "dw-global-000000-default",
         "HHN11.DASSAULT.TEMP_PRJ_03",
         "hhn11",
         "Storage",
         "ObjectStorage",
         "1734413943854",
         "1734413943849",
         "{'read': True, 'write': True, 'execute': True}"
        ]
       ],
       "shape": {
        "columns": 12,
        "rows": 151
       }
      },
      "text/html": [
       "<div>\n",
       "<style scoped>\n",
       "    .dataframe tbody tr th:only-of-type {\n",
       "        vertical-align: middle;\n",
       "    }\n",
       "\n",
       "    .dataframe tbody tr th {\n",
       "        vertical-align: top;\n",
       "    }\n",
       "\n",
       "    .dataframe thead th {\n",
       "        text-align: right;\n",
       "    }\n",
       "</style>\n",
       "<table border=\"1\" class=\"dataframe\">\n",
       "  <thead>\n",
       "    <tr style=\"text-align: right;\">\n",
       "      <th></th>\n",
       "      <th>id</th>\n",
       "      <th>resourceId</th>\n",
       "      <th>projectId</th>\n",
       "      <th>resourceUUID</th>\n",
       "      <th>workspaceId</th>\n",
       "      <th>name</th>\n",
       "      <th>creator</th>\n",
       "      <th>kind</th>\n",
       "      <th>type</th>\n",
       "      <th>created</th>\n",
       "      <th>lastModified</th>\n",
       "      <th>permissions</th>\n",
       "    </tr>\n",
       "  </thead>\n",
       "  <tbody>\n",
       "    <tr>\n",
       "      <th>0</th>\n",
       "      <td>0add512f-3759-487b-aa40-9c5019874ea3</td>\n",
       "      <td>20241217_16:00_dsjeon_storage</td>\n",
       "      <td>dp-global-000000</td>\n",
       "      <td>0add512f-3759-487b-aa40-9c5019874ea3</td>\n",
       "      <td>dw-global-000000-default</td>\n",
       "      <td>20241217_16:00_dsjeon_storage</td>\n",
       "      <td>jeondongsoo</td>\n",
       "      <td>Storage</td>\n",
       "      <td>ObjectStorage</td>\n",
       "      <td>1734418711011</td>\n",
       "      <td>1734418711007</td>\n",
       "      <td>{'read': True, 'write': True, 'execute': True}</td>\n",
       "    </tr>\n",
       "    <tr>\n",
       "      <th>1</th>\n",
       "      <td>7118465e-739b-4746-8fc7-657755764ee7</td>\n",
       "      <td>240129_part_information_OU3</td>\n",
       "      <td>dp-global-000000</td>\n",
       "      <td>7118465e-739b-4746-8fc7-657755764ee7</td>\n",
       "      <td>dw-global-000000-default</td>\n",
       "      <td>240129_part_information_OU3</td>\n",
       "      <td>N/A</td>\n",
       "      <td>Storage</td>\n",
       "      <td>IndexUnit</td>\n",
       "      <td>1707553208946</td>\n",
       "      <td>1745657169549</td>\n",
       "      <td>{'read': True, 'write': True, 'execute': True}</td>\n",
       "    </tr>\n",
       "    <tr>\n",
       "      <th>2</th>\n",
       "      <td>R1132100527066_3DS_AdditiveManufacturingQualit...</td>\n",
       "      <td>3DS_AdditiveManufacturingQualityAnalyst_Data</td>\n",
       "      <td>ca221e4a-46b1-43b1-9c3e-4eea8a0aa662</td>\n",
       "      <td>R1132100527066_3DS_AdditiveManufacturingQualit...</td>\n",
       "      <td>ca221e4a-46b1-43b1-9c3e-4eea8a0aa662</td>\n",
       "      <td>3DS_AdditiveManufacturingQualityAnalyst_Data</td>\n",
       "      <td>svc_sgi_clouduser</td>\n",
       "      <td>Storage</td>\n",
       "      <td>ObjectStorage</td>\n",
       "      <td>1751697876373</td>\n",
       "      <td>1751697876334</td>\n",
       "      <td>{'read': True, 'write': True, 'execute': True}</td>\n",
       "    </tr>\n",
       "    <tr>\n",
       "      <th>3</th>\n",
       "      <td>R1132100527066_3DS_AdditiveManufacturingQualit...</td>\n",
       "      <td>3DS_AdditiveManufacturingQualityAnalyst_Image</td>\n",
       "      <td>ca221e4a-46b1-43b1-9c3e-4eea8a0aa662</td>\n",
       "      <td>R1132100527066_3DS_AdditiveManufacturingQualit...</td>\n",
       "      <td>ca221e4a-46b1-43b1-9c3e-4eea8a0aa662</td>\n",
       "      <td>3DS_AdditiveManufacturingQualityAnalyst_Image</td>\n",
       "      <td>svc_sgi_clouduser</td>\n",
       "      <td>Storage</td>\n",
       "      <td>ObjectStorage</td>\n",
       "      <td>1751697876576</td>\n",
       "      <td>1751697876537</td>\n",
       "      <td>{'read': True, 'write': True, 'execute': True}</td>\n",
       "    </tr>\n",
       "    <tr>\n",
       "      <th>4</th>\n",
       "      <td>R1132100527066_3DS_AdditiveManufacturingQualit...</td>\n",
       "      <td>3DS_AdditiveManufacturingQualityAnalyst_Result</td>\n",
       "      <td>ca221e4a-46b1-43b1-9c3e-4eea8a0aa662</td>\n",
       "      <td>R1132100527066_3DS_AdditiveManufacturingQualit...</td>\n",
       "      <td>ca221e4a-46b1-43b1-9c3e-4eea8a0aa662</td>\n",
       "      <td>3DS_AdditiveManufacturingQualityAnalyst_Result</td>\n",
       "      <td>svc_sgi_clouduser</td>\n",
       "      <td>Storage</td>\n",
       "      <td>ObjectStorage</td>\n",
       "      <td>1751697876473</td>\n",
       "      <td>1751697876435</td>\n",
       "      <td>{'read': True, 'write': True, 'execute': True}</td>\n",
       "    </tr>\n",
       "    <tr>\n",
       "      <th>...</th>\n",
       "      <td>...</td>\n",
       "      <td>...</td>\n",
       "      <td>...</td>\n",
       "      <td>...</td>\n",
       "      <td>...</td>\n",
       "      <td>...</td>\n",
       "      <td>...</td>\n",
       "      <td>...</td>\n",
       "      <td>...</td>\n",
       "      <td>...</td>\n",
       "      <td>...</td>\n",
       "      <td>...</td>\n",
       "    </tr>\n",
       "    <tr>\n",
       "      <th>146</th>\n",
       "      <td>5841fd29-a3a3-4780-8343-b1fe0ccaae71</td>\n",
       "      <td>r2vsurvey</td>\n",
       "      <td>dp-r2vsurvey-000000</td>\n",
       "      <td>5841fd29-a3a3-4780-8343-b1fe0ccaae71</td>\n",
       "      <td>dw-r2vsurvey-000000-default</td>\n",
       "      <td>r2vsurvey</td>\n",
       "      <td>svc_sgi_clouduser</td>\n",
       "      <td>Storage</td>\n",
       "      <td>IndexUnit</td>\n",
       "      <td>1745666684450</td>\n",
       "      <td>1751707573630</td>\n",
       "      <td>{'read': True, 'write': False, 'execute': False}</td>\n",
       "    </tr>\n",
       "    <tr>\n",
       "      <th>147</th>\n",
       "      <td>3fbd978d-c9ce-43af-9f73-ea4aed3ab4b5</td>\n",
       "      <td>sgi</td>\n",
       "      <td>dp-global-000000</td>\n",
       "      <td>3fbd978d-c9ce-43af-9f73-ea4aed3ab4b5</td>\n",
       "      <td>dw-global-000000-default</td>\n",
       "      <td>sgi</td>\n",
       "      <td>jihunyoon</td>\n",
       "      <td>Storage</td>\n",
       "      <td>IndexUnit</td>\n",
       "      <td>1734678234116</td>\n",
       "      <td>1734678234102</td>\n",
       "      <td>{'read': True, 'write': True, 'execute': True}</td>\n",
       "    </tr>\n",
       "    <tr>\n",
       "      <th>148</th>\n",
       "      <td>b35600d0-6c8d-4142-9e48-d35ab335d62b</td>\n",
       "      <td>sgi_test_syyou</td>\n",
       "      <td>dp-global-000000</td>\n",
       "      <td>b35600d0-6c8d-4142-9e48-d35ab335d62b</td>\n",
       "      <td>dw-global-000000-default</td>\n",
       "      <td>sgi_test_syyou</td>\n",
       "      <td>mobilevm</td>\n",
       "      <td>Storage</td>\n",
       "      <td>IndexUnit</td>\n",
       "      <td>1734483191336</td>\n",
       "      <td>1734483191331</td>\n",
       "      <td>{'read': True, 'write': True, 'execute': True}</td>\n",
       "    </tr>\n",
       "    <tr>\n",
       "      <th>149</th>\n",
       "      <td>595464cb-65bd-44d9-b719-c08b1a605070</td>\n",
       "      <td>syyou_storage</td>\n",
       "      <td>dp-global-000000</td>\n",
       "      <td>595464cb-65bd-44d9-b719-c08b1a605070</td>\n",
       "      <td>dw-global-000000-default</td>\n",
       "      <td>syyou_storage</td>\n",
       "      <td>mobilevm</td>\n",
       "      <td>Storage</td>\n",
       "      <td>ObjectStorage</td>\n",
       "      <td>1734677241229</td>\n",
       "      <td>1734677241224</td>\n",
       "      <td>{'read': True, 'write': True, 'execute': True}</td>\n",
       "    </tr>\n",
       "    <tr>\n",
       "      <th>150</th>\n",
       "      <td>8113ef7d-6ef8-45c1-9e1a-e8133a8740d3</td>\n",
       "      <td>wsu2_in_project02</td>\n",
       "      <td>dp-global-000000</td>\n",
       "      <td>8113ef7d-6ef8-45c1-9e1a-e8133a8740d3</td>\n",
       "      <td>dw-global-000000-default</td>\n",
       "      <td>wsu2_in_project02</td>\n",
       "      <td>wsu2</td>\n",
       "      <td>Storage</td>\n",
       "      <td>IndexUnit</td>\n",
       "      <td>1734328868870</td>\n",
       "      <td>1734328868866</td>\n",
       "      <td>{'read': True, 'write': True, 'execute': True}</td>\n",
       "    </tr>\n",
       "  </tbody>\n",
       "</table>\n",
       "<p>151 rows × 12 columns</p>\n",
       "</div>"
      ],
      "text/plain": [
       "                                                    id  \\\n",
       "0                 0add512f-3759-487b-aa40-9c5019874ea3   \n",
       "1                 7118465e-739b-4746-8fc7-657755764ee7   \n",
       "2    R1132100527066_3DS_AdditiveManufacturingQualit...   \n",
       "3    R1132100527066_3DS_AdditiveManufacturingQualit...   \n",
       "4    R1132100527066_3DS_AdditiveManufacturingQualit...   \n",
       "..                                                 ...   \n",
       "146               5841fd29-a3a3-4780-8343-b1fe0ccaae71   \n",
       "147               3fbd978d-c9ce-43af-9f73-ea4aed3ab4b5   \n",
       "148               b35600d0-6c8d-4142-9e48-d35ab335d62b   \n",
       "149               595464cb-65bd-44d9-b719-c08b1a605070   \n",
       "150               8113ef7d-6ef8-45c1-9e1a-e8133a8740d3   \n",
       "\n",
       "                                         resourceId  \\\n",
       "0                     20241217_16:00_dsjeon_storage   \n",
       "1                       240129_part_information_OU3   \n",
       "2      3DS_AdditiveManufacturingQualityAnalyst_Data   \n",
       "3     3DS_AdditiveManufacturingQualityAnalyst_Image   \n",
       "4    3DS_AdditiveManufacturingQualityAnalyst_Result   \n",
       "..                                              ...   \n",
       "146                                       r2vsurvey   \n",
       "147                                             sgi   \n",
       "148                                  sgi_test_syyou   \n",
       "149                                   syyou_storage   \n",
       "150                               wsu2_in_project02   \n",
       "\n",
       "                                projectId  \\\n",
       "0                        dp-global-000000   \n",
       "1                        dp-global-000000   \n",
       "2    ca221e4a-46b1-43b1-9c3e-4eea8a0aa662   \n",
       "3    ca221e4a-46b1-43b1-9c3e-4eea8a0aa662   \n",
       "4    ca221e4a-46b1-43b1-9c3e-4eea8a0aa662   \n",
       "..                                    ...   \n",
       "146                   dp-r2vsurvey-000000   \n",
       "147                      dp-global-000000   \n",
       "148                      dp-global-000000   \n",
       "149                      dp-global-000000   \n",
       "150                      dp-global-000000   \n",
       "\n",
       "                                          resourceUUID  \\\n",
       "0                 0add512f-3759-487b-aa40-9c5019874ea3   \n",
       "1                 7118465e-739b-4746-8fc7-657755764ee7   \n",
       "2    R1132100527066_3DS_AdditiveManufacturingQualit...   \n",
       "3    R1132100527066_3DS_AdditiveManufacturingQualit...   \n",
       "4    R1132100527066_3DS_AdditiveManufacturingQualit...   \n",
       "..                                                 ...   \n",
       "146               5841fd29-a3a3-4780-8343-b1fe0ccaae71   \n",
       "147               3fbd978d-c9ce-43af-9f73-ea4aed3ab4b5   \n",
       "148               b35600d0-6c8d-4142-9e48-d35ab335d62b   \n",
       "149               595464cb-65bd-44d9-b719-c08b1a605070   \n",
       "150               8113ef7d-6ef8-45c1-9e1a-e8133a8740d3   \n",
       "\n",
       "                              workspaceId  \\\n",
       "0                dw-global-000000-default   \n",
       "1                dw-global-000000-default   \n",
       "2    ca221e4a-46b1-43b1-9c3e-4eea8a0aa662   \n",
       "3    ca221e4a-46b1-43b1-9c3e-4eea8a0aa662   \n",
       "4    ca221e4a-46b1-43b1-9c3e-4eea8a0aa662   \n",
       "..                                    ...   \n",
       "146           dw-r2vsurvey-000000-default   \n",
       "147              dw-global-000000-default   \n",
       "148              dw-global-000000-default   \n",
       "149              dw-global-000000-default   \n",
       "150              dw-global-000000-default   \n",
       "\n",
       "                                               name            creator  \\\n",
       "0                     20241217_16:00_dsjeon_storage        jeondongsoo   \n",
       "1                       240129_part_information_OU3                N/A   \n",
       "2      3DS_AdditiveManufacturingQualityAnalyst_Data  svc_sgi_clouduser   \n",
       "3     3DS_AdditiveManufacturingQualityAnalyst_Image  svc_sgi_clouduser   \n",
       "4    3DS_AdditiveManufacturingQualityAnalyst_Result  svc_sgi_clouduser   \n",
       "..                                              ...                ...   \n",
       "146                                       r2vsurvey  svc_sgi_clouduser   \n",
       "147                                             sgi          jihunyoon   \n",
       "148                                  sgi_test_syyou           mobilevm   \n",
       "149                                   syyou_storage           mobilevm   \n",
       "150                               wsu2_in_project02               wsu2   \n",
       "\n",
       "        kind           type        created   lastModified  \\\n",
       "0    Storage  ObjectStorage  1734418711011  1734418711007   \n",
       "1    Storage      IndexUnit  1707553208946  1745657169549   \n",
       "2    Storage  ObjectStorage  1751697876373  1751697876334   \n",
       "3    Storage  ObjectStorage  1751697876576  1751697876537   \n",
       "4    Storage  ObjectStorage  1751697876473  1751697876435   \n",
       "..       ...            ...            ...            ...   \n",
       "146  Storage      IndexUnit  1745666684450  1751707573630   \n",
       "147  Storage      IndexUnit  1734678234116  1734678234102   \n",
       "148  Storage      IndexUnit  1734483191336  1734483191331   \n",
       "149  Storage  ObjectStorage  1734677241229  1734677241224   \n",
       "150  Storage      IndexUnit  1734328868870  1734328868866   \n",
       "\n",
       "                                          permissions  \n",
       "0      {'read': True, 'write': True, 'execute': True}  \n",
       "1      {'read': True, 'write': True, 'execute': True}  \n",
       "2      {'read': True, 'write': True, 'execute': True}  \n",
       "3      {'read': True, 'write': True, 'execute': True}  \n",
       "4      {'read': True, 'write': True, 'execute': True}  \n",
       "..                                                ...  \n",
       "146  {'read': True, 'write': False, 'execute': False}  \n",
       "147    {'read': True, 'write': True, 'execute': True}  \n",
       "148    {'read': True, 'write': True, 'execute': True}  \n",
       "149    {'read': True, 'write': True, 'execute': True}  \n",
       "150    {'read': True, 'write': True, 'execute': True}  \n",
       "\n",
       "[151 rows x 12 columns]"
      ]
     },
     "execution_count": 142,
     "metadata": {},
     "output_type": "execute_result"
    }
   ],
   "source": [
    "import pandas as pd \n",
    "df = pd.DataFrame(res.json()['cards'])\n",
    "df#.head(5)"
   ]
  },
  {
   "cell_type": "code",
   "execution_count": 131,
   "id": "07d5fdd5",
   "metadata": {},
   "outputs": [
    {
     "name": "stdout",
     "output_type": "stream",
     "text": [
      "<class 'pandas.core.frame.DataFrame'>\n",
      "RangeIndex: 151 entries, 0 to 150\n",
      "Data columns (total 12 columns):\n",
      " #   Column        Non-Null Count  Dtype \n",
      "---  ------        --------------  ----- \n",
      " 0   id            151 non-null    object\n",
      " 1   resourceId    151 non-null    object\n",
      " 2   projectId     151 non-null    object\n",
      " 3   resourceUUID  151 non-null    object\n",
      " 4   workspaceId   151 non-null    object\n",
      " 5   name          151 non-null    object\n",
      " 6   creator       151 non-null    object\n",
      " 7   kind          151 non-null    object\n",
      " 8   type          151 non-null    object\n",
      " 9   created       151 non-null    int64 \n",
      " 10  lastModified  151 non-null    int64 \n",
      " 11  permissions   151 non-null    object\n",
      "dtypes: int64(2), object(10)\n",
      "memory usage: 14.3+ KB\n"
     ]
    }
   ],
   "source": [
    "df.info()"
   ]
  },
  {
   "cell_type": "code",
   "execution_count": 139,
   "id": "e8ff81fb",
   "metadata": {},
   "outputs": [
    {
     "data": {
      "application/vnd.microsoft.datawrangler.viewer.v0+json": {
       "columns": [
        {
         "name": "index",
         "rawType": "object",
         "type": "string"
        },
        {
         "name": "0",
         "rawType": "object",
         "type": "unknown"
        }
       ],
       "ref": "ed015fb0-ec4d-4720-8b98-22391ceaae78",
       "rows": [
        [
         "id",
         "object"
        ],
        [
         "resourceId",
         "object"
        ],
        [
         "projectId",
         "object"
        ],
        [
         "resourceUUID",
         "object"
        ],
        [
         "workspaceId",
         "object"
        ],
        [
         "name",
         "object"
        ],
        [
         "creator",
         "object"
        ],
        [
         "kind",
         "object"
        ],
        [
         "type",
         "object"
        ],
        [
         "created",
         "int64"
        ],
        [
         "lastModified",
         "int64"
        ],
        [
         "permissions",
         "object"
        ]
       ],
       "shape": {
        "columns": 1,
        "rows": 12
       }
      },
      "text/plain": [
       "id              object\n",
       "resourceId      object\n",
       "projectId       object\n",
       "resourceUUID    object\n",
       "workspaceId     object\n",
       "name            object\n",
       "creator         object\n",
       "kind            object\n",
       "type            object\n",
       "created          int64\n",
       "lastModified     int64\n",
       "permissions     object\n",
       "dtype: object"
      ]
     },
     "execution_count": 139,
     "metadata": {},
     "output_type": "execute_result"
    }
   ],
   "source": [
    "df.dtypes"
   ]
  },
  {
   "cell_type": "code",
   "execution_count": 132,
   "id": "1157e29b",
   "metadata": {},
   "outputs": [
    {
     "data": {
      "application/vnd.microsoft.datawrangler.viewer.v0+json": {
       "columns": [
        {
         "name": "index",
         "rawType": "object",
         "type": "string"
        },
        {
         "name": "created",
         "rawType": "float64",
         "type": "float"
        },
        {
         "name": "lastModified",
         "rawType": "float64",
         "type": "float"
        }
       ],
       "ref": "cc542b79-174e-409d-992e-ea4296c14f28",
       "rows": [
        [
         "count",
         "151.0",
         "151.0"
        ],
        [
         "mean",
         "1734608427814.4966",
         "1741621321652.172"
        ],
        [
         "std",
         "15610003001.603409",
         "10208913927.087893"
        ],
        [
         "min",
         "1707553208309.0",
         "1707561224140.0"
        ],
        [
         "25%",
         "1730699696884.5",
         "1734400461644.5"
        ],
        [
         "50%",
         "1734418711011.0",
         "1745657170061.0"
        ],
        [
         "75%",
         "1751697807388.0",
         "1751697876384.5"
        ],
        [
         "max",
         "1753676945898.0",
         "1753692024874.0"
        ]
       ],
       "shape": {
        "columns": 2,
        "rows": 8
       }
      },
      "text/html": [
       "<div>\n",
       "<style scoped>\n",
       "    .dataframe tbody tr th:only-of-type {\n",
       "        vertical-align: middle;\n",
       "    }\n",
       "\n",
       "    .dataframe tbody tr th {\n",
       "        vertical-align: top;\n",
       "    }\n",
       "\n",
       "    .dataframe thead th {\n",
       "        text-align: right;\n",
       "    }\n",
       "</style>\n",
       "<table border=\"1\" class=\"dataframe\">\n",
       "  <thead>\n",
       "    <tr style=\"text-align: right;\">\n",
       "      <th></th>\n",
       "      <th>created</th>\n",
       "      <th>lastModified</th>\n",
       "    </tr>\n",
       "  </thead>\n",
       "  <tbody>\n",
       "    <tr>\n",
       "      <th>count</th>\n",
       "      <td>1.510000e+02</td>\n",
       "      <td>1.510000e+02</td>\n",
       "    </tr>\n",
       "    <tr>\n",
       "      <th>mean</th>\n",
       "      <td>1.734608e+12</td>\n",
       "      <td>1.741621e+12</td>\n",
       "    </tr>\n",
       "    <tr>\n",
       "      <th>std</th>\n",
       "      <td>1.561000e+10</td>\n",
       "      <td>1.020891e+10</td>\n",
       "    </tr>\n",
       "    <tr>\n",
       "      <th>min</th>\n",
       "      <td>1.707553e+12</td>\n",
       "      <td>1.707561e+12</td>\n",
       "    </tr>\n",
       "    <tr>\n",
       "      <th>25%</th>\n",
       "      <td>1.730700e+12</td>\n",
       "      <td>1.734400e+12</td>\n",
       "    </tr>\n",
       "    <tr>\n",
       "      <th>50%</th>\n",
       "      <td>1.734419e+12</td>\n",
       "      <td>1.745657e+12</td>\n",
       "    </tr>\n",
       "    <tr>\n",
       "      <th>75%</th>\n",
       "      <td>1.751698e+12</td>\n",
       "      <td>1.751698e+12</td>\n",
       "    </tr>\n",
       "    <tr>\n",
       "      <th>max</th>\n",
       "      <td>1.753677e+12</td>\n",
       "      <td>1.753692e+12</td>\n",
       "    </tr>\n",
       "  </tbody>\n",
       "</table>\n",
       "</div>"
      ],
      "text/plain": [
       "            created  lastModified\n",
       "count  1.510000e+02  1.510000e+02\n",
       "mean   1.734608e+12  1.741621e+12\n",
       "std    1.561000e+10  1.020891e+10\n",
       "min    1.707553e+12  1.707561e+12\n",
       "25%    1.730700e+12  1.734400e+12\n",
       "50%    1.734419e+12  1.745657e+12\n",
       "75%    1.751698e+12  1.751698e+12\n",
       "max    1.753677e+12  1.753692e+12"
      ]
     },
     "execution_count": 132,
     "metadata": {},
     "output_type": "execute_result"
    }
   ],
   "source": [
    "df.describe()"
   ]
  },
  {
   "cell_type": "code",
   "execution_count": 141,
   "id": "7dccfc94",
   "metadata": {},
   "outputs": [
    {
     "name": "stdout",
     "output_type": "stream",
     "text": [
      "Unique Workspace IDs Count: 29\n",
      "[ '1d99889d-91a9-47c6-ae10-5a0f0c06bee5',\n",
      "  '20f147c2-5b24-4a71-af10-81521fbcf73a',\n",
      "  '6cc6c82c-1181-4b51-9af5-75865de628b2',\n",
      "  '6cdce84b-03c4-4ca9-a158-ab58df7ac517',\n",
      "  'a818380d-3daf-40b4-91f0-4667fcfd0c8c',\n",
      "  'bf86652d-9049-4083-8e5e-c0e0a25d8350',\n",
      "  'ca221e4a-46b1-43b1-9c3e-4eea8a0aa662',\n",
      "  'dp-bioviainsightqueries-000000',\n",
      "  'dp-bioviamaterialsintelligence-000000',\n",
      "  'dp-fieldqualityintelligence-000000',\n",
      "  'dp-sustainabilityexternaldata-000000',\n",
      "  'dw-3dnetwork-000000-default',\n",
      "  'dw-3dorganization-000000-default',\n",
      "  'dw-3dplan-000000-default',\n",
      "  'dw-3dspace-000000-default',\n",
      "  'dw-6645-4ddb-stocktraderstudio',\n",
      "  'dw-6645-4ddb-youtubedataanalytics',\n",
      "  'dw-6wtags-000000-default',\n",
      "  'dw-bioexperiment-000000-default',\n",
      "  'dw-dseagent-716118-workspace',\n",
      "  'dw-global-000000-default',\n",
      "  'dw-inventory-000000-default',\n",
      "  'dw-jle69ptoyproject-874623-youtubedataanalytics',\n",
      "  'dw-materials-000000-default',\n",
      "  'dw-molecularsimulation-000000-default',\n",
      "  'dw-netvibestrainingprogram-881699-biginnerlevel',\n",
      "  'dw-r2vsurvey-000000-default',\n",
      "  'dw-sourcing-000000-default',\n",
      "  'ff63f679-fed5-453a-9297-b90021cfdbb2']\n"
     ]
    }
   ],
   "source": [
    "workspace_ids = df.workspaceId.unique()\n",
    "import pprint \n",
    "pp = pprint.PrettyPrinter(indent=2)\n",
    "print(\"Unique Workspace IDs Count:\", len(workspace_ids))\n",
    "pp.pprint(sorted(workspace_ids))"
   ]
  },
  {
   "cell_type": "markdown",
   "id": "68884add",
   "metadata": {},
   "source": [
    "### [4.2] ObjectStorage 신규 생성 "
   ]
  },
  {
   "cell_type": "code",
   "execution_count": 40,
   "id": "2c0e701f",
   "metadata": {},
   "outputs": [
    {
     "name": "stdout",
     "output_type": "stream",
     "text": [
      "\n",
      "응답코드--> 201\n"
     ]
    },
    {
     "data": {
      "text/plain": [
       "<Response [201]>"
      ]
     },
     "execution_count": 40,
     "metadata": {},
     "output_type": "execute_result"
    }
   ],
   "source": [
    "# 스토리지 생성\n",
    "res = api.create(\n",
    "    stype=\"ObjectStorage\",\n",
    "    name=\"TestObject-01.CreatedByRestAPI\",\n",
    "    description=\"테스트 후 바로 삭제할 것\"\n",
    ")\n",
    "res "
   ]
  },
  {
   "cell_type": "code",
   "execution_count": 41,
   "id": "0af86930",
   "metadata": {},
   "outputs": [],
   "source": [
    "file = os.path.join(os.getcwd(), \"01_Storages\", \"Create A Storage.json\")\n",
    "with open(file, \"w\", encoding=\"utf-8\") as f:\n",
    "    json.dump(res.json(), f, ensure_ascii=False, indent=2)"
   ]
  },
  {
   "cell_type": "markdown",
   "id": "688cdb37",
   "metadata": {},
   "source": [
    "### [4.3] 생성한 스토리지 찾기"
   ]
  },
  {
   "cell_type": "code",
   "execution_count": 42,
   "id": "17c3eaff",
   "metadata": {},
   "outputs": [
    {
     "name": "stdout",
     "output_type": "stream",
     "text": [
      "\n",
      "응답코드--> 200\n"
     ]
    },
    {
     "data": {
      "text/plain": [
       "<Response [200]>"
      ]
     },
     "execution_count": 42,
     "metadata": {},
     "output_type": "execute_result"
    }
   ],
   "source": [
    "# 스토리지 검색-1\n",
    "res = api.search_by_name(\n",
    "    name=\"TestObject-01.CreatedByRestAPI\", \n",
    "    # workspace_id=\"dw-global-000000-default\"\n",
    ")\n",
    "res "
   ]
  },
  {
   "cell_type": "code",
   "execution_count": 43,
   "id": "c17f679d",
   "metadata": {},
   "outputs": [],
   "source": [
    "file = os.path.join(os.getcwd(), \"01_Storages\", \"Search-1 the Storage.json\")\n",
    "with open(file, \"w\", encoding=\"utf-8\") as f:\n",
    "    json.dump(res.json(), f, ensure_ascii=False, indent=2)"
   ]
  },
  {
   "cell_type": "markdown",
   "id": "099350cf",
   "metadata": {},
   "source": [
    "### [4.4] 스토리지 비우기 \n",
    "- 샘플파일 아무거나 수동으로 업로드"
   ]
  },
  {
   "cell_type": "code",
   "execution_count": 44,
   "id": "ccdf54e4",
   "metadata": {},
   "outputs": [],
   "source": [
    "resource_uuid = \"4407fe2c-1739-4391-9843-d120d7fe6cd7\""
   ]
  },
  {
   "cell_type": "code",
   "execution_count": 45,
   "id": "58b369e4",
   "metadata": {},
   "outputs": [
    {
     "name": "stdout",
     "output_type": "stream",
     "text": [
      "\n",
      "응답코드--> 204\n"
     ]
    },
    {
     "data": {
      "text/plain": [
       "<Response [204]>"
      ]
     },
     "execution_count": 45,
     "metadata": {},
     "output_type": "execute_result"
    }
   ],
   "source": [
    "res = api.clear(resource_uuid)\n",
    "res "
   ]
  },
  {
   "cell_type": "markdown",
   "id": "0104ba25",
   "metadata": {},
   "source": [
    "- res.json() 없음 --> 결과는 플랫폼에서 직접 확인  "
   ]
  },
  {
   "cell_type": "markdown",
   "id": "c03cfbac",
   "metadata": {},
   "source": [
    "### [4.5] 스토리지 Export"
   ]
  },
  {
   "cell_type": "code",
   "execution_count": 47,
   "id": "b65eff5c",
   "metadata": {},
   "outputs": [
    {
     "name": "stdout",
     "output_type": "stream",
     "text": [
      "\n",
      "응답코드--> 200\n"
     ]
    },
    {
     "data": {
      "text/plain": [
       "<Response [200]>"
      ]
     },
     "execution_count": 47,
     "metadata": {},
     "output_type": "execute_result"
    }
   ],
   "source": [
    "res = api.export_(resource_uuid)\n",
    "res "
   ]
  },
  {
   "cell_type": "code",
   "execution_count": 48,
   "id": "6228b8a2",
   "metadata": {},
   "outputs": [],
   "source": [
    "file = os.path.join(os.getcwd(), \"01_Storages\", \"Export the Storage.json\")\n",
    "with open(file, \"w\", encoding=\"utf-8\") as f:\n",
    "    json.dump(res.json(), f, ensure_ascii=False, indent=2)"
   ]
  },
  {
   "cell_type": "markdown",
   "id": "c8929237",
   "metadata": {},
   "source": [
    "### [4.6] 스토리지 Import"
   ]
  },
  {
   "cell_type": "code",
   "execution_count": 36,
   "id": "7d720bf6",
   "metadata": {},
   "outputs": [],
   "source": [
    "payload = {\n",
    "    \"name\": \"TestObject-05.ImportByRestAPI\",\n",
    "    \"identifier\": \"TestObject-05.ImportByRestAPI\",\n",
    "    \"update\": True,\n",
    "    \"content\": \"ewogICJzdG9yYWdlIiA6IHsKICAgICJAY2xhc3MiIDogIk9iamVjdFN0b3JhZ2UiLAogICAgInJlc291cmNlSWQiIDogIlRlc3RPYmplY3QtMDMuQ3JlYXRlZEJ5UmVzdEFQSSIsCiAgICAibmFtZSIgOiAiVGVzdE9iamVjdC0wMy5DcmVhdGVkQnlSZXN0QVBJIiwKICAgICJkZXNjcmlwdGlvbiIgOiAi7YWM7Iqk7Yq4IO2bhCDrsJTroZwg7IKt7KCc7ZWgIOqygyIsCiAgICAia2luZCIgOiAiU3RvcmFnZSIsCiAgICAidHlwZSIgOiAiT2JqZWN0U3RvcmFnZSIsCiAgICAicmVzb3VyY2VQYXRoIiA6ICJTdG9yYWdlL1Rlc3RPYmplY3QtMDMuQ3JlYXRlZEJ5UmVzdEFQSS5qc29uIiwKICAgICJjb25maWciIDogewogICAgICAiYnVja2V0IiA6ICJ0ZXN0b2JqZWN0MDNjcmVhdGVkYnlyZXN0YXBpIiwKICAgICAgImRlbGVnYXRpb25zIiA6IFsgewogICAgICAgICJuYW1lIiA6ICJTZW1hbnRpY0dyYXBoSW5kZXguRE9TQWNjb3VudC4yIiwKICAgICAgICAicGVybWlzc2lvbiIgOiAicmVhZCIKICAgICAgfSwgewogICAgICAgICJuYW1lIiA6ICJTZW1hbnRpY0dyYXBoSW5kZXguRE9TQWNjb3VudC4yIiwKICAgICAgICAicGVybWlzc2lvbiIgOiAid3JpdGUiCiAgICAgIH0sIHsKICAgICAgICAibmFtZSIgOiAiUFBFUy5Eb3NBY2NvdW50IiwKICAgICAgICAicGVybWlzc2lvbiIgOiAiZXhlY3V0ZSIKICAgICAgfSwgewogICAgICAgICJuYW1lIiA6ICJEYXRhc2V0R292ZXJuYW5jZSIsCiAgICAgICAgInBlcm1pc3Npb24iIDogInJlYWQiCiAgICAgIH0gXQogICAgfQogIH0sCiAgInZlcnNpb24iIDogewogICAgInZhbHVlIiA6ICIxLjIiCiAgfQp9\"\n",
    "}"
   ]
  },
  {
   "cell_type": "code",
   "execution_count": 35,
   "id": "60d40268",
   "metadata": {},
   "outputs": [
    {
     "name": "stdout",
     "output_type": "stream",
     "text": [
      "\n",
      "응답코드--> 400\n",
      "\n",
      "\n",
      "응답코드가 2xx 또는 3xx 대역이 아닐 경우 아래와 같이 표시됩니다-->\n",
      "{ '_content': b'{\"type\":\"about:blank\",\"title\":\"Bad Request\",\"status\":400,\"de'\n",
      "              b'tail\":\"Illegal argument error Validation failed on \\'ObjectSt'\n",
      "              b\"orage.name' with message: 'A storage with this name already \"\n",
      "              b'exists\\'\",\"instance\":\"/data-factory/api/1/storage/import\"}',\n",
      "  '_content_consumed': True,\n",
      "  '_next': None,\n",
      "  'connection': <requests.adapters.HTTPAdapter object at 0x000001DE5AD33D70>,\n",
      "  'cookies': <RequestsCookieJar[Cookie(version=0, name='JSESSIONID', value='FCC5CAEB6D3F33A335FE70F1A38516A9', port=None, port_specified=False, domain='r1132100527066-apk2-sgi.3dexperience.3ds.com', domain_specified=False, domain_initial_dot=False, path='/data-factory', path_specified=True, secure=True, expires=None, discard=True, comment=None, comment_url=None, rest={'HttpOnly': None, 'SameSite': 'None'}, rfc2109=False), Cookie(version=0, name='SERVERID', value='IngestionVM_0_7026', port=None, port_specified=False, domain='r1132100527066-apk2-sgi.3dexperience.3ds.com', domain_specified=False, domain_initial_dot=False, path='/', path_specified=True, secure=True, expires=None, discard=True, comment=None, comment_url=None, rest={'HttpOnly': None, 'SameSite': 'None'}, rfc2109=False)]>,\n",
      "  'elapsed': datetime.timedelta(seconds=25, microseconds=249225),\n",
      "  'encoding': None,\n",
      "  'headers': {'set-cookie': 'JSESSIONID=FCC5CAEB6D3F33A335FE70F1A38516A9; Path=/data-factory; HttpOnly;SameSite=None;Secure, SERVERID=IngestionVM_0_7026; path=/; HttpOnly; Secure; SameSite=None', 'content-type': 'application/problem+json', 'transfer-encoding': 'chunked', 'date': 'Mon, 28 Jul 2025 04:21:33 GMT', 'server': 'Microsoft-IIS/7.0'},\n",
      "  'history': [],\n",
      "  'raw': <urllib3.response.HTTPResponse object at 0x000001DE5AD32500>,\n",
      "  'reason': 'Bad Request',\n",
      "  'request': <PreparedRequest [POST]>,\n",
      "  'status_code': 400,\n",
      "  'url': 'https://r1132100527066-apk2-sgi.3dexperience.3ds.com:443/data-factory/resources/v1/storage/import'}\n"
     ]
    },
    {
     "data": {
      "text/plain": [
       "<Response [400]>"
      ]
     },
     "execution_count": 35,
     "metadata": {},
     "output_type": "execute_result"
    }
   ],
   "source": [
    "from importlib import reload\n",
    "import dserestapi\n",
    "reload(dserestapi)\n",
    "from dserestapi import Storages\n",
    "api = Storages()\n",
    "res = api.import_(payload)\n",
    "res "
   ]
  },
  {
   "cell_type": "markdown",
   "id": "f0320d46",
   "metadata": {},
   "source": [
    "### [4.7] 생성한 스토리지 삭제"
   ]
  },
  {
   "cell_type": "code",
   "execution_count": null,
   "id": "be8fa606",
   "metadata": {},
   "outputs": [
    {
     "data": {
      "text/plain": [
       "'4407fe2c-1739-4391-9843-d120d7fe6cd7'"
      ]
     },
     "execution_count": 53,
     "metadata": {},
     "output_type": "execute_result"
    }
   ],
   "source": [
    "# API를 이용해서 재검색\n",
    "res = api.search_by_name(\n",
    "    name=\"TestObject-01.CreatedByRestAPI\"\n",
    ")\n",
    "resource_uuid = res.json()[\"cards\"][0][\"resourceUUID\"]\n",
    "resource_uuid"
   ]
  },
  {
   "cell_type": "code",
   "execution_count": 54,
   "id": "65456f1b",
   "metadata": {},
   "outputs": [
    {
     "name": "stdout",
     "output_type": "stream",
     "text": [
      "\n",
      "응답코드--> 200\n"
     ]
    },
    {
     "data": {
      "text/plain": [
       "<Response [200]>"
      ]
     },
     "execution_count": 54,
     "metadata": {},
     "output_type": "execute_result"
    }
   ],
   "source": [
    "res = api.delete(resource_uuid=resource_uuid)\n",
    "res "
   ]
  },
  {
   "cell_type": "markdown",
   "id": "a5416f46",
   "metadata": {},
   "source": [
    "- res.json() --> 삭제 함수 응답에는 JSON 데이터가 없기 때문에 에러 발생"
   ]
  },
  {
   "cell_type": "markdown",
   "id": "34ee8d53",
   "metadata": {},
   "source": [
    "# [5] 사용 예제 | Object Storage"
   ]
  },
  {
   "cell_type": "markdown",
   "id": "6897441c",
   "metadata": {},
   "source": [
    "### [5.1] Object Storage에 파일 업로드 "
   ]
  },
  {
   "cell_type": "code",
   "execution_count": null,
   "id": "72ecd534",
   "metadata": {},
   "outputs": [],
   "source": [
    "# 신규 스토리지 재생성 \n",
    "from dserestapi import Storages\n",
    "api = Storages()\n",
    "res = api.create(\n",
    "    stype=\"ObjectStorage\",\n",
    "    name=\"TestObject-01.CreatedByRestAPI\",\n",
    "    description=\"테스트 후 바로 삭제할 것\"\n",
    ")\n",
    "res.json()"
   ]
  },
  {
   "cell_type": "code",
   "execution_count": 82,
   "id": "dbd9621e",
   "metadata": {},
   "outputs": [
    {
     "data": {
      "text/plain": [
       "'2ab30c85-f1c6-4696-9bcc-cacef848ec19'"
      ]
     },
     "execution_count": 82,
     "metadata": {},
     "output_type": "execute_result"
    }
   ],
   "source": [
    "# 생성한 스토리지의 resourceUUID 추출 \n",
    "resource_uuid = res.json()[\"resourceUUID\"]\n",
    "# resource_uuid = \"4407fe2c-1739-4391-9843-d120d7fe6cd7\"\n",
    "resource_uuid"
   ]
  },
  {
   "cell_type": "markdown",
   "id": "fcfc0649",
   "metadata": {},
   "source": [
    "#### [5.1.1] 파일 업로드 | 경로 미지정\n",
    "- 업로드할 파일은 항상 파일 절대경로를 사용해야함"
   ]
  },
  {
   "cell_type": "code",
   "execution_count": null,
   "id": "847f23da",
   "metadata": {},
   "outputs": [
    {
     "name": "stdout",
     "output_type": "stream",
     "text": [
      "업로드할 파일: CML Agent ID-PW.json\n",
      "\n",
      "DFS 스토리지상의 파일 절대경로: 'F:/pypjts/DSE-REST-API/How to use APIs/credentials/CML Agent ID-PW.json'\n",
      "\n",
      "응답코드--> 200\n"
     ]
    },
    {
     "data": {
      "text/plain": [
       "<Response [200]>"
      ]
     },
     "execution_count": 89,
     "metadata": {},
     "output_type": "execute_result"
    }
   ],
   "source": [
    "from dserestapi import ObjectStorage\n",
    "api = ObjectStorage()\n",
    "uploading_file = r\"F:\\pypjts\\DSE-REST-API\\How to use APIs\\credentials\\CML Agent ID-PW.json\"\n",
    "res = api.upload(resourceUUID=resource_uuid, file=uploading_file, path=None)\n",
    "res "
   ]
  },
  {
   "cell_type": "markdown",
   "id": "2a233acd",
   "metadata": {},
   "source": [
    "#### [5.1.2] 파일 업로드 | 경로 강제 지정"
   ]
  },
  {
   "cell_type": "code",
   "execution_count": null,
   "id": "0e6b784e",
   "metadata": {},
   "outputs": [
    {
     "name": "stdout",
     "output_type": "stream",
     "text": [
      "업로드할 파일: CML Agent ID-PW.json\n",
      "\n",
      "DFS 스토리지상의 파일 절대경로: 'Manual_Path_01/CML Agent ID-PW.json'\n",
      "\n",
      "응답코드--> 200\n"
     ]
    },
    {
     "data": {
      "text/plain": [
       "<Response [200]>"
      ]
     },
     "execution_count": 91,
     "metadata": {},
     "output_type": "execute_result"
    }
   ],
   "source": [
    "api = ObjectStorage()\n",
    "uploading_file = r\"F:\\pypjts\\DSE-REST-API\\How to use APIs\\credentials\\CML Agent ID-PW.json\"\n",
    "res = api.upload(resourceUUID=resource_uuid, file=uploading_file, path=\"Manual_Path_01/\")\n",
    "res "
   ]
  },
  {
   "cell_type": "markdown",
   "id": "de75cf7e",
   "metadata": {},
   "source": [
    "- JSON 데이터 없음"
   ]
  },
  {
   "cell_type": "markdown",
   "id": "72c69f12",
   "metadata": {},
   "source": [
    "### [5.2] Object Storage에 디렉토리 내의 모든 파일들을 한번에 업로드 "
   ]
  },
  {
   "cell_type": "code",
   "execution_count": null,
   "id": "b511150a",
   "metadata": {},
   "outputs": [
    {
     "data": {
      "text/plain": [
       "['E:\\\\__ENGINEER_DRIVE__\\\\__DATASET__\\\\__Dummy Data__\\\\trade_money_mv20.csv',\n",
       " 'E:\\\\__ENGINEER_DRIVE__\\\\__DATASET__\\\\__Dummy Data__\\\\Basic Data Types\\\\all_dtypes.csv',\n",
       " 'E:\\\\__ENGINEER_DRIVE__\\\\__DATASET__\\\\__Dummy Data__\\\\Basic Data Types\\\\json_list.json',\n",
       " 'E:\\\\__ENGINEER_DRIVE__\\\\__DATASET__\\\\__Dummy Data__\\\\Basic Data Types\\\\_Boolean.csv',\n",
       " 'E:\\\\__ENGINEER_DRIVE__\\\\__DATASET__\\\\__Dummy Data__\\\\Basic Data Types\\\\_Datetime.csv',\n",
       " 'E:\\\\__ENGINEER_DRIVE__\\\\__DATASET__\\\\__Dummy Data__\\\\Basic Data Types\\\\_Datetime.json',\n",
       " 'E:\\\\__ENGINEER_DRIVE__\\\\__DATASET__\\\\__Dummy Data__\\\\Basic Data Types\\\\_Number.csv',\n",
       " 'E:\\\\__ENGINEER_DRIVE__\\\\__DATASET__\\\\__Dummy Data__\\\\Basic Data Types\\\\_String.csv',\n",
       " 'E:\\\\__ENGINEER_DRIVE__\\\\__DATASET__\\\\__Dummy Data__\\\\Data Ingestion\\\\Data Engineer.ipynb',\n",
       " 'E:\\\\__ENGINEER_DRIVE__\\\\__DATASET__\\\\__Dummy Data__\\\\Data Ingestion\\\\DummyData.json',\n",
       " 'E:\\\\__ENGINEER_DRIVE__\\\\__DATASET__\\\\__Dummy Data__\\\\Data Ingestion\\\\sample01.csv',\n",
       " 'E:\\\\__ENGINEER_DRIVE__\\\\__DATASET__\\\\__Dummy Data__\\\\Data Ingestion\\\\sample01.json',\n",
       " 'E:\\\\__ENGINEER_DRIVE__\\\\__DATASET__\\\\__Dummy Data__\\\\Data Ingestion\\\\sample01_even.json',\n",
       " 'E:\\\\__ENGINEER_DRIVE__\\\\__DATASET__\\\\__Dummy Data__\\\\Data Modeling\\\\Data Engineer.ipynb',\n",
       " 'E:\\\\__ENGINEER_DRIVE__\\\\__DATASET__\\\\__Dummy Data__\\\\Data Modeling\\\\Data_Modeling.json',\n",
       " 'E:\\\\__ENGINEER_DRIVE__\\\\__DATASET__\\\\__Dummy Data__\\\\Excel Files\\\\Dummy data.xlsx',\n",
       " 'E:\\\\__ENGINEER_DRIVE__\\\\__DATASET__\\\\__Dummy Data__\\\\IncrementalIndexingTest\\\\role_description.csv',\n",
       " 'E:\\\\__ENGINEER_DRIVE__\\\\__DATASET__\\\\__Dummy Data__\\\\IncrementalIndexingTest\\\\SampleData01\\\\file01.csv',\n",
       " 'E:\\\\__ENGINEER_DRIVE__\\\\__DATASET__\\\\__Dummy Data__\\\\IncrementalIndexingTest\\\\SampleData01\\\\file02.csv',\n",
       " 'E:\\\\__ENGINEER_DRIVE__\\\\__DATASET__\\\\__Dummy Data__\\\\IncrementalIndexingTest\\\\SampleData01\\\\file03.csv',\n",
       " 'E:\\\\__ENGINEER_DRIVE__\\\\__DATASET__\\\\__Dummy Data__\\\\IncrementalIndexingTest\\\\SampleData01\\\\file04_onefile.csv',\n",
       " 'E:\\\\__ENGINEER_DRIVE__\\\\__DATASET__\\\\__Dummy Data__\\\\IncrementalIndexingTest\\\\Test001\\\\2024-01-01.csv',\n",
       " 'E:\\\\__ENGINEER_DRIVE__\\\\__DATASET__\\\\__Dummy Data__\\\\IncrementalIndexingTest\\\\Test001\\\\2025-01-01.csv',\n",
       " 'E:\\\\__ENGINEER_DRIVE__\\\\__DATASET__\\\\__Dummy Data__\\\\IncrementalIndexingTest\\\\Test001\\\\2026-01-01.csv',\n",
       " 'E:\\\\__ENGINEER_DRIVE__\\\\__DATASET__\\\\__Dummy Data__\\\\IncrementalIndexingTest\\\\Test001\\\\test_description.md',\n",
       " 'E:\\\\__ENGINEER_DRIVE__\\\\__DATASET__\\\\__Dummy Data__\\\\IncrementalIndexingTest\\\\Test002\\\\role_change_history.csv',\n",
       " 'E:\\\\__ENGINEER_DRIVE__\\\\__DATASET__\\\\__Dummy Data__\\\\IncrementalIndexingTest\\\\Test002\\\\test_description.md',\n",
       " 'E:\\\\__ENGINEER_DRIVE__\\\\__DATASET__\\\\__Dummy Data__\\\\Machine Learning\\\\Classification\\\\generated_dataset_01\\\\new_ds.csv',\n",
       " 'E:\\\\__ENGINEER_DRIVE__\\\\__DATASET__\\\\__Dummy Data__\\\\Machine Learning\\\\Classification\\\\generated_dataset_01\\\\train_ds.csv',\n",
       " 'E:\\\\__ENGINEER_DRIVE__\\\\__DATASET__\\\\__Dummy Data__\\\\Machine Learning\\\\Classification\\\\generated_dataset_01\\\\prediction_result\\\\GeneratedDataClassifier(XGBoost)\\\\ver1\\\\6739336C-0D56-134F-B70C-3F93959ECBD5.csv',\n",
       " 'E:\\\\__ENGINEER_DRIVE__\\\\__DATASET__\\\\__Dummy Data__\\\\Machine Learning\\\\Classification\\\\generated_dataset_01\\\\prediction_result\\\\GeneratedDataClassifier(XGBoost)\\\\ver2\\\\BA4C43CD-A095-9245-8305-43E6D5A48953.csv',\n",
       " 'E:\\\\__ENGINEER_DRIVE__\\\\__DATASET__\\\\__Dummy Data__\\\\Machine Learning\\\\Classification\\\\generated_dataset_01\\\\prediction_result\\\\GeneratedDataClassifier(XGBoost)\\\\ver3\\\\8B40BE9E-C4CF-B046-8577-9E3E921D3185.csv',\n",
       " 'E:\\\\__ENGINEER_DRIVE__\\\\__DATASET__\\\\__Dummy Data__\\\\Machine Learning\\\\Classification\\\\generated_dataset_02\\\\new_ds.csv',\n",
       " 'E:\\\\__ENGINEER_DRIVE__\\\\__DATASET__\\\\__Dummy Data__\\\\Machine Learning\\\\Classification\\\\generated_dataset_02\\\\train_ds.csv',\n",
       " 'E:\\\\__ENGINEER_DRIVE__\\\\__DATASET__\\\\__Dummy Data__\\\\Machine Learning\\\\Classification\\\\generated_dataset_03\\\\new_ds.csv',\n",
       " 'E:\\\\__ENGINEER_DRIVE__\\\\__DATASET__\\\\__Dummy Data__\\\\Machine Learning\\\\Classification\\\\generated_dataset_03\\\\train_ds.csv',\n",
       " 'E:\\\\__ENGINEER_DRIVE__\\\\__DATASET__\\\\__Dummy Data__\\\\ProxemTest\\\\JSON\\\\single_datum.json',\n",
       " 'E:\\\\__ENGINEER_DRIVE__\\\\__DATASET__\\\\__Dummy Data__\\\\ProxemTest\\\\PDF\\\\English\\\\chen-et-al-2024-asymmetric-synthesis-of-hydroindoles-via-desymmetrizing-3-2-annulation-of-p-quinamines-and.pdf',\n",
       " 'E:\\\\__ENGINEER_DRIVE__\\\\__DATASET__\\\\__Dummy Data__\\\\ProxemTest\\\\PDF\\\\English\\\\fan-et-al-2024-pentanary-oxythiogermanates-ba3mge3o2s8-(m-ca-zn)-featuring-ge3o2s8-8-trimers-and-mge3o2s8-6-chains.pdf',\n",
       " 'E:\\\\__ENGINEER_DRIVE__\\\\__DATASET__\\\\__Dummy Data__\\\\ProxemTest\\\\PDF\\\\English\\\\park-et-al-2021-internal-conversion-between-bright-(11bu-)-and-dark-(21ag-)-states-in-s-trans-butadiene-and-s-trans.pdf',\n",
       " 'E:\\\\__ENGINEER_DRIVE__\\\\__DATASET__\\\\__Dummy Data__\\\\ProxemTest\\\\PDF\\\\Korean\\\\20240411_[Bondview] [미국 3월 CPI Review] 한번에 몰려온 악재.pdf',\n",
       " 'E:\\\\__ENGINEER_DRIVE__\\\\__DATASET__\\\\__Dummy Data__\\\\ProxemTest\\\\PDF\\\\Korean\\\\Battery_Weekly_2024.03.11__(Battery Weekly(Overweight) 섹터 내 주도주 변화).pdf',\n",
       " 'E:\\\\__ENGINEER_DRIVE__\\\\__DATASET__\\\\__Dummy Data__\\\\ProxemTest\\\\PDF\\\\Korean\\\\GCW_20240311.pdf',\n",
       " 'E:\\\\__ENGINEER_DRIVE__\\\\__DATASET__\\\\__Dummy Data__\\\\ProxemTest\\\\PDF\\\\Korean\\\\Hana_Research_001.pdf',\n",
       " 'E:\\\\__ENGINEER_DRIVE__\\\\__DATASET__\\\\__Dummy Data__\\\\ProxemTest\\\\PDF\\\\Korean\\\\Petchem_Refining_Weekly_20240311_F__(OSP 약세는 아시아 정유사 매수 근거).pdf',\n",
       " 'E:\\\\__ENGINEER_DRIVE__\\\\__DATASET__\\\\__Dummy Data__\\\\ProxemTest\\\\PDF\\\\Korean\\\\Weekly_Roko_0311__(전기전자 휴대폰(Overweight) 시간은 지나고 있다).pdf',\n",
       " 'E:\\\\__ENGINEER_DRIVE__\\\\__DATASET__\\\\__Dummy Data__\\\\ProxemTest\\\\PDF\\\\Korean\\\\[Econ Snapshot] 미국 3월 CPI 불안감 속에서 중심 잡기.pdf',\n",
       " 'E:\\\\__ENGINEER_DRIVE__\\\\__DATASET__\\\\__Dummy Data__\\\\TextExtraction\\\\02_NETVIBES Strategy__Diana GOENAGA - Shortcut.lnk',\n",
       " 'E:\\\\__ENGINEER_DRIVE__\\\\__DATASET__\\\\__Dummy Data__\\\\TimeSeries\\\\trade.xlsx']"
      ]
     },
     "execution_count": 66,
     "metadata": {},
     "output_type": "execute_result"
    }
   ],
   "source": [
    "# 업로드할 디렉토리 확인\n",
    "import os \n",
    "top_dir = r\"E:\\__ENGINEER_DRIVE__\\__DATASET__\\__Dummy Data__\"\n",
    "uploading_files = []\n",
    "for root, dirs, files in os.walk(top_dir):\n",
    "    for file in files:\n",
    "        uploading_files.append(os.path.join(root, file))\n",
    "\n",
    "uploading_files"
   ]
  },
  {
   "cell_type": "markdown",
   "id": "89502428",
   "metadata": {},
   "source": [
    "#### [5.2.1] 멀티 파일 업로드 | 자동 경로 설정"
   ]
  },
  {
   "cell_type": "code",
   "execution_count": null,
   "id": "2bd45058",
   "metadata": {},
   "outputs": [
    {
     "name": "stderr",
     "output_type": "stream",
     "text": [
      "Uploading:  31%|███       | 15/49 [00:00<00:00, 114.05it/s]"
     ]
    },
    {
     "name": "stdout",
     "output_type": "stream",
     "text": [
      "\n",
      "응답코드--> 200\n",
      "\n",
      "응답코드--> 200\n",
      "\n",
      "응답코드--> 200\n",
      "\n",
      "응답코드--> 200\n",
      "\n",
      "응답코드--> 200\n",
      "\n",
      "응답코드--> 200\n",
      "\n",
      "응답코드--> 200\n",
      "\n",
      "응답코드--> 200\n",
      "\n",
      "응답코드--> 200\n",
      "\n",
      "응답코드--> 200\n",
      "\n",
      "응답코드--> 200\n",
      "\n",
      "응답코드--> 200\n",
      "\n",
      "응답코드--> 200\n",
      "\n",
      "응답코드--> 200\n",
      "\n",
      "응답코드--> 200\n",
      "\n",
      "응답코드--> 200\n",
      "\n",
      "응답코드--> 200\n",
      "\n",
      "응답코드--> 200\n",
      "\n",
      "응답코드--> 200\n",
      "\n",
      "응답코드--> 200\n",
      "\n",
      "응답코드--> 200\n",
      "\n",
      "응답코드--> 200\n",
      "\n",
      "응답코드--> 200\n",
      "\n",
      "응답코드--> 200\n",
      "\n",
      "응답코드--> 200\n",
      "\n",
      "응답코드--> 200\n",
      "\n",
      "응답코드--> 200\n",
      "\n",
      "응답코드--> 200\n",
      "\n",
      "응답코드--> 200\n"
     ]
    },
    {
     "name": "stderr",
     "output_type": "stream",
     "text": [
      "Uploading:  55%|█████▌    | 27/49 [00:00<00:00, 108.70it/s]"
     ]
    },
    {
     "name": "stdout",
     "output_type": "stream",
     "text": [
      "\n",
      "응답코드--> 200\n",
      "\n",
      "응답코드--> 200\n",
      "\n",
      "응답코드--> 200\n",
      "\n",
      "응답코드--> 200\n",
      "\n",
      "응답코드--> 200\n"
     ]
    },
    {
     "name": "stderr",
     "output_type": "stream",
     "text": [
      "Uploading:  78%|███████▊  | 38/49 [00:00<00:00, 51.00it/s] "
     ]
    },
    {
     "name": "stdout",
     "output_type": "stream",
     "text": [
      "\n",
      "응답코드--> 200\n",
      "\n",
      "응답코드--> 200\n",
      "\n",
      "응답코드--> 200\n",
      "\n",
      "응답코드--> 200\n",
      "\n",
      "응답코드--> 200\n",
      "\n",
      "응답코드--> 200\n",
      "\n",
      "응답코드--> 200\n",
      "\n",
      "응답코드--> 200\n",
      "\n",
      "응답코드--> 200\n",
      "\n",
      "응답코드--> 200\n",
      "\n",
      "응답코드--> 200\n"
     ]
    },
    {
     "name": "stderr",
     "output_type": "stream",
     "text": [
      "Uploading:  94%|█████████▍| 46/49 [00:01<00:00, 24.52it/s]"
     ]
    },
    {
     "name": "stdout",
     "output_type": "stream",
     "text": [
      "\n",
      "응답코드--> 200\n",
      "\n",
      "응답코드--> 200\n"
     ]
    },
    {
     "name": "stderr",
     "output_type": "stream",
     "text": [
      "Uploading: 100%|██████████| 49/49 [00:01<00:00, 24.70it/s]"
     ]
    },
    {
     "name": "stdout",
     "output_type": "stream",
     "text": [
      "\n",
      "응답코드--> 200\n",
      "\n",
      "응답코드--> 200\n",
      "[ <Response [200]>,\n",
      "  <Response [200]>,\n",
      "  <Response [200]>,\n",
      "  <Response [200]>,\n",
      "  <Response [200]>,\n",
      "  <Response [200]>,\n",
      "  <Response [200]>,\n",
      "  <Response [200]>,\n",
      "  <Response [200]>,\n",
      "  <Response [200]>,\n",
      "  <Response [200]>,\n",
      "  <Response [200]>,\n",
      "  <Response [200]>,\n",
      "  <Response [200]>,\n",
      "  <Response [200]>,\n",
      "  <Response [200]>,\n",
      "  <Response [200]>,\n",
      "  <Response [200]>,\n",
      "  <Response [200]>,\n",
      "  <Response [200]>,\n",
      "  <Response [200]>,\n",
      "  <Response [200]>,\n",
      "  <Response [200]>,\n",
      "  <Response [200]>,\n",
      "  <Response [200]>,\n",
      "  <Response [200]>,\n",
      "  <Response [200]>,\n",
      "  <Response [200]>,\n",
      "  <Response [200]>,\n",
      "  <Response [200]>,\n",
      "  <Response [200]>,\n",
      "  <Response [200]>,\n",
      "  <Response [200]>,\n",
      "  <Response [200]>,\n",
      "  <Response [200]>,\n",
      "  <Response [200]>,\n",
      "  <Response [200]>,\n",
      "  <Response [200]>,\n",
      "  <Response [200]>,\n",
      "  <Response [200]>,\n",
      "  <Response [200]>,\n",
      "  <Response [200]>,\n",
      "  <Response [200]>,\n",
      "  <Response [200]>,\n",
      "  <Response [200]>,\n",
      "  <Response [200]>,\n",
      "  <Response [200]>,\n",
      "  <Response [200]>,\n",
      "  <Response [200]>]\n"
     ]
    },
    {
     "name": "stderr",
     "output_type": "stream",
     "text": [
      "\n"
     ]
    }
   ],
   "source": [
    "# 멀티 파일 업로드 | 자동 경로 설정\n",
    "import pprint \n",
    "pp = pprint.PrettyPrinter(indent=2)\n",
    "api = ObjectStorage()\n",
    "res_li = api.upload_files(resourceUUID=resource_uuid, files=uploading_files, path=None)\n",
    "pp.pprint(res_li)"
   ]
  },
  {
   "cell_type": "markdown",
   "id": "236ee35b",
   "metadata": {},
   "source": [
    "#### [5.2.2] 멀티 파일 업로드 | 수동 경로 설정"
   ]
  },
  {
   "cell_type": "code",
   "execution_count": null,
   "id": "8cc6f05b",
   "metadata": {},
   "outputs": [
    {
     "name": "stdout",
     "output_type": "stream",
     "text": [
      "업로드할 파일: trade_money_mv20.csv\n",
      "\n",
      "DFS 스토리지상의 파일 절대경로: 'Multi/trade_money_mv20.csv'\n",
      "업로드할 파일: all_dtypes.csv\n",
      "\n",
      "DFS 스토리지상의 파일 절대경로: 'Multi/all_dtypes.csv'\n",
      "업로드할 파일: json_list.json\n",
      "\n",
      "DFS 스토리지상의 파일 절대경로: 'Multi/json_list.json'\n",
      "업로드할 파일: _Boolean.csv\n",
      "\n",
      "DFS 스토리지상의 파일 절대경로: 'Multi/_Boolean.csv'\n",
      "업로드할 파일: _Datetime.csv\n",
      "\n",
      "DFS 스토리지상의 파일 절대경로: 'Multi/_Datetime.csv'\n",
      "업로드할 파일: _Datetime.json\n",
      "\n",
      "DFS 스토리지상의 파일 절대경로: 'Multi/_Datetime.json'\n",
      "업로드할 파일: _Number.csv\n",
      "\n",
      "DFS 스토리지상의 파일 절대경로: 'Multi/_Number.csv'\n",
      "업로드할 파일: _String.csv\n",
      "\n",
      "DFS 스토리지상의 파일 절대경로: 'Multi/_String.csv'\n",
      "업로드할 파일: Data Engineer.ipynb\n",
      "\n",
      "DFS 스토리지상의 파일 절대경로: 'Multi/Data Engineer.ipynb'\n",
      "업로드할 파일: DummyData.json\n",
      "\n",
      "DFS 스토리지상의 파일 절대경로: 'Multi/DummyData.json'\n",
      "업로드할 파일: sample01.csv\n",
      "\n",
      "DFS 스토리지상의 파일 절대경로: 'Multi/sample01.csv'\n",
      "업로드할 파일: sample01.json\n",
      "\n",
      "DFS 스토리지상의 파일 절대경로: 'Multi/sample01.json'\n",
      "업로드할 파일: sample01_even.json\n",
      "\n",
      "DFS 스토리지상의 파일 절대경로: 'Multi/sample01_even.json'\n",
      "업로드할 파일: Data Engineer.ipynb\n",
      "\n",
      "DFS 스토리지상의 파일 절대경로: 'Multi/Data Engineer.ipynb'\n",
      "업로드할 파일: Data_Modeling.json\n",
      "\n",
      "DFS 스토리지상의 파일 절대경로: 'Multi/Data_Modeling.json'\n",
      "업로드할 파일: Dummy data.xlsx\n",
      "\n",
      "DFS 스토리지상의 파일 절대경로: 'Multi/Dummy data.xlsx'\n",
      "업로드할 파일: role_description.csv\n",
      "\n",
      "DFS 스토리지상의 파일 절대경로: 'Multi/role_description.csv'\n",
      "업로드할 파일: file01.csv\n",
      "\n",
      "DFS 스토리지상의 파일 절대경로: 'Multi/file01.csv'\n",
      "업로드할 파일: file02.csv\n",
      "\n",
      "DFS 스토리지상의 파일 절대경로: 'Multi/file02.csv'\n",
      "업로드할 파일: file03.csv\n",
      "\n",
      "DFS 스토리지상의 파일 절대경로: 'Multi/file03.csv'\n",
      "업로드할 파일: file04_onefile.csv\n",
      "\n",
      "DFS 스토리지상의 파일 절대경로: 'Multi/file04_onefile.csv'\n",
      "업로드할 파일: 2024-01-01.csv\n",
      "\n",
      "DFS 스토리지상의 파일 절대경로: 'Multi/2024-01-01.csv'\n",
      "업로드할 파일: 2025-01-01.csv\n",
      "\n",
      "DFS 스토리지상의 파일 절대경로: 'Multi/2025-01-01.csv'\n",
      "업로드할 파일: 2026-01-01.csv\n",
      "\n",
      "DFS 스토리지상의 파일 절대경로: 'Multi/2026-01-01.csv'\n",
      "업로드할 파일: test_description.md\n",
      "\n",
      "DFS 스토리지상의 파일 절대경로: 'Multi/test_description.md'\n",
      "업로드할 파일: role_change_history.csv\n",
      "\n",
      "DFS 스토리지상의 파일 절대경로: 'Multi/role_change_history.csv'\n",
      "업로드할 파일: test_description.md\n",
      "\n",
      "DFS 스토리지상의 파일 절대경로: 'Multi/test_description.md'\n",
      "업로드할 파일: new_ds.csv\n",
      "\n",
      "DFS 스토리지상의 파일 절대경로: 'Multi/new_ds.csv'\n",
      "업로드할 파일: train_ds.csv\n",
      "\n",
      "DFS 스토리지상의 파일 절대경로: 'Multi/train_ds.csv'\n",
      "업로드할 파일: 6739336C-0D56-134F-B70C-3F93959ECBD5.csv\n",
      "\n",
      "DFS 스토리지상의 파일 절대경로: 'Multi/6739336C-0D56-134F-B70C-3F93959ECBD5.csv'\n",
      "업로드할 파일: BA4C43CD-A095-9245-8305-43E6D5A48953.csv\n",
      "\n",
      "DFS 스토리지상의 파일 절대경로: 'Multi/BA4C43CD-A095-9245-8305-43E6D5A48953.csv'\n",
      "업로드할 파일: 8B40BE9E-C4CF-B046-8577-9E3E921D3185.csv\n",
      "\n",
      "DFS 스토리지상의 파일 절대경로: 'Multi/8B40BE9E-C4CF-B046-8577-9E3E921D3185.csv'\n",
      "\n",
      "응답코드--> 200\n",
      "업로드할 파일: new_ds.csv\n",
      "\n",
      "DFS 스토리지상의 파일 절대경로: 'Multi/new_ds.csv'\n",
      "\n",
      "응답코드--> 200\n",
      "업로드할 파일: train_ds.csv\n",
      "\n",
      "DFS 스토리지상의 파일 절대경로: 'Multi/train_ds.csv'\n",
      "\n",
      "응답코드--> 200\n",
      "업로드할 파일: new_ds.csv\n",
      "\n",
      "DFS 스토리지상의 파일 절대경로: 'Multi/new_ds.csv'\n",
      "\n",
      "응답코드--> 200\n",
      "업로드할 파일: train_ds.csv\n",
      "\n",
      "DFS 스토리지상의 파일 절대경로: 'Multi/train_ds.csv'\n",
      "\n",
      "응답코드--> 200\n",
      "업로드할 파일: single_datum.json\n",
      "\n",
      "DFS 스토리지상의 파일 절대경로: 'Multi/single_datum.json'\n",
      "\n",
      "응답코드--> 200\n",
      "업로드할 파일: chen-et-al-2024-asymmetric-synthesis-of-hydroindoles-via-desymmetrizing-3-2-annulation-of-p-quinamines-and.pdf\n",
      "\n",
      "DFS 스토리지상의 파일 절대경로: 'Multi/chen-et-al-2024-asymmetric-synthesis-of-hydroindoles-via-desymmetrizing-3-2-annulation-of-p-quinamines-and.pdf'\n",
      "\n",
      "응답코드--> 200\n",
      "업로드할 파일: fan-et-al-2024-pentanary-oxythiogermanates-ba3mge3o2s8-(m-ca-zn)-featuring-ge3o2s8-8-trimers-and-mge3o2s8-6-chains.pdf\n",
      "\n",
      "DFS 스토리지상의 파일 절대경로: 'Multi/fan-et-al-2024-pentanary-oxythiogermanates-ba3mge3o2s8-(m-ca-zn)-featuring-ge3o2s8-8-trimers-and-mge3o2s8-6-chains.pdf'\n",
      "\n",
      "응답코드--> 200\n",
      "업로드할 파일: park-et-al-2021-internal-conversion-between-bright-(11bu-)-and-dark-(21ag-)-states-in-s-trans-butadiene-and-s-trans.pdf\n",
      "\n",
      "DFS 스토리지상의 파일 절대경로: 'Multi/park-et-al-2021-internal-conversion-between-bright-(11bu-)-and-dark-(21ag-)-states-in-s-trans-butadiene-and-s-trans.pdf'\n",
      "\n",
      "응답코드--> 200\n",
      "업로드할 파일: 20240411_[Bondview] [미국 3월 CPI Review] 한번에 몰려온 악재.pdf\n",
      "\n",
      "DFS 스토리지상의 파일 절대경로: 'Multi/20240411_[Bondview] [미국 3월 CPI Review] 한번에 몰려온 악재.pdf'\n",
      "\n",
      "응답코드--> 200\n",
      "업로드할 파일: Battery_Weekly_2024.03.11__(Battery Weekly(Overweight) 섹터 내 주도주 변화).pdf\n",
      "\n",
      "DFS 스토리지상의 파일 절대경로: 'Multi/Battery_Weekly_2024.03.11__(Battery Weekly(Overweight) 섹터 내 주도주 변화).pdf'\n",
      "\n",
      "응답코드--> 200\n",
      "업로드할 파일: GCW_20240311.pdf\n",
      "\n",
      "DFS 스토리지상의 파일 절대경로: 'Multi/GCW_20240311.pdf'\n",
      "\n",
      "응답코드--> 200\n",
      "업로드할 파일: Hana_Research_001.pdf\n",
      "\n",
      "DFS 스토리지상의 파일 절대경로: 'Multi/Hana_Research_001.pdf'\n",
      "\n",
      "응답코드--> 200\n",
      "업로드할 파일: Petchem_Refining_Weekly_20240311_F__(OSP 약세는 아시아 정유사 매수 근거).pdf\n",
      "\n",
      "DFS 스토리지상의 파일 절대경로: 'Multi/Petchem_Refining_Weekly_20240311_F__(OSP 약세는 아시아 정유사 매수 근거).pdf'\n",
      "\n",
      "응답코드--> 200\n",
      "업로드할 파일: Weekly_Roko_0311__(전기전자 휴대폰(Overweight) 시간은 지나고 있다).pdf\n",
      "\n",
      "DFS 스토리지상의 파일 절대경로: 'Multi/Weekly_Roko_0311__(전기전자 휴대폰(Overweight) 시간은 지나고 있다).pdf'\n",
      "\n",
      "응답코드--> 200\n",
      "업로드할 파일: [Econ Snapshot] 미국 3월 CPI 불안감 속에서 중심 잡기.pdf\n",
      "\n",
      "DFS 스토리지상의 파일 절대경로: 'Multi/[Econ Snapshot] 미국 3월 CPI 불안감 속에서 중심 잡기.pdf'\n",
      "\n",
      "응답코드--> 200\n",
      "업로드할 파일: 02_NETVIBES Strategy__Diana GOENAGA - Shortcut.lnk\n",
      "\n",
      "DFS 스토리지상의 파일 절대경로: 'Multi/02_NETVIBES Strategy__Diana GOENAGA - Shortcut.lnk'\n",
      "\n",
      "응답코드--> 200\n",
      "업로드할 파일: trade.xlsx\n",
      "\n",
      "DFS 스토리지상의 파일 절대경로: 'Multi/trade.xlsx'\n",
      "\n",
      "응답코드--> 200\n",
      "\n",
      "응답코드--> 200\n",
      "\n",
      "응답코드--> 200\n"
     ]
    },
    {
     "name": "stderr",
     "output_type": "stream",
     "text": [
      "Uploading:   0%|          | 0/49 [00:00<?, ?it/s]"
     ]
    },
    {
     "name": "stdout",
     "output_type": "stream",
     "text": [
      "\n",
      "응답코드--> 200\n",
      "\n",
      "응답코드--> 200\n",
      "\n",
      "응답코드--> 200\n",
      "\n",
      "응답코드--> 200\n",
      "\n",
      "응답코드--> 200\n",
      "\n",
      "응답코드--> 200\n",
      "\n",
      "응답코드--> 200\n"
     ]
    },
    {
     "name": "stderr",
     "output_type": "stream",
     "text": [
      "Uploading:  61%|██████    | 30/49 [00:00<00:00, 222.50it/s]"
     ]
    },
    {
     "name": "stdout",
     "output_type": "stream",
     "text": [
      "\n",
      "응답코드--> 200\n",
      "\n",
      "응답코드--> 200\n",
      "\n",
      "응답코드--> 200\n",
      "\n",
      "응답코드--> 200\n",
      "\n",
      "응답코드--> 200\n",
      "\n",
      "응답코드--> 200\n",
      "\n",
      "응답코드--> 200\n",
      "\n",
      "응답코드--> 200\n",
      "\n",
      "응답코드--> 200\n",
      "\n",
      "응답코드--> 200\n",
      "\n",
      "응답코드--> 200\n",
      "\n",
      "응답코드--> 200\n",
      "\n",
      "응답코드--> 200\n",
      "\n",
      "응답코드--> 200\n",
      "\n",
      "응답코드--> 200\n",
      "\n",
      "응답코드--> 200\n",
      "\n",
      "응답코드--> 200\n",
      "\n",
      "응답코드--> 200\n",
      "\n",
      "응답코드--> 200\n",
      "\n",
      "응답코드--> 200\n",
      "\n",
      "응답코드--> 200\n"
     ]
    },
    {
     "name": "stderr",
     "output_type": "stream",
     "text": [
      "Uploading: 100%|██████████| 49/49 [00:01<00:00, 34.04it/s] "
     ]
    },
    {
     "name": "stdout",
     "output_type": "stream",
     "text": [
      "\n",
      "응답코드--> 200\n",
      "[ <Response [200]>,\n",
      "  <Response [200]>,\n",
      "  <Response [200]>,\n",
      "  <Response [200]>,\n",
      "  <Response [200]>,\n",
      "  <Response [200]>,\n",
      "  <Response [200]>,\n",
      "  <Response [200]>,\n",
      "  <Response [200]>,\n",
      "  <Response [200]>,\n",
      "  <Response [200]>,\n",
      "  <Response [200]>,\n",
      "  <Response [200]>,\n",
      "  <Response [200]>,\n",
      "  <Response [200]>,\n",
      "  <Response [200]>,\n",
      "  <Response [200]>,\n",
      "  <Response [200]>,\n",
      "  <Response [200]>,\n",
      "  <Response [200]>,\n",
      "  <Response [200]>,\n",
      "  <Response [200]>,\n",
      "  <Response [200]>,\n",
      "  <Response [200]>,\n",
      "  <Response [200]>,\n",
      "  <Response [200]>,\n",
      "  <Response [200]>,\n",
      "  <Response [200]>,\n",
      "  <Response [200]>,\n",
      "  <Response [200]>,\n",
      "  <Response [200]>,\n",
      "  <Response [200]>,\n",
      "  <Response [200]>,\n",
      "  <Response [200]>,\n",
      "  <Response [200]>,\n",
      "  <Response [200]>,\n",
      "  <Response [200]>,\n",
      "  <Response [200]>,\n",
      "  <Response [200]>,\n",
      "  <Response [200]>,\n",
      "  <Response [200]>,\n",
      "  <Response [200]>,\n",
      "  <Response [200]>,\n",
      "  <Response [200]>,\n",
      "  <Response [200]>,\n",
      "  <Response [200]>,\n",
      "  <Response [200]>,\n",
      "  <Response [200]>,\n",
      "  <Response [200]>]\n"
     ]
    },
    {
     "name": "stderr",
     "output_type": "stream",
     "text": [
      "\n"
     ]
    }
   ],
   "source": [
    "# 멀티 파일 업로드 | 수동 경로 설정\n",
    "api = ObjectStorage()\n",
    "res_li = api.upload_files(resourceUUID=resource_uuid, files=uploading_files, path=\"Multi/\")\n",
    "pp.pprint(res_li)"
   ]
  },
  {
   "cell_type": "markdown",
   "id": "251a6840",
   "metadata": {},
   "source": [
    "- res.json() 없음 --> 업로드 결과는 플랫폼에서 직접 확인  "
   ]
  },
  {
   "cell_type": "markdown",
   "id": "b0f7d8bf",
   "metadata": {},
   "source": [
    "### [5.3] 스토리지 EXPORT "
   ]
  },
  {
   "cell_type": "code",
   "execution_count": 94,
   "id": "dfc1cccb",
   "metadata": {},
   "outputs": [
    {
     "name": "stdout",
     "output_type": "stream",
     "text": [
      "\n",
      "응답코드--> 200\n"
     ]
    },
    {
     "data": {
      "text/plain": [
       "<Response [200]>"
      ]
     },
     "execution_count": 94,
     "metadata": {},
     "output_type": "execute_result"
    }
   ],
   "source": [
    "api = Storages()\n",
    "res = api.export_(resource_uuid=resource_uuid)\n",
    "res "
   ]
  },
  {
   "cell_type": "code",
   "execution_count": 95,
   "id": "22efc22a",
   "metadata": {},
   "outputs": [],
   "source": [
    "file = os.path.join(os.getcwd(), \"01_Storages\", \"Export Object Storage.json\")\n",
    "with open(file, \"w\", encoding=\"utf-8\") as f:\n",
    "    json.dump(res.json(), f, ensure_ascii=False, indent=2)"
   ]
  },
  {
   "cell_type": "markdown",
   "id": "f0e9f189",
   "metadata": {},
   "source": [
    "# [6] 사용 예제 | Semantic Graph Index Unit"
   ]
  },
  {
   "cell_type": "markdown",
   "id": "397c5f1f",
   "metadata": {},
   "source": [
    "### [6.1] SGI Storage 신규 생성시 데이터 모델링을 동시에 수행 "
   ]
  },
  {
   "cell_type": "code",
   "execution_count": 96,
   "id": "dfa640f0",
   "metadata": {},
   "outputs": [],
   "source": [
    "# 데이터 모델링 \n",
    "data_modeling_config = {\n",
    "    \"datamodel\": {\n",
    "        \"classes\": [\n",
    "            {\n",
    "                \"name\": \"DummyData_01\",\n",
    "                \"parents\": [],\n",
    "                \"pkg\": \"Rawdata\",\n",
    "                \"attributes\": [\n",
    "                    {\n",
    "                        \"name\": \"seq\",\n",
    "                        \"type\": {\n",
    "                            \"dataType\": \"Integer\",\n",
    "                            \"dataStructure\": \"Singleton\"\n",
    "                        },\n",
    "                        \"annotation\": {}\n",
    "                    },\n",
    "                    {\n",
    "                        \"name\": \"title\",\n",
    "                        \"type\": {\n",
    "                            \"dataType\": \"String\",\n",
    "                            \"dataStructure\": \"Singleton\"\n",
    "                        },\n",
    "                        \"annotation\": {}\n",
    "                    },\n",
    "                    {\n",
    "                        \"name\": \"_text\",\n",
    "                        \"type\": {\n",
    "                            \"dataType\": \"String\",\n",
    "                            \"dataStructure\": \"Singleton\"\n",
    "                        },\n",
    "                        \"annotation\": {}\n",
    "                    }\n",
    "                ]\n",
    "            },\n",
    "            {\n",
    "                \"name\": \"DummyData_02\",\n",
    "                \"parents\": [],\n",
    "                \"pkg\": \"Rawdata\",\n",
    "                \"attributes\": [\n",
    "                    {\n",
    "                        \"name\": \"seq\",\n",
    "                        \"type\": {\n",
    "                            \"dataType\": \"Integer\",\n",
    "                            \"dataStructure\": \"Singleton\"\n",
    "                        },\n",
    "                        \"annotation\": {}\n",
    "                    },\n",
    "                    {\n",
    "                        \"name\": \"title\",\n",
    "                        \"type\": {\n",
    "                            \"dataType\": \"String\",\n",
    "                            \"dataStructure\": \"Singleton\"\n",
    "                        },\n",
    "                        \"annotation\": {}\n",
    "                    },\n",
    "                    {\n",
    "                        \"name\": \"_text\",\n",
    "                        \"type\": {\n",
    "                            \"dataType\": \"String\",\n",
    "                            \"dataStructure\": \"Singleton\"\n",
    "                        },\n",
    "                        \"annotation\": {}\n",
    "                    }\n",
    "                ]\n",
    "            }\n",
    "        ]\n",
    "    }\n",
    "}"
   ]
  },
  {
   "cell_type": "code",
   "execution_count": null,
   "id": "13727c74",
   "metadata": {},
   "outputs": [
    {
     "data": {
      "text/plain": [
       "{'@class': 'IndexUnit',\n",
       " 'resourceId': 'TestSGI_01_CreatedByRestAPI',\n",
       " 'name': 'TestSGI_01_CreatedByRestAPI',\n",
       " 'description': 'SGI 데이터 모델링 테스트 후 삭제할 것',\n",
       " 'kind': 'Storage',\n",
       " 'type': 'IndexUnit',\n",
       " 'resourcePath': 'Storage/TestSGI_01_CreatedByRestAPI.json',\n",
       " 'resourceUUID': 'd643b7a8-a722-49a4-a8bc-b7bc7eaa7e39',\n",
       " 'projectId': 'dp-global-000000',\n",
       " 'workspaceId': 'dw-global-000000-default',\n",
       " 'tenant': 'R1132100527066',\n",
       " 'created': '2025-07-17T10:55:01.924863Z',\n",
       " 'modified': '2025-07-28T08:40:24.874939Z',\n",
       " 'creator': 'jle69_gmail',\n",
       " 'ceStamp': '3649ffe5-18ab-4196-ae0a-b6f89e7199d8',\n",
       " 'id': 'd643b7a8-a722-49a4-a8bc-b7bc7eaa7e39',\n",
       " 'config': {'datamodel': {'classes': [{'name': 'DummyData_01',\n",
       "     'parents': [],\n",
       "     'pkg': 'Rawdata',\n",
       "     'attributes': [{'name': 'seq',\n",
       "       'type': {'dataType': 'Integer', 'dataStructure': 'Singleton'},\n",
       "       'annotation': {}},\n",
       "      {'name': 'title',\n",
       "       'type': {'dataType': 'String', 'dataStructure': 'Singleton'},\n",
       "       'annotation': {}},\n",
       "      {'name': '_text',\n",
       "       'type': {'dataType': 'String', 'dataStructure': 'Singleton'},\n",
       "       'annotation': {}}]},\n",
       "    {'name': 'DummyData_02',\n",
       "     'parents': [],\n",
       "     'pkg': 'Rawdata',\n",
       "     'attributes': [{'name': 'seq',\n",
       "       'type': {'dataType': 'Integer', 'dataStructure': 'Singleton'},\n",
       "       'annotation': {}},\n",
       "      {'name': 'title',\n",
       "       'type': {'dataType': 'String', 'dataStructure': 'Singleton'},\n",
       "       'annotation': {}},\n",
       "      {'name': '_text',\n",
       "       'type': {'dataType': 'String', 'dataStructure': 'Singleton'},\n",
       "       'annotation': {}}]}]}}}"
      ]
     },
     "execution_count": 99,
     "metadata": {},
     "output_type": "execute_result"
    }
   ],
   "source": [
    "from dserestapi import Storages\n",
    "# 스토리지 생성\n",
    "api = Storages()\n",
    "res = api.create(\n",
    "    stype=\"IndexUnit\",\n",
    "    name=\"TestSGI_01_CreatedByRestAPI\",\n",
    "    description=\"SGI 데이터 모델링 테스트 후 삭제할 것\",\n",
    "    config=data_modeling_config\n",
    ")\n",
    "res.json() "
   ]
  },
  {
   "cell_type": "code",
   "execution_count": 98,
   "id": "c80a1faa",
   "metadata": {},
   "outputs": [],
   "source": [
    "file = os.path.join(os.getcwd(), \"03_SemanticGraphIndex\", \"Create A SGI.json\")\n",
    "with open(file, \"w\", encoding=\"utf-8\") as f:\n",
    "    json.dump(res.json(), f, ensure_ascii=False, indent=2)"
   ]
  },
  {
   "cell_type": "markdown",
   "id": "71bdf657",
   "metadata": {},
   "source": [
    "### [6.2] 데이터 모델 스키마에 맞는 데이터 생성 후 스키마에 맞는 데이터 타입인지 정합성 체크 "
   ]
  },
  {
   "cell_type": "code",
   "execution_count": 101,
   "id": "da9ef74d",
   "metadata": {},
   "outputs": [
    {
     "data": {
      "text/plain": [
       "'d643b7a8-a722-49a4-a8bc-b7bc7eaa7e39'"
      ]
     },
     "execution_count": 101,
     "metadata": {},
     "output_type": "execute_result"
    }
   ],
   "source": [
    "resource_uuid = res.json()[\"resourceUUID\"]\n",
    "# resource_uuid = \"b1176f72-a3e2-4afc-9b02-543859e0cdf2\"\n",
    "resource_uuid"
   ]
  },
  {
   "cell_type": "code",
   "execution_count": null,
   "id": "873122a3",
   "metadata": {},
   "outputs": [],
   "source": [
    "# from dserestapi import SemanticGraphIndex\n",
    "# sgi = SemanticGraphIndex()\n",
    "# res = sgi.class_count(resourceUUID=resource_uuid, pkg_name=\"Rawdata\", class_name_li=[\"DummyData_01\"])\n",
    "# with open(os.path.join(os.getcwd(), \"Class Count.json\"), \"w\", encoding=\"utf-8\") as f:\n",
    "#     json.dump(res.json(), f, ensure_ascii=False, indent=2)"
   ]
  },
  {
   "cell_type": "code",
   "execution_count": 108,
   "id": "cc977987",
   "metadata": {},
   "outputs": [],
   "source": [
    "# 데이터 생성 \n",
    "data = [\n",
    "    {\n",
    "        \"uri\": \"Rawdata.DummyData_01.0001\",\n",
    "        \"class\": \"Rawdata.DummyData_01\",\n",
    "        \"seq\": 1,\n",
    "        \"title\": \"This is a title-1\",\n",
    "        \"_text\": \"bla bla bla bla bla bla bla bla bla bla bla bla bla bla bla bla bla bla bla bla bla bla bla bla~\"\n",
    "    },\n",
    "    {\n",
    "        \"uri\": \"Rawdata.DummyData_01.0002\",\n",
    "        \"class\": \"Rawdata.DummyData_01\",\n",
    "        \"seq\": 2,\n",
    "        \"title\": \"This is a title-2\",\n",
    "        \"_text\": \"(2) bla bla bla bla bla bla bla bla bla bla bla bla bla bla bla bla bla bla bla bla bla bla bla bla~\"\n",
    "    },\n",
    "]"
   ]
  },
  {
   "cell_type": "code",
   "execution_count": 109,
   "id": "b51469ee",
   "metadata": {},
   "outputs": [
    {
     "name": "stdout",
     "output_type": "stream",
     "text": [
      "\n",
      "응답코드--> 200\n"
     ]
    },
    {
     "data": {
      "text/plain": [
       "[]"
      ]
     },
     "execution_count": 109,
     "metadata": {},
     "output_type": "execute_result"
    }
   ],
   "source": [
    "# 저장할 데이터의 정합성 체크 \n",
    "from dserestapi import SemanticGraphIndex\n",
    "sgi = SemanticGraphIndex()\n",
    "res = sgi.validateItemsEvent(resourceUUID=resource_uuid, action=\"AddOrReplaceItem\", data=data)\n",
    "res.json()"
   ]
  },
  {
   "cell_type": "code",
   "execution_count": 105,
   "id": "7750df3a",
   "metadata": {},
   "outputs": [],
   "source": [
    "file = os.path.join(os.getcwd(), \"03_SemanticGraphIndex\", \"Validation Items.json\")\n",
    "with open(file, \"w\", encoding=\"utf-8\") as f:\n",
    "    json.dump(res.json(), f, ensure_ascii=False, indent=2)"
   ]
  },
  {
   "cell_type": "markdown",
   "id": "e68f697f",
   "metadata": {},
   "source": [
    "### [6.3] 생성한 SGI의 타겟 데이터 모델에 데이터를 저장"
   ]
  },
  {
   "cell_type": "code",
   "execution_count": null,
   "id": "fd892d03",
   "metadata": {},
   "outputs": [
    {
     "data": {
      "text/plain": [
       "{'notifications': []}"
      ]
     },
     "execution_count": 111,
     "metadata": {},
     "output_type": "execute_result"
    }
   ],
   "source": [
    "res = sgi.ingest(resourceUUID=resource_uuid, data=data)\n",
    "res.json()"
   ]
  },
  {
   "cell_type": "code",
   "execution_count": null,
   "id": "90819025",
   "metadata": {},
   "outputs": [],
   "source": [
    "file = os.path.join(os.getcwd(), \"03_SemanticGraphIndex\", \"Ingest Data.json\")\n",
    "with open(file, \"w\", encoding=\"utf-8\") as f:\n",
    "    json.dump(res.json(), f, ensure_ascii=False, indent=2)"
   ]
  },
  {
   "cell_type": "markdown",
   "id": "1c326598",
   "metadata": {},
   "source": [
    "- 데이터가 저장되었는지 플랫폼에서 직접확인"
   ]
  },
  {
   "cell_type": "markdown",
   "id": "037722de",
   "metadata": {},
   "source": [
    "### [6.4] 데이터 저장 결과 알림 받기 "
   ]
  },
  {
   "cell_type": "code",
   "execution_count": null,
   "id": "9bbf45df",
   "metadata": {},
   "outputs": [
    {
     "data": {
      "text/plain": [
       "{'notifications': [], 'count': 0}"
      ]
     },
     "execution_count": 115,
     "metadata": {},
     "output_type": "execute_result"
    }
   ],
   "source": [
    "res = sgi.notification(resourceUUID=resource_uuid)\n",
    "res.json()"
   ]
  },
  {
   "cell_type": "markdown",
   "id": "a78a42bb",
   "metadata": {},
   "source": [
    "### [6.5] 저장한 데이터의 object 별 uri 가져오기"
   ]
  },
  {
   "cell_type": "code",
   "execution_count": 116,
   "id": "9e16ee3c",
   "metadata": {},
   "outputs": [
    {
     "name": "stdout",
     "output_type": "stream",
     "text": [
      "\n",
      "응답코드--> 200\n"
     ]
    },
    {
     "data": {
      "text/plain": [
       "{'uris': ['Rawdata.DummyData_01.0001', 'Rawdata.DummyData_01.0002']}"
      ]
     },
     "execution_count": 116,
     "metadata": {},
     "output_type": "execute_result"
    }
   ],
   "source": [
    "res = sgi.get_uri(resourceUUID=resource_uuid)\n",
    "res.json()"
   ]
  },
  {
   "cell_type": "code",
   "execution_count": 117,
   "id": "034dbdc5",
   "metadata": {},
   "outputs": [],
   "source": [
    "file = os.path.join(os.getcwd(), \"03_SemanticGraphIndex\", \"SGI URIs.json\")\n",
    "with open(file, \"w\", encoding=\"utf-8\") as f:\n",
    "    json.dump(res.json(), f, ensure_ascii=False, indent=2)"
   ]
  },
  {
   "cell_type": "code",
   "execution_count": null,
   "id": "c23fbd86",
   "metadata": {},
   "outputs": [],
   "source": []
  },
  {
   "cell_type": "code",
   "execution_count": null,
   "id": "13a30cf0",
   "metadata": {},
   "outputs": [],
   "source": []
  }
 ],
 "metadata": {
  "kernelspec": {
   "display_name": ".env",
   "language": "python",
   "name": "python3"
  },
  "language_info": {
   "codemirror_mode": {
    "name": "ipython",
    "version": 3
   },
   "file_extension": ".py",
   "mimetype": "text/x-python",
   "name": "python",
   "nbconvert_exporter": "python",
   "pygments_lexer": "ipython3",
   "version": "3.12.9"
  }
 },
 "nbformat": 4,
 "nbformat_minor": 5
}
