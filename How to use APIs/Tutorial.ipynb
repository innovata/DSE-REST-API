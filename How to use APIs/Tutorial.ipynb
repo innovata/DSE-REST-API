{
 "cells": [
  {
   "cell_type": "code",
   "execution_count": 1,
   "id": "40687b0a",
   "metadata": {},
   "outputs": [],
   "source": [
    "import os, sys \n",
    "sys.path.append(r\"F:\\pypjts\\DSE-REST-API\\src\")"
   ]
  },
  {
   "cell_type": "markdown",
   "id": "c09ee781",
   "metadata": {},
   "source": [
    "# Documentation \n",
    "https://github.com/innovata/DSE-REST-API  "
   ]
  },
  {
   "cell_type": "markdown",
   "id": "1e5a435e",
   "metadata": {},
   "source": [
    "# [1] 3DEXPERIENCE Platform CLM Agent 생성  \n",
    "- \"F:\\pypjts\\DSE-REST-API\\How to use APIs\\credentials\"경로에 Agent ID, Password 저장 "
   ]
  },
  {
   "cell_type": "markdown",
   "id": "1f037d39",
   "metadata": {},
   "source": [
    "# [2] 파이썬 가상환경(Python Virtual Environment) 생성 및 dserestapi 패키지 설치\n",
    "\n"
   ]
  },
  {
   "cell_type": "markdown",
   "id": "12d18a3b",
   "metadata": {},
   "source": [
    "# [3] 환경셋업"
   ]
  },
  {
   "cell_type": "code",
   "execution_count": 2,
   "id": "2659e45f",
   "metadata": {},
   "outputs": [],
   "source": [
    "import os, sys \n",
    "\n",
    "# <!-- 방법-1 (권장)-->\n",
    "os.environ[\"CLM_AGENT_CREDENTIAL_PATH\"] = r\"F:\\pypjts\\DSE-REST-API\\How to use APIs\\credentials\\CML Agent ID-PW.json\"\n",
    "\n",
    "# <!-- 방법-2 (선택사항) -->\n",
    "# os.environ[\"CLM_AGENT_ID\"] = \"YOUR_ID\"\n",
    "# os.environ[\"CLM_AGENT_PASSWORD\"] = \"YOUR_PASSWORD\"\n",
    "\n",
    "os.environ[\"3DX_PLATFORM_TENANT_URI\"] = \"https://r1132100527066-apk2-sgi.3dexperience.3ds.com:443\"\n",
    "\n",
    "import dserestapi "
   ]
  },
  {
   "cell_type": "code",
   "execution_count": 3,
   "id": "d918e5d6",
   "metadata": {},
   "outputs": [
    {
     "data": {
      "text/plain": [
       "<module 'dserestapi' from 'F:\\\\pypjts\\\\DSE-REST-API\\\\src\\\\dserestapi\\\\__init__.py'>"
      ]
     },
     "execution_count": 3,
     "metadata": {},
     "output_type": "execute_result"
    }
   ],
   "source": [
    "dserestapi"
   ]
  },
  {
   "cell_type": "markdown",
   "id": "168ad45e",
   "metadata": {},
   "source": [
    "# [4] 사용 예제 | Storages"
   ]
  },
  {
   "cell_type": "code",
   "execution_count": 4,
   "id": "0a919406",
   "metadata": {},
   "outputs": [
    {
     "data": {
      "text/plain": [
       "<dserestapi.Storages at 0x1defdb7d610>"
      ]
     },
     "execution_count": 4,
     "metadata": {},
     "output_type": "execute_result"
    }
   ],
   "source": [
    "from dserestapi import Storages\n",
    "api = Storages()\n",
    "api "
   ]
  },
  {
   "cell_type": "markdown",
   "id": "25c65d0b",
   "metadata": {},
   "source": [
    "### [4.1] 스토리지 목록 가져오기 "
   ]
  },
  {
   "cell_type": "code",
   "execution_count": null,
   "id": "bdb2f79d",
   "metadata": {},
   "outputs": [],
   "source": [
    "# 모든 스토리지 리스트 가져오기\n",
    "# res = api.get()\n",
    "res.json()"
   ]
  },
  {
   "cell_type": "code",
   "execution_count": null,
   "id": "665e908b",
   "metadata": {},
   "outputs": [],
   "source": [
    "!pip install pandas "
   ]
  },
  {
   "cell_type": "code",
   "execution_count": null,
   "id": "d1f21d37",
   "metadata": {},
   "outputs": [],
   "source": [
    "import pandas as pd \n",
    "pd.DataFrame(res.json()['cards']).head(5)"
   ]
  },
  {
   "cell_type": "code",
   "execution_count": null,
   "id": "a92e1d81",
   "metadata": {},
   "outputs": [],
   "source": [
    "import json \n",
    "\n",
    "file = os.path.join(os.getcwd(), \"01_Storages\", \"Storages List.json\")\n",
    "with open(file, \"w\", encoding=\"utf-8\") as f:\n",
    "    json.dump(res.json(), f, ensure_ascii=False, indent=2)"
   ]
  },
  {
   "cell_type": "markdown",
   "id": "68884add",
   "metadata": {},
   "source": [
    "### [4.2] ObjectStorage 신규 생성 "
   ]
  },
  {
   "cell_type": "code",
   "execution_count": null,
   "id": "2c0e701f",
   "metadata": {},
   "outputs": [
    {
     "name": "stdout",
     "output_type": "stream",
     "text": [
      "\n",
      "응답코드--> 409\n",
      "\n",
      "\n",
      "응답코드가 2xx 또는 3xx 대역이 아닐 경우 아래와 같이 표시됩니다-->\n",
      "{ '_content': b'{\"type\":\"about:blank\",\"title\":\"Conflict\",\"status\":409,\"detai'\n",
      "              b'l\":\"Failed to create resource Resource Id TestObject-04.Crea'\n",
      "              b'tedByRestAPI already exists in workspace with id : dw-global'\n",
      "              b'-000000-default on the tenant : R1132100527066\",\"instance\":\"'\n",
      "              b'/data-factory/api/1/storage\"}',\n",
      "  '_content_consumed': True,\n",
      "  '_next': None,\n",
      "  'connection': <requests.adapters.HTTPAdapter object at 0x000001DEFD987380>,\n",
      "  'cookies': <RequestsCookieJar[]>,\n",
      "  'elapsed': datetime.timedelta(seconds=8, microseconds=953897),\n",
      "  'encoding': None,\n",
      "  'headers': {'content-type': 'application/problem+json', 'transfer-encoding': 'chunked', 'date': 'Fri, 25 Jul 2025 11:24:11 GMT', 'server': 'Microsoft-IIS/7.0'},\n",
      "  'history': [],\n",
      "  'raw': <urllib3.response.HTTPResponse object at 0x000001DEFDBAFEE0>,\n",
      "  'reason': 'Conflict',\n",
      "  'request': <PreparedRequest [POST]>,\n",
      "  'status_code': 409,\n",
      "  'url': 'https://r1132100527066-apk2-sgi.3dexperience.3ds.com:443/data-factory/resources/v1/storage'}\n"
     ]
    },
    {
     "data": {
      "text/plain": [
       "<Response [409]>"
      ]
     },
     "execution_count": 9,
     "metadata": {},
     "output_type": "execute_result"
    }
   ],
   "source": [
    "# 스토리지 생성\n",
    "res = api.create(\n",
    "    stype=\"ObjectStorage\",\n",
    "    name=\"TestObject-03.CreatedByRestAPI\",\n",
    "    description=\"테스트 후 바로 삭제할 것\"\n",
    ")\n",
    "res "
   ]
  },
  {
   "cell_type": "code",
   "execution_count": null,
   "id": "0af86930",
   "metadata": {},
   "outputs": [],
   "source": [
    "file = os.path.join(os.getcwd(), \"01_Storages\", \"Create A Storage.json\")\n",
    "with open(file, \"w\", encoding=\"utf-8\") as f:\n",
    "    json.dump(res.json(), f, ensure_ascii=False, indent=2)"
   ]
  },
  {
   "cell_type": "markdown",
   "id": "688cdb37",
   "metadata": {},
   "source": [
    "### [4.3] 생성한 스토리지 찾기"
   ]
  },
  {
   "cell_type": "code",
   "execution_count": 10,
   "id": "17c3eaff",
   "metadata": {},
   "outputs": [
    {
     "name": "stdout",
     "output_type": "stream",
     "text": [
      "\n",
      "응답코드--> 200\n"
     ]
    },
    {
     "data": {
      "text/plain": [
       "<Response [200]>"
      ]
     },
     "execution_count": 10,
     "metadata": {},
     "output_type": "execute_result"
    }
   ],
   "source": [
    "# 스토리지 검색-1\n",
    "res = api.search_by_name(\n",
    "    name=\"TestObject-04.CreatedByRestAPI\", \n",
    "    # workspace_id=\"dw-global-000000-default\"\n",
    ")\n",
    "res "
   ]
  },
  {
   "cell_type": "code",
   "execution_count": 11,
   "id": "c17f679d",
   "metadata": {},
   "outputs": [],
   "source": [
    "file = os.path.join(os.getcwd(), \"01_Storages\", \"Search-1 the Storage.json\")\n",
    "with open(file, \"w\", encoding=\"utf-8\") as f:\n",
    "    json.dump(res.json(), f, ensure_ascii=False, indent=2)"
   ]
  },
  {
   "cell_type": "markdown",
   "id": "099350cf",
   "metadata": {},
   "source": [
    "### [4.4] 스토리지 비우기 \n",
    "--> 해당 기능은 ObjectStorage 에서 다룹니다"
   ]
  },
  {
   "cell_type": "code",
   "execution_count": null,
   "id": "58b369e4",
   "metadata": {},
   "outputs": [],
   "source": []
  },
  {
   "cell_type": "code",
   "execution_count": null,
   "id": "0293bd6f",
   "metadata": {},
   "outputs": [],
   "source": []
  },
  {
   "cell_type": "code",
   "execution_count": null,
   "id": "9d9bd4ef",
   "metadata": {},
   "outputs": [],
   "source": []
  },
  {
   "cell_type": "code",
   "execution_count": null,
   "id": "24286a1c",
   "metadata": {},
   "outputs": [],
   "source": []
  },
  {
   "cell_type": "code",
   "execution_count": null,
   "id": "d7c46cd3",
   "metadata": {},
   "outputs": [],
   "source": []
  },
  {
   "cell_type": "code",
   "execution_count": null,
   "id": "d61edb61",
   "metadata": {},
   "outputs": [],
   "source": []
  },
  {
   "cell_type": "markdown",
   "id": "f0320d46",
   "metadata": {},
   "source": [
    "### [4.9] 생성한 스토리지 삭제"
   ]
  },
  {
   "cell_type": "code",
   "execution_count": null,
   "id": "be8fa606",
   "metadata": {},
   "outputs": [],
   "source": [
    "with open(file, \"r\", encoding=\"utf-8\") as f:\n",
    "    info = json.load(f)\n",
    "    resource_uuid = info['cards'][0][\"resourceUUID\"]\n",
    "resource_uuid"
   ]
  },
  {
   "cell_type": "code",
   "execution_count": null,
   "id": "e302035e",
   "metadata": {},
   "outputs": [],
   "source": [
    "# 스토리지 검색-2\n",
    "res = api.search_by_uuid(resource_uuid=resource_uuid)\n",
    "res "
   ]
  },
  {
   "cell_type": "code",
   "execution_count": null,
   "id": "65456f1b",
   "metadata": {},
   "outputs": [],
   "source": [
    "res = api.delete(resource_uuid=resource_uuid)\n",
    "res "
   ]
  },
  {
   "cell_type": "code",
   "execution_count": null,
   "id": "a5416f46",
   "metadata": {},
   "outputs": [],
   "source": [
    "# 삭제 함수 응답에는 JSON 데이터가 없기 때문에 에러 발생\n",
    "# res.json()"
   ]
  },
  {
   "cell_type": "markdown",
   "id": "34ee8d53",
   "metadata": {},
   "source": [
    "# [5] 사용 예제 | Object Storage"
   ]
  },
  {
   "cell_type": "code",
   "execution_count": 12,
   "id": "b40fcd1c",
   "metadata": {},
   "outputs": [
    {
     "data": {
      "text/plain": [
       "<dserestapi.Storages at 0x1defd9c3710>"
      ]
     },
     "execution_count": 12,
     "metadata": {},
     "output_type": "execute_result"
    }
   ],
   "source": [
    "from dserestapi import Storages\n",
    "api = Storages()\n",
    "api "
   ]
  },
  {
   "cell_type": "markdown",
   "id": "6897441c",
   "metadata": {},
   "source": [
    "### [5.1] Object Storage에 파일 업로드 "
   ]
  },
  {
   "cell_type": "code",
   "execution_count": null,
   "id": "72ecd534",
   "metadata": {},
   "outputs": [],
   "source": [
    "# 다시 신규 스토리지 생성\n",
    "res = api.create(\n",
    "    stype=\"ObjectStorage\",\n",
    "    name=\"TestObject-04.CreatedByRestAPI\",\n",
    "    description=\"테스트 후 바로 삭제할 것\"\n",
    ")"
   ]
  },
  {
   "cell_type": "code",
   "execution_count": 13,
   "id": "dbd9621e",
   "metadata": {},
   "outputs": [
    {
     "name": "stdout",
     "output_type": "stream",
     "text": [
      "\n",
      "응답코드--> 200\n"
     ]
    },
    {
     "data": {
      "text/plain": [
       "<Response [200]>"
      ]
     },
     "execution_count": 13,
     "metadata": {},
     "output_type": "execute_result"
    }
   ],
   "source": [
    "# 스토리지 검색-1\n",
    "res = api.search_by_name(\n",
    "    name=\"TestObject-04.CreatedByRestAPI\", \n",
    ")\n",
    "res "
   ]
  },
  {
   "cell_type": "code",
   "execution_count": 14,
   "id": "e5db2fc0",
   "metadata": {},
   "outputs": [
    {
     "data": {
      "text/plain": [
       "'1395c39b-eb88-433f-8974-9a3afe9f38a3'"
      ]
     },
     "execution_count": 14,
     "metadata": {},
     "output_type": "execute_result"
    }
   ],
   "source": [
    "resource_uuid = res.json()['cards'][0]['resourceUUID']\n",
    "resource_uuid"
   ]
  },
  {
   "cell_type": "code",
   "execution_count": null,
   "id": "847f23da",
   "metadata": {},
   "outputs": [],
   "source": [
    "# 파일 업로드\n",
    "from dserestapi import ObjectStorage\n",
    "\n",
    "api = ObjectStorage()\n",
    "uploading_file = r\"E:\\__ENGINEER_DRIVE__\\__DATASET__\\__Dummy Data__\\Basic Data Types\\all_dtypes.csv\"\n",
    "res = api.upload(resourceUUID=resource_uuid, file=uploading_file, path=None)\n",
    "res "
   ]
  },
  {
   "cell_type": "code",
   "execution_count": null,
   "id": "de75cf7e",
   "metadata": {},
   "outputs": [],
   "source": [
    "# JSON 데이터 없음\n",
    "# res.json()"
   ]
  },
  {
   "cell_type": "markdown",
   "id": "72c69f12",
   "metadata": {},
   "source": [
    "### [5.2] Object Storage에 디렉토리 내의 모든 파일들을 한번에 업로드 "
   ]
  },
  {
   "cell_type": "code",
   "execution_count": null,
   "id": "b511150a",
   "metadata": {},
   "outputs": [],
   "source": [
    "import os \n",
    "\n",
    "top_dir = r\"E:\\__ENGINEER_DRIVE__\\__DATASET__\\__Dummy Data__\"\n",
    "uploading_files = []\n",
    "for root, dirs, files in os.walk(top_dir):\n",
    "    for file in files:\n",
    "        uploading_files.append(os.path.join(root, file))\n",
    "\n",
    "uploading_files"
   ]
  },
  {
   "cell_type": "code",
   "execution_count": null,
   "id": "f86e4d33",
   "metadata": {},
   "outputs": [],
   "source": [
    "# 멀티 파일 업로드\n",
    "import pprint \n",
    "pp = pprint.PrettyPrinter(indent=2)\n",
    "\n",
    "api = ObjectStorage()\n",
    "res_li = api.upload_files(resourceUUID=resource_uuid, files=uploading_files, path=None)\n",
    "pp.pprint(res_li)"
   ]
  },
  {
   "cell_type": "markdown",
   "id": "3d8b38fe",
   "metadata": {},
   "source": [
    "### [5.3] 스토리지 비우기"
   ]
  },
  {
   "cell_type": "code",
   "execution_count": 22,
   "id": "13293b1e",
   "metadata": {},
   "outputs": [
    {
     "ename": "AttributeError",
     "evalue": "'Storages' object has no attribute 'clear'",
     "output_type": "error",
     "traceback": [
      "\u001b[31m---------------------------------------------------------------------------\u001b[39m",
      "\u001b[31mAttributeError\u001b[39m                            Traceback (most recent call last)",
      "\u001b[36mCell\u001b[39m\u001b[36m \u001b[39m\u001b[32mIn[22]\u001b[39m\u001b[32m, line 2\u001b[39m\n\u001b[32m      1\u001b[39m api = Storages()\n\u001b[32m----> \u001b[39m\u001b[32m2\u001b[39m res = \u001b[43mapi\u001b[49m\u001b[43m.\u001b[49m\u001b[43mclear\u001b[49m(resource_uuid=resource_uuid)\n\u001b[32m      3\u001b[39m res \n",
      "\u001b[31mAttributeError\u001b[39m: 'Storages' object has no attribute 'clear'"
     ]
    }
   ],
   "source": [
    "api = Storages()\n",
    "res = api.clear(resource_uuid=resource_uuid)\n",
    "res "
   ]
  },
  {
   "cell_type": "markdown",
   "id": "251a6840",
   "metadata": {},
   "source": [
    "--> 결과는 플랫폼에서 직접 확인  \n",
    "res.json() 없음"
   ]
  },
  {
   "cell_type": "markdown",
   "id": "b0f7d8bf",
   "metadata": {},
   "source": [
    "### [5.4] 스토리지 EXPORT "
   ]
  },
  {
   "cell_type": "code",
   "execution_count": 30,
   "id": "d1bef155",
   "metadata": {},
   "outputs": [],
   "source": [
    "from importlib import reload \n",
    "import dserestapi\n",
    "reload(dserestapi)\n",
    "from dserestapi import Storages"
   ]
  },
  {
   "cell_type": "code",
   "execution_count": 31,
   "id": "dfc1cccb",
   "metadata": {},
   "outputs": [
    {
     "name": "stdout",
     "output_type": "stream",
     "text": [
      "\n",
      "응답코드--> 200\n"
     ]
    },
    {
     "data": {
      "text/plain": [
       "<Response [200]>"
      ]
     },
     "execution_count": 31,
     "metadata": {},
     "output_type": "execute_result"
    }
   ],
   "source": [
    "api = Storages()\n",
    "res = api.export_(resource_uuid=resource_uuid)\n",
    "res "
   ]
  },
  {
   "cell_type": "code",
   "execution_count": 33,
   "id": "22efc22a",
   "metadata": {},
   "outputs": [],
   "source": [
    "file = os.path.join(os.getcwd(), \"01_Storages\", \"Export A Storage.json\")\n",
    "with open(file, \"w\", encoding=\"utf-8\") as f:\n",
    "    json.dump(res.json(), f, ensure_ascii=False, indent=2)"
   ]
  },
  {
   "cell_type": "markdown",
   "id": "b8ee35a0",
   "metadata": {},
   "source": [
    "### [5.5] 스토리지 IMPORT "
   ]
  },
  {
   "cell_type": "code",
   "execution_count": null,
   "id": "0c0847e1",
   "metadata": {},
   "outputs": [],
   "source": []
  },
  {
   "cell_type": "code",
   "execution_count": null,
   "id": "356c687a",
   "metadata": {},
   "outputs": [],
   "source": []
  },
  {
   "cell_type": "markdown",
   "id": "f0e9f189",
   "metadata": {},
   "source": [
    "# [6] 사용 예제 | Semantic Graph Index Unit"
   ]
  },
  {
   "cell_type": "markdown",
   "id": "397c5f1f",
   "metadata": {},
   "source": [
    "### [6.1] SGI Storage 신규 생성시 데이터 모델링을 동시에 수행 "
   ]
  },
  {
   "cell_type": "code",
   "execution_count": null,
   "id": "dfa640f0",
   "metadata": {},
   "outputs": [],
   "source": [
    "# 데이터 모델링 \n",
    "data_modeling_config = {\n",
    "    \"datamodel\": {\n",
    "        \"classes\": [\n",
    "            {\n",
    "                \"name\": \"DummyData_01\",\n",
    "                \"parents\": [],\n",
    "                \"pkg\": \"Rawdata\",\n",
    "                \"attributes\": [\n",
    "                    {\n",
    "                        \"name\": \"seq\",\n",
    "                        \"type\": {\n",
    "                            \"dataType\": \"Integer\",\n",
    "                            \"dataStructure\": \"Singleton\"\n",
    "                        },\n",
    "                        \"annotation\": {}\n",
    "                    },\n",
    "                    {\n",
    "                        \"name\": \"title\",\n",
    "                        \"type\": {\n",
    "                            \"dataType\": \"String\",\n",
    "                            \"dataStructure\": \"Singleton\"\n",
    "                        },\n",
    "                        \"annotation\": {}\n",
    "                    },\n",
    "                    {\n",
    "                        \"name\": \"_text\",\n",
    "                        \"type\": {\n",
    "                            \"dataType\": \"String\",\n",
    "                            \"dataStructure\": \"Singleton\"\n",
    "                        },\n",
    "                        \"annotation\": {}\n",
    "                    }\n",
    "                ]\n",
    "            },\n",
    "            {\n",
    "                \"name\": \"DummyData_02\",\n",
    "                \"parents\": [],\n",
    "                \"pkg\": \"Rawdata\",\n",
    "                \"attributes\": [\n",
    "                    {\n",
    "                        \"name\": \"seq\",\n",
    "                        \"type\": {\n",
    "                            \"dataType\": \"Integer\",\n",
    "                            \"dataStructure\": \"Singleton\"\n",
    "                        },\n",
    "                        \"annotation\": {}\n",
    "                    },\n",
    "                    {\n",
    "                        \"name\": \"title\",\n",
    "                        \"type\": {\n",
    "                            \"dataType\": \"String\",\n",
    "                            \"dataStructure\": \"Singleton\"\n",
    "                        },\n",
    "                        \"annotation\": {}\n",
    "                    },\n",
    "                    {\n",
    "                        \"name\": \"_text\",\n",
    "                        \"type\": {\n",
    "                            \"dataType\": \"String\",\n",
    "                            \"dataStructure\": \"Singleton\"\n",
    "                        },\n",
    "                        \"annotation\": {}\n",
    "                    }\n",
    "                ]\n",
    "            }\n",
    "        ]\n",
    "    }\n",
    "}"
   ]
  },
  {
   "cell_type": "code",
   "execution_count": null,
   "id": "13727c74",
   "metadata": {},
   "outputs": [],
   "source": [
    "from dserestapi import Storages\n",
    "# 스토리지 생성\n",
    "api = Storages()\n",
    "res = api.create(\n",
    "    stype=\"IndexUnit\",\n",
    "    name=\"TestSGI_01_CreatedByRestAPI\",\n",
    "    description=\"SGI 데이터 모델링 테스트 후 삭제할 것\",\n",
    "    config=data_modeling_config\n",
    ")\n",
    "res "
   ]
  },
  {
   "cell_type": "code",
   "execution_count": null,
   "id": "c80a1faa",
   "metadata": {},
   "outputs": [],
   "source": [
    "file = os.path.join(os.getcwd(), \"03_SemanticGraphIndex\", \"Create A SGI.json\")\n",
    "with open(file, \"w\", encoding=\"utf-8\") as f:\n",
    "    json.dump(res.json(), f, ensure_ascii=False, indent=2)"
   ]
  },
  {
   "cell_type": "markdown",
   "id": "71bdf657",
   "metadata": {},
   "source": [
    "### [6.2] 데이터 모델 스키마에 맞는 데이터 생성 후 스키마에 맞는 데이터 타입인지 정합성 체크 "
   ]
  },
  {
   "cell_type": "code",
   "execution_count": null,
   "id": "da9ef74d",
   "metadata": {},
   "outputs": [],
   "source": [
    "resource_uuid = \"b1176f72-a3e2-4afc-9b02-543859e0cdf2\""
   ]
  },
  {
   "cell_type": "code",
   "execution_count": null,
   "id": "873122a3",
   "metadata": {},
   "outputs": [],
   "source": [
    "# from dserestapi import SemanticGraphIndex\n",
    "# sgi = SemanticGraphIndex()\n",
    "# res = sgi.class_count(resourceUUID=resource_uuid, pkg_name=\"Rawdata\", class_name_li=[\"DummyData_01\"])\n",
    "# with open(os.path.join(os.getcwd(), \"Class Count.json\"), \"w\", encoding=\"utf-8\") as f:\n",
    "#     json.dump(res.json(), f, ensure_ascii=False, indent=2)"
   ]
  },
  {
   "cell_type": "code",
   "execution_count": null,
   "id": "cc977987",
   "metadata": {},
   "outputs": [],
   "source": [
    "# 데이터 생성 \n",
    "data = [\n",
    "    {\n",
    "        \"uri\": \"Rawdata.DummyData_01.0001\",\n",
    "        \"class\": \"Rawdata.DummyData_01\",\n",
    "        \"seq\": 1,\n",
    "        \"title\": \"This is a title\",\n",
    "        \"_text\": \"bla bla bla bla bla bla bla bla bla bla bla bla bla bla bla bla bla bla bla bla bla bla bla bla~\"\n",
    "    },\n",
    "    {\n",
    "        \"uri\": \"Rawdata.DummyData_01.0002\",\n",
    "        \"class\": \"Rawdata.DummyData_01\",\n",
    "        \"seq\": 2,\n",
    "        \"title\": \"This is a title-2\",\n",
    "        \"_text\": \"(2) bla bla bla bla bla bla bla bla bla bla bla bla bla bla bla bla bla bla bla bla bla bla bla bla~\"\n",
    "    },\n",
    "]"
   ]
  },
  {
   "cell_type": "code",
   "execution_count": null,
   "id": "b51469ee",
   "metadata": {},
   "outputs": [],
   "source": [
    "# 주입할 데이터의 정합성 체크 \n",
    "from dserestapi import SemanticGraphIndex\n",
    "sgi = SemanticGraphIndex()\n",
    "res = sgi.validateItemsEvent(resourceUUID=resource_uuid, action=\"AddOrReplaceItem\", data=data)\n",
    "res "
   ]
  },
  {
   "cell_type": "code",
   "execution_count": null,
   "id": "7750df3a",
   "metadata": {},
   "outputs": [],
   "source": [
    "file = os.path.join(os.getcwd(), \"03_SemanticGraphIndex\", \"Validation Items.json\")\n",
    "with open(file, \"w\", encoding=\"utf-8\") as f:\n",
    "    json.dump(res.json(), f, ensure_ascii=False, indent=2)"
   ]
  },
  {
   "cell_type": "markdown",
   "id": "e68f697f",
   "metadata": {},
   "source": [
    "### [6.3] 생성한 SGI의 타겟 데이터 모델에 데이터를 저장"
   ]
  },
  {
   "cell_type": "code",
   "execution_count": null,
   "id": "fd892d03",
   "metadata": {},
   "outputs": [],
   "source": [
    "res = sgi.ingest(resourceUUID=resource_uuid, data=data)\n",
    "res "
   ]
  },
  {
   "cell_type": "code",
   "execution_count": null,
   "id": "90819025",
   "metadata": {},
   "outputs": [],
   "source": [
    "file = os.path.join(os.getcwd(), \"03_SemanticGraphIndex\", \"Ingest Data.json\")\n",
    "with open(file, \"w\", encoding=\"utf-8\") as f:\n",
    "    json.dump(res.json(), f, ensure_ascii=False, indent=2)"
   ]
  },
  {
   "cell_type": "markdown",
   "id": "1c326598",
   "metadata": {},
   "source": [
    "플랫폼에서 직접확인"
   ]
  },
  {
   "cell_type": "markdown",
   "id": "037722de",
   "metadata": {},
   "source": [
    "### [6.4] 데이터 주입/적재 결과 알림 받기 "
   ]
  },
  {
   "cell_type": "code",
   "execution_count": null,
   "id": "9bbf45df",
   "metadata": {},
   "outputs": [],
   "source": [
    "res = sgi.notification(resourceUUID=resource_uuid)\n",
    "res "
   ]
  },
  {
   "cell_type": "markdown",
   "id": "a78a42bb",
   "metadata": {},
   "source": [
    "### [6.5] 저장한 데이터의 object 별 uri 가져오기"
   ]
  },
  {
   "cell_type": "code",
   "execution_count": null,
   "id": "9e16ee3c",
   "metadata": {},
   "outputs": [],
   "source": [
    "res = sgi.get_uri(resourceUUID=resource_uuid)\n",
    "res "
   ]
  },
  {
   "cell_type": "code",
   "execution_count": null,
   "id": "034dbdc5",
   "metadata": {},
   "outputs": [],
   "source": [
    "file = os.path.join(os.getcwd(), \"03_SemanticGraphIndex\", \"SGI URIs.json\")\n",
    "with open(file, \"w\", encoding=\"utf-8\") as f:\n",
    "    json.dump(res.json(), f, ensure_ascii=False, indent=2)"
   ]
  },
  {
   "cell_type": "code",
   "execution_count": null,
   "id": "c23fbd86",
   "metadata": {},
   "outputs": [],
   "source": []
  },
  {
   "cell_type": "code",
   "execution_count": null,
   "id": "13a30cf0",
   "metadata": {},
   "outputs": [],
   "source": []
  }
 ],
 "metadata": {
  "kernelspec": {
   "display_name": ".env",
   "language": "python",
   "name": "python3"
  },
  "language_info": {
   "codemirror_mode": {
    "name": "ipython",
    "version": 3
   },
   "file_extension": ".py",
   "mimetype": "text/x-python",
   "name": "python",
   "nbconvert_exporter": "python",
   "pygments_lexer": "ipython3",
   "version": "3.12.9"
  }
 },
 "nbformat": 4,
 "nbformat_minor": 5
}
