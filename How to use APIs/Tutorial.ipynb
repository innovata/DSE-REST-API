{
 "cells": [
  {
   "cell_type": "markdown",
   "id": "c09ee781",
   "metadata": {},
   "source": [
    "# Documentation \n",
    "https://github.com/innovata/DSE-REST-API  "
   ]
  },
  {
   "cell_type": "markdown",
   "id": "1e5a435e",
   "metadata": {},
   "source": [
    "# [1] 3DEXPERIENCE Platform CLM Agent 생성  \n",
    "- \"F:\\pypjts\\DSE-REST-API\\How to use APIs\\credentials\"경로에 Agent ID, Password 저장 "
   ]
  },
  {
   "cell_type": "markdown",
   "id": "1f037d39",
   "metadata": {},
   "source": [
    "# [2] 파이썬 가상환경(Python Virtual Environment) 생성 및 dserestapi 패키지 설치\n",
    "\n"
   ]
  },
  {
   "cell_type": "code",
   "execution_count": 1,
   "id": "40687b0a",
   "metadata": {},
   "outputs": [],
   "source": [
    "# 개발용 경로설정\n",
    "import os, sys \n",
    "sys.path.append(r\"F:\\pypjts\\DSE-REST-API\\src\")"
   ]
  },
  {
   "cell_type": "code",
   "execution_count": 2,
   "id": "abc20d38",
   "metadata": {},
   "outputs": [],
   "source": [
    "# 커맨드 프롬프트 사용 권장\n",
    "# !pip install dserestapi"
   ]
  },
  {
   "cell_type": "markdown",
   "id": "6ae627ba",
   "metadata": {},
   "source": [
    "# **********************************************************************"
   ]
  },
  {
   "cell_type": "markdown",
   "id": "12d18a3b",
   "metadata": {},
   "source": [
    "# [3.1] 환경셋업 | Normal Case: 일반유저 (Member) 계정으로 만든 에이전트 사용"
   ]
  },
  {
   "cell_type": "code",
   "execution_count": 3,
   "id": "2659e45f",
   "metadata": {},
   "outputs": [
    {
     "name": "stdout",
     "output_type": "stream",
     "text": [
      "['CLM_AGENT_CREDENTIAL_PATH', 'F:\\\\pypjts\\\\DSE-REST-API\\\\How to use APIs\\\\credentials\\\\Member\\\\CML Agent ID-PW.json']\n",
      "['3DX_PLATFORM_TENANT_URI', 'https://r1132100527066-apk2-sgi.3dexperience.3ds.com:443']\n"
     ]
    }
   ],
   "source": [
    "import os\n",
    "import re \n",
    "os.environ[\"CLM_AGENT_CREDENTIAL_PATH\"] = r\"F:\\pypjts\\DSE-REST-API\\How to use APIs\\credentials\\Member\\CML Agent ID-PW.json\"\n",
    "os.environ[\"3DX_PLATFORM_TENANT_URI\"] = \"https://r1132100527066-apk2-sgi.3dexperience.3ds.com:443\"\n",
    "for k, v in os.environ.items():\n",
    "    if re.search(r\"^CLM|^3DX\", k):\n",
    "        print([k, v])"
   ]
  },
  {
   "cell_type": "code",
   "execution_count": 4,
   "id": "d918e5d6",
   "metadata": {},
   "outputs": [
    {
     "data": {
      "text/plain": [
       "<module 'dserestapi' from 'F:\\\\pypjts\\\\DSE-REST-API\\\\src\\\\dserestapi\\\\__init__.py'>"
      ]
     },
     "execution_count": 4,
     "metadata": {},
     "output_type": "execute_result"
    }
   ],
   "source": [
    "import dserestapi \n",
    "dserestapi"
   ]
  },
  {
   "cell_type": "markdown",
   "id": "2283ab92",
   "metadata": {},
   "source": [
    "# [3.2] 환경셋업 | Error Case: 어드민 계정으로 만든 에이전트 사용 "
   ]
  },
  {
   "cell_type": "code",
   "execution_count": 3,
   "id": "4d0b8ed0",
   "metadata": {},
   "outputs": [
    {
     "data": {
      "text/plain": [
       "{'error': 'admin role is forbidden'}"
      ]
     },
     "execution_count": 3,
     "metadata": {},
     "output_type": "execute_result"
    }
   ],
   "source": [
    "import os\n",
    "import re \n",
    "os.environ[\"CLM_AGENT_CREDENTIAL_PATH\"] = r\"F:\\pypjts\\DSE-REST-API\\How to use APIs\\credentials\\Admin\\CML Agent ID-PW.json\"\n",
    "os.environ[\"3DX_PLATFORM_TENANT_URI\"] = \"https://r1132100527066-apk2-sgi.3dexperience.3ds.com:443\"\n",
    "from dserestapi import Storages\n",
    "api = Storages()\n",
    "res = api.get()\n",
    "res.json() "
   ]
  },
  {
   "cell_type": "markdown",
   "id": "982ca070",
   "metadata": {},
   "source": [
    "# **********************************************************************"
   ]
  },
  {
   "cell_type": "markdown",
   "id": "168ad45e",
   "metadata": {},
   "source": [
    "# [4] 사용 예제 | Storages"
   ]
  },
  {
   "cell_type": "markdown",
   "id": "25c65d0b",
   "metadata": {},
   "source": [
    "### [4.1] 스토리지 목록 가져오기 "
   ]
  },
  {
   "cell_type": "code",
   "execution_count": 6,
   "id": "bdb2f79d",
   "metadata": {},
   "outputs": [
    {
     "data": {
      "text/plain": [
       "<Response [200]>"
      ]
     },
     "execution_count": 6,
     "metadata": {},
     "output_type": "execute_result"
    }
   ],
   "source": [
    "# 모든 스토리지 리스트 가져오기\n",
    "from dserestapi import Storages\n",
    "api = Storages()\n",
    "res = api.get()\n",
    "res"
   ]
  },
  {
   "cell_type": "code",
   "execution_count": 7,
   "id": "a92e1d81",
   "metadata": {},
   "outputs": [],
   "source": [
    "import json \n",
    "file = os.path.join(os.getcwd(), \"01_Storages\", \"Storages List.json\")\n",
    "with open(file, \"w\", encoding=\"utf-8\") as f:\n",
    "    json.dump(res.json(), f, ensure_ascii=False, indent=2)"
   ]
  },
  {
   "cell_type": "code",
   "execution_count": null,
   "id": "665e908b",
   "metadata": {},
   "outputs": [],
   "source": [
    "# !pip install pandas "
   ]
  },
  {
   "cell_type": "code",
   "execution_count": null,
   "id": "d1f21d37",
   "metadata": {},
   "outputs": [],
   "source": [
    "import pandas as pd \n",
    "df = pd.DataFrame(res.json()['cards'])\n",
    "df#.head(5)"
   ]
  },
  {
   "cell_type": "code",
   "execution_count": null,
   "id": "07d5fdd5",
   "metadata": {},
   "outputs": [],
   "source": [
    "df.info()"
   ]
  },
  {
   "cell_type": "code",
   "execution_count": null,
   "id": "e8ff81fb",
   "metadata": {},
   "outputs": [],
   "source": [
    "df.dtypes"
   ]
  },
  {
   "cell_type": "code",
   "execution_count": null,
   "id": "1157e29b",
   "metadata": {},
   "outputs": [],
   "source": [
    "df.describe()"
   ]
  },
  {
   "cell_type": "code",
   "execution_count": null,
   "id": "7dccfc94",
   "metadata": {},
   "outputs": [],
   "source": [
    "workspace_ids = df.workspaceId.unique()\n",
    "import pprint \n",
    "pp = pprint.PrettyPrinter(indent=2)\n",
    "print(\"Unique Workspace IDs Count:\", len(workspace_ids))\n",
    "pp.pprint(sorted(workspace_ids))"
   ]
  },
  {
   "cell_type": "markdown",
   "id": "68884add",
   "metadata": {},
   "source": [
    "### [4.2] ObjectStorage 신규 생성 "
   ]
  },
  {
   "cell_type": "code",
   "execution_count": null,
   "id": "2c0e701f",
   "metadata": {},
   "outputs": [],
   "source": [
    "# 스토리지 생성\n",
    "res = api.create(\n",
    "    stype=\"ObjectStorage\",\n",
    "    name=\"TestObject-01.CreatedByRestAPI\",\n",
    "    description=\"테스트 후 바로 삭제할 것\"\n",
    ")\n",
    "res "
   ]
  },
  {
   "cell_type": "code",
   "execution_count": null,
   "id": "0af86930",
   "metadata": {},
   "outputs": [],
   "source": [
    "file = os.path.join(os.getcwd(), \"01_Storages\", \"Create A Storage.json\")\n",
    "with open(file, \"w\", encoding=\"utf-8\") as f:\n",
    "    json.dump(res.json(), f, ensure_ascii=False, indent=2)"
   ]
  },
  {
   "cell_type": "markdown",
   "id": "688cdb37",
   "metadata": {},
   "source": [
    "### [4.3] 생성한 스토리지 찾기"
   ]
  },
  {
   "cell_type": "code",
   "execution_count": null,
   "id": "17c3eaff",
   "metadata": {},
   "outputs": [],
   "source": [
    "# 스토리지 검색-1\n",
    "res = api.search_by_name(\n",
    "    name=\"TestObject-01.CreatedByRestAPI\", \n",
    "    # workspace_id=\"dw-global-000000-default\"\n",
    ")\n",
    "res "
   ]
  },
  {
   "cell_type": "code",
   "execution_count": null,
   "id": "c17f679d",
   "metadata": {},
   "outputs": [],
   "source": [
    "file = os.path.join(os.getcwd(), \"01_Storages\", \"Search-1 the Storage.json\")\n",
    "with open(file, \"w\", encoding=\"utf-8\") as f:\n",
    "    json.dump(res.json(), f, ensure_ascii=False, indent=2)"
   ]
  },
  {
   "cell_type": "markdown",
   "id": "099350cf",
   "metadata": {},
   "source": [
    "### [4.4] 스토리지 비우기 \n",
    "- 샘플파일 아무거나 수동으로 업로드"
   ]
  },
  {
   "cell_type": "code",
   "execution_count": null,
   "id": "ccdf54e4",
   "metadata": {},
   "outputs": [],
   "source": [
    "resource_uuid = \"4407fe2c-1739-4391-9843-d120d7fe6cd7\""
   ]
  },
  {
   "cell_type": "code",
   "execution_count": null,
   "id": "58b369e4",
   "metadata": {},
   "outputs": [],
   "source": [
    "res = api.clear(resource_uuid)\n",
    "res "
   ]
  },
  {
   "cell_type": "markdown",
   "id": "0104ba25",
   "metadata": {},
   "source": [
    "- res.json() 없음 --> 결과는 플랫폼에서 직접 확인  "
   ]
  },
  {
   "cell_type": "markdown",
   "id": "c03cfbac",
   "metadata": {},
   "source": [
    "### [4.5] 스토리지 Export"
   ]
  },
  {
   "cell_type": "code",
   "execution_count": null,
   "id": "b65eff5c",
   "metadata": {},
   "outputs": [],
   "source": [
    "res = api.export_(resource_uuid)\n",
    "res "
   ]
  },
  {
   "cell_type": "code",
   "execution_count": null,
   "id": "6228b8a2",
   "metadata": {},
   "outputs": [],
   "source": [
    "file = os.path.join(os.getcwd(), \"01_Storages\", \"Export the Storage.json\")\n",
    "with open(file, \"w\", encoding=\"utf-8\") as f:\n",
    "    json.dump(res.json(), f, ensure_ascii=False, indent=2)"
   ]
  },
  {
   "cell_type": "markdown",
   "id": "c8929237",
   "metadata": {},
   "source": [
    "### [4.6] 스토리지 Import"
   ]
  },
  {
   "cell_type": "code",
   "execution_count": null,
   "id": "7d720bf6",
   "metadata": {},
   "outputs": [],
   "source": [
    "payload = {\n",
    "    \"name\": \"TestObject-05.ImportByRestAPI\",\n",
    "    \"identifier\": \"TestObject-05.ImportByRestAPI\",\n",
    "    \"update\": True,\n",
    "    \"content\": \"ewogICJzdG9yYWdlIiA6IHsKICAgICJAY2xhc3MiIDogIk9iamVjdFN0b3JhZ2UiLAogICAgInJlc291cmNlSWQiIDogIlRlc3RPYmplY3QtMDMuQ3JlYXRlZEJ5UmVzdEFQSSIsCiAgICAibmFtZSIgOiAiVGVzdE9iamVjdC0wMy5DcmVhdGVkQnlSZXN0QVBJIiwKICAgICJkZXNjcmlwdGlvbiIgOiAi7YWM7Iqk7Yq4IO2bhCDrsJTroZwg7IKt7KCc7ZWgIOqygyIsCiAgICAia2luZCIgOiAiU3RvcmFnZSIsCiAgICAidHlwZSIgOiAiT2JqZWN0U3RvcmFnZSIsCiAgICAicmVzb3VyY2VQYXRoIiA6ICJTdG9yYWdlL1Rlc3RPYmplY3QtMDMuQ3JlYXRlZEJ5UmVzdEFQSS5qc29uIiwKICAgICJjb25maWciIDogewogICAgICAiYnVja2V0IiA6ICJ0ZXN0b2JqZWN0MDNjcmVhdGVkYnlyZXN0YXBpIiwKICAgICAgImRlbGVnYXRpb25zIiA6IFsgewogICAgICAgICJuYW1lIiA6ICJTZW1hbnRpY0dyYXBoSW5kZXguRE9TQWNjb3VudC4yIiwKICAgICAgICAicGVybWlzc2lvbiIgOiAicmVhZCIKICAgICAgfSwgewogICAgICAgICJuYW1lIiA6ICJTZW1hbnRpY0dyYXBoSW5kZXguRE9TQWNjb3VudC4yIiwKICAgICAgICAicGVybWlzc2lvbiIgOiAid3JpdGUiCiAgICAgIH0sIHsKICAgICAgICAibmFtZSIgOiAiUFBFUy5Eb3NBY2NvdW50IiwKICAgICAgICAicGVybWlzc2lvbiIgOiAiZXhlY3V0ZSIKICAgICAgfSwgewogICAgICAgICJuYW1lIiA6ICJEYXRhc2V0R292ZXJuYW5jZSIsCiAgICAgICAgInBlcm1pc3Npb24iIDogInJlYWQiCiAgICAgIH0gXQogICAgfQogIH0sCiAgInZlcnNpb24iIDogewogICAgInZhbHVlIiA6ICIxLjIiCiAgfQp9\"\n",
    "}"
   ]
  },
  {
   "cell_type": "code",
   "execution_count": null,
   "id": "60d40268",
   "metadata": {},
   "outputs": [],
   "source": [
    "from importlib import reload\n",
    "import dserestapi\n",
    "reload(dserestapi)\n",
    "from dserestapi import Storages\n",
    "api = Storages()\n",
    "res = api.import_(payload)\n",
    "res "
   ]
  },
  {
   "cell_type": "markdown",
   "id": "f0320d46",
   "metadata": {},
   "source": [
    "### [4.7] 생성한 스토리지 삭제"
   ]
  },
  {
   "cell_type": "code",
   "execution_count": null,
   "id": "be8fa606",
   "metadata": {},
   "outputs": [],
   "source": [
    "# API를 이용해서 재검색\n",
    "res = api.search_by_name(\n",
    "    name=\"TestObject-01.CreatedByRestAPI\"\n",
    ")\n",
    "resource_uuid = res.json()[\"cards\"][0][\"resourceUUID\"]\n",
    "resource_uuid"
   ]
  },
  {
   "cell_type": "code",
   "execution_count": null,
   "id": "65456f1b",
   "metadata": {},
   "outputs": [],
   "source": [
    "res = api.delete(resource_uuid=resource_uuid)\n",
    "res "
   ]
  },
  {
   "cell_type": "markdown",
   "id": "a5416f46",
   "metadata": {},
   "source": [
    "- res.json() --> 삭제 함수 응답에는 JSON 데이터가 없기 때문에 에러 발생"
   ]
  },
  {
   "cell_type": "markdown",
   "id": "bc5cb5f4",
   "metadata": {},
   "source": [
    "# **********************************************************************"
   ]
  },
  {
   "cell_type": "markdown",
   "id": "34ee8d53",
   "metadata": {},
   "source": [
    "# [5] 사용 예제 | Object Storage"
   ]
  },
  {
   "cell_type": "markdown",
   "id": "6897441c",
   "metadata": {},
   "source": [
    "### [5.1] Object Storage에 파일 업로드 "
   ]
  },
  {
   "cell_type": "code",
   "execution_count": null,
   "id": "72ecd534",
   "metadata": {},
   "outputs": [],
   "source": [
    "# 신규 스토리지 재생성 \n",
    "from dserestapi import Storages\n",
    "api = Storages()\n",
    "res = api.create(\n",
    "    stype=\"ObjectStorage\",\n",
    "    name=\"TestObject-01.CreatedByRestAPI\",\n",
    "    description=\"테스트 후 바로 삭제할 것\"\n",
    ")\n",
    "res.json()"
   ]
  },
  {
   "cell_type": "code",
   "execution_count": null,
   "id": "dbd9621e",
   "metadata": {},
   "outputs": [],
   "source": [
    "# 생성한 스토리지의 resourceUUID 추출 \n",
    "resource_uuid = res.json()[\"resourceUUID\"]\n",
    "# resource_uuid = \"4407fe2c-1739-4391-9843-d120d7fe6cd7\"\n",
    "resource_uuid"
   ]
  },
  {
   "cell_type": "markdown",
   "id": "fcfc0649",
   "metadata": {},
   "source": [
    "#### [5.1.1] 파일 업로드 | 경로 미지정\n",
    "- 업로드할 파일은 항상 파일 절대경로를 사용해야함"
   ]
  },
  {
   "cell_type": "code",
   "execution_count": null,
   "id": "847f23da",
   "metadata": {},
   "outputs": [],
   "source": [
    "from dserestapi import ObjectStorage\n",
    "api = ObjectStorage()\n",
    "uploading_file = r\"F:\\pypjts\\DSE-REST-API\\How to use APIs\\credentials\\CML Agent ID-PW.json\"\n",
    "res = api.upload(resourceUUID=resource_uuid, file=uploading_file, path=None)\n",
    "res "
   ]
  },
  {
   "cell_type": "markdown",
   "id": "2a233acd",
   "metadata": {},
   "source": [
    "#### [5.1.2] 파일 업로드 | 경로 강제 지정"
   ]
  },
  {
   "cell_type": "code",
   "execution_count": null,
   "id": "0e6b784e",
   "metadata": {},
   "outputs": [],
   "source": [
    "api = ObjectStorage()\n",
    "uploading_file = r\"F:\\pypjts\\DSE-REST-API\\How to use APIs\\credentials\\CML Agent ID-PW.json\"\n",
    "res = api.upload(resourceUUID=resource_uuid, file=uploading_file, path=\"Manual_Path_01/\")\n",
    "res "
   ]
  },
  {
   "cell_type": "markdown",
   "id": "de75cf7e",
   "metadata": {},
   "source": [
    "- JSON 데이터 없음"
   ]
  },
  {
   "cell_type": "markdown",
   "id": "72c69f12",
   "metadata": {},
   "source": [
    "### [5.2] Object Storage에 디렉토리 내의 모든 파일들을 한번에 업로드 "
   ]
  },
  {
   "cell_type": "code",
   "execution_count": null,
   "id": "b511150a",
   "metadata": {},
   "outputs": [],
   "source": [
    "# 업로드할 디렉토리 확인\n",
    "import os \n",
    "top_dir = r\"E:\\__ENGINEER_DRIVE__\\__DATASET__\\__Dummy Data__\"\n",
    "uploading_files = []\n",
    "for root, dirs, files in os.walk(top_dir):\n",
    "    for file in files:\n",
    "        uploading_files.append(os.path.join(root, file))\n",
    "\n",
    "uploading_files"
   ]
  },
  {
   "cell_type": "markdown",
   "id": "89502428",
   "metadata": {},
   "source": [
    "#### [5.2.1] 멀티 파일 업로드 | 자동 경로 설정"
   ]
  },
  {
   "cell_type": "code",
   "execution_count": null,
   "id": "2bd45058",
   "metadata": {},
   "outputs": [],
   "source": [
    "# 멀티 파일 업로드 | 자동 경로 설정\n",
    "import pprint \n",
    "pp = pprint.PrettyPrinter(indent=2)\n",
    "api = ObjectStorage()\n",
    "res_li = api.upload_files(resourceUUID=resource_uuid, files=uploading_files, path=None)\n",
    "pp.pprint(res_li)"
   ]
  },
  {
   "cell_type": "markdown",
   "id": "236ee35b",
   "metadata": {},
   "source": [
    "#### [5.2.2] 멀티 파일 업로드 | 수동 경로 설정"
   ]
  },
  {
   "cell_type": "code",
   "execution_count": null,
   "id": "8cc6f05b",
   "metadata": {},
   "outputs": [],
   "source": [
    "# 멀티 파일 업로드 | 수동 경로 설정\n",
    "api = ObjectStorage()\n",
    "res_li = api.upload_files(resourceUUID=resource_uuid, files=uploading_files, path=\"Multi/\")\n",
    "pp.pprint(res_li)"
   ]
  },
  {
   "cell_type": "markdown",
   "id": "251a6840",
   "metadata": {},
   "source": [
    "- res.json() 없음 --> 업로드 결과는 플랫폼에서 직접 확인  "
   ]
  },
  {
   "cell_type": "markdown",
   "id": "b0f7d8bf",
   "metadata": {},
   "source": [
    "### [5.3] 스토리지 EXPORT "
   ]
  },
  {
   "cell_type": "code",
   "execution_count": null,
   "id": "dfc1cccb",
   "metadata": {},
   "outputs": [],
   "source": [
    "api = Storages()\n",
    "res = api.export_(resource_uuid=resource_uuid)\n",
    "res "
   ]
  },
  {
   "cell_type": "code",
   "execution_count": null,
   "id": "22efc22a",
   "metadata": {},
   "outputs": [],
   "source": [
    "file = os.path.join(os.getcwd(), \"01_Storages\", \"Export Object Storage.json\")\n",
    "with open(file, \"w\", encoding=\"utf-8\") as f:\n",
    "    json.dump(res.json(), f, ensure_ascii=False, indent=2)"
   ]
  },
  {
   "cell_type": "markdown",
   "id": "0f3c4fdd",
   "metadata": {},
   "source": [
    "# **********************************************************************"
   ]
  },
  {
   "cell_type": "markdown",
   "id": "f0e9f189",
   "metadata": {},
   "source": [
    "# [6] 사용 예제 | Semantic Graph Index Unit"
   ]
  },
  {
   "cell_type": "markdown",
   "id": "397c5f1f",
   "metadata": {},
   "source": [
    "### [6.1] SGI Storage 신규 생성시 데이터 모델링을 동시에 수행 "
   ]
  },
  {
   "cell_type": "code",
   "execution_count": null,
   "id": "dfa640f0",
   "metadata": {},
   "outputs": [],
   "source": [
    "# 데이터 모델링 \n",
    "data_modeling_config = {\n",
    "    \"datamodel\": {\n",
    "        \"classes\": [\n",
    "            {\n",
    "                \"name\": \"DummyData_01\",\n",
    "                \"parents\": [],\n",
    "                \"pkg\": \"Rawdata\",\n",
    "                \"attributes\": [\n",
    "                    {\n",
    "                        \"name\": \"seq\",\n",
    "                        \"type\": {\n",
    "                            \"dataType\": \"Integer\",\n",
    "                            \"dataStructure\": \"Singleton\"\n",
    "                        },\n",
    "                        \"annotation\": {}\n",
    "                    },\n",
    "                    {\n",
    "                        \"name\": \"title\",\n",
    "                        \"type\": {\n",
    "                            \"dataType\": \"String\",\n",
    "                            \"dataStructure\": \"Singleton\"\n",
    "                        },\n",
    "                        \"annotation\": {}\n",
    "                    },\n",
    "                    {\n",
    "                        \"name\": \"_text\",\n",
    "                        \"type\": {\n",
    "                            \"dataType\": \"String\",\n",
    "                            \"dataStructure\": \"Singleton\"\n",
    "                        },\n",
    "                        \"annotation\": {}\n",
    "                    }\n",
    "                ]\n",
    "            },\n",
    "            {\n",
    "                \"name\": \"DummyData_02\",\n",
    "                \"parents\": [],\n",
    "                \"pkg\": \"Rawdata\",\n",
    "                \"attributes\": [\n",
    "                    {\n",
    "                        \"name\": \"seq\",\n",
    "                        \"type\": {\n",
    "                            \"dataType\": \"Integer\",\n",
    "                            \"dataStructure\": \"Singleton\"\n",
    "                        },\n",
    "                        \"annotation\": {}\n",
    "                    },\n",
    "                    {\n",
    "                        \"name\": \"title\",\n",
    "                        \"type\": {\n",
    "                            \"dataType\": \"String\",\n",
    "                            \"dataStructure\": \"Singleton\"\n",
    "                        },\n",
    "                        \"annotation\": {}\n",
    "                    },\n",
    "                    {\n",
    "                        \"name\": \"_text\",\n",
    "                        \"type\": {\n",
    "                            \"dataType\": \"String\",\n",
    "                            \"dataStructure\": \"Singleton\"\n",
    "                        },\n",
    "                        \"annotation\": {}\n",
    "                    }\n",
    "                ]\n",
    "            }\n",
    "        ]\n",
    "    }\n",
    "}"
   ]
  },
  {
   "cell_type": "code",
   "execution_count": null,
   "id": "13727c74",
   "metadata": {},
   "outputs": [],
   "source": [
    "from dserestapi import Storages\n",
    "# 스토리지 생성\n",
    "api = Storages()\n",
    "res = api.create(\n",
    "    stype=\"IndexUnit\",\n",
    "    name=\"TestSGI_01_CreatedByRestAPI\",\n",
    "    description=\"SGI 데이터 모델링 테스트 후 삭제할 것\",\n",
    "    config=data_modeling_config\n",
    ")\n",
    "res.json() "
   ]
  },
  {
   "cell_type": "code",
   "execution_count": null,
   "id": "c80a1faa",
   "metadata": {},
   "outputs": [],
   "source": [
    "file = os.path.join(os.getcwd(), \"03_SemanticGraphIndex\", \"Create A SGI.json\")\n",
    "with open(file, \"w\", encoding=\"utf-8\") as f:\n",
    "    json.dump(res.json(), f, ensure_ascii=False, indent=2)"
   ]
  },
  {
   "cell_type": "markdown",
   "id": "71bdf657",
   "metadata": {},
   "source": [
    "### [6.2] 데이터 모델 스키마에 맞는 데이터 생성 후 스키마에 맞는 데이터 타입인지 정합성 체크 "
   ]
  },
  {
   "cell_type": "code",
   "execution_count": null,
   "id": "da9ef74d",
   "metadata": {},
   "outputs": [],
   "source": [
    "resource_uuid = res.json()[\"resourceUUID\"]\n",
    "# resource_uuid = \"b1176f72-a3e2-4afc-9b02-543859e0cdf2\"\n",
    "resource_uuid"
   ]
  },
  {
   "cell_type": "code",
   "execution_count": null,
   "id": "873122a3",
   "metadata": {},
   "outputs": [],
   "source": [
    "# from dserestapi import SemanticGraphIndex\n",
    "# sgi = SemanticGraphIndex()\n",
    "# res = sgi.class_count(resourceUUID=resource_uuid, pkg_name=\"Rawdata\", class_name_li=[\"DummyData_01\"])\n",
    "# with open(os.path.join(os.getcwd(), \"Class Count.json\"), \"w\", encoding=\"utf-8\") as f:\n",
    "#     json.dump(res.json(), f, ensure_ascii=False, indent=2)"
   ]
  },
  {
   "cell_type": "code",
   "execution_count": null,
   "id": "cc977987",
   "metadata": {},
   "outputs": [],
   "source": [
    "# 데이터 생성 \n",
    "data = [\n",
    "    {\n",
    "        \"uri\": \"Rawdata.DummyData_01.0001\",\n",
    "        \"class\": \"Rawdata.DummyData_01\",\n",
    "        \"seq\": 1,\n",
    "        \"title\": \"This is a title-1\",\n",
    "        \"_text\": \"bla bla bla bla bla bla bla bla bla bla bla bla bla bla bla bla bla bla bla bla bla bla bla bla~\"\n",
    "    },\n",
    "    {\n",
    "        \"uri\": \"Rawdata.DummyData_01.0002\",\n",
    "        \"class\": \"Rawdata.DummyData_01\",\n",
    "        \"seq\": 2,\n",
    "        \"title\": \"This is a title-2\",\n",
    "        \"_text\": \"(2) bla bla bla bla bla bla bla bla bla bla bla bla bla bla bla bla bla bla bla bla bla bla bla bla~\"\n",
    "    },\n",
    "]"
   ]
  },
  {
   "cell_type": "code",
   "execution_count": null,
   "id": "b51469ee",
   "metadata": {},
   "outputs": [],
   "source": [
    "# 저장할 데이터의 정합성 체크 \n",
    "from dserestapi import SemanticGraphIndex\n",
    "sgi = SemanticGraphIndex()\n",
    "res = sgi.validateItemsEvent(resourceUUID=resource_uuid, action=\"AddOrReplaceItem\", data=data)\n",
    "res.json()"
   ]
  },
  {
   "cell_type": "code",
   "execution_count": null,
   "id": "7750df3a",
   "metadata": {},
   "outputs": [],
   "source": [
    "file = os.path.join(os.getcwd(), \"03_SemanticGraphIndex\", \"Validation Items.json\")\n",
    "with open(file, \"w\", encoding=\"utf-8\") as f:\n",
    "    json.dump(res.json(), f, ensure_ascii=False, indent=2)"
   ]
  },
  {
   "cell_type": "markdown",
   "id": "e68f697f",
   "metadata": {},
   "source": [
    "### [6.3] 생성한 SGI의 타겟 데이터 모델에 데이터를 저장"
   ]
  },
  {
   "cell_type": "code",
   "execution_count": null,
   "id": "fd892d03",
   "metadata": {},
   "outputs": [],
   "source": [
    "res = sgi.ingest(resourceUUID=resource_uuid, data=data)\n",
    "res.json()"
   ]
  },
  {
   "cell_type": "code",
   "execution_count": null,
   "id": "90819025",
   "metadata": {},
   "outputs": [],
   "source": [
    "file = os.path.join(os.getcwd(), \"03_SemanticGraphIndex\", \"Ingest Data.json\")\n",
    "with open(file, \"w\", encoding=\"utf-8\") as f:\n",
    "    json.dump(res.json(), f, ensure_ascii=False, indent=2)"
   ]
  },
  {
   "cell_type": "markdown",
   "id": "1c326598",
   "metadata": {},
   "source": [
    "- 데이터가 저장되었는지 플랫폼에서 직접확인"
   ]
  },
  {
   "cell_type": "markdown",
   "id": "037722de",
   "metadata": {},
   "source": [
    "### [6.4] 데이터 저장 결과 알림 받기 "
   ]
  },
  {
   "cell_type": "code",
   "execution_count": null,
   "id": "9bbf45df",
   "metadata": {},
   "outputs": [],
   "source": [
    "res = sgi.notification(resourceUUID=resource_uuid)\n",
    "res.json()"
   ]
  },
  {
   "cell_type": "markdown",
   "id": "a78a42bb",
   "metadata": {},
   "source": [
    "### [6.5] 저장한 데이터의 object 별 uri 가져오기"
   ]
  },
  {
   "cell_type": "code",
   "execution_count": null,
   "id": "9e16ee3c",
   "metadata": {},
   "outputs": [],
   "source": [
    "res = sgi.get_uri(resourceUUID=resource_uuid)\n",
    "res.json()"
   ]
  },
  {
   "cell_type": "code",
   "execution_count": null,
   "id": "034dbdc5",
   "metadata": {},
   "outputs": [],
   "source": [
    "file = os.path.join(os.getcwd(), \"03_SemanticGraphIndex\", \"SGI URIs.json\")\n",
    "with open(file, \"w\", encoding=\"utf-8\") as f:\n",
    "    json.dump(res.json(), f, ensure_ascii=False, indent=2)"
   ]
  },
  {
   "cell_type": "markdown",
   "id": "c23fbd86",
   "metadata": {},
   "source": [
    "# **********************************************************************"
   ]
  },
  {
   "cell_type": "markdown",
   "id": "13a30cf0",
   "metadata": {},
   "source": [
    "# THE END."
   ]
  }
 ],
 "metadata": {
  "kernelspec": {
   "display_name": ".env",
   "language": "python",
   "name": "python3"
  },
  "language_info": {
   "codemirror_mode": {
    "name": "ipython",
    "version": 3
   },
   "file_extension": ".py",
   "mimetype": "text/x-python",
   "name": "python",
   "nbconvert_exporter": "python",
   "pygments_lexer": "ipython3",
   "version": "3.12.9"
  }
 },
 "nbformat": 4,
 "nbformat_minor": 5
}
