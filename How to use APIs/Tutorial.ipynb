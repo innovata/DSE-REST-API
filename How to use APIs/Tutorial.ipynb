{
 "cells": [
  {
   "cell_type": "markdown",
   "id": "c09ee781",
   "metadata": {},
   "source": [
    "# Documentation \n",
    "https://github.com/innovata/DSE-REST-API  "
   ]
  },
  {
   "cell_type": "markdown",
   "id": "1e5a435e",
   "metadata": {},
   "source": [
    "# [1] 3DEXPERIENCE Platform CLM Agent 생성  \n",
    "- \"F:\\pypjts\\DSE-REST-API\\How to use APIs\\credentials\"경로에 Agent ID, Password 저장 "
   ]
  },
  {
   "cell_type": "markdown",
   "id": "1f037d39",
   "metadata": {},
   "source": [
    "# [2] 파이썬 가상환경(Python Virtual Environment) 생성 및 dserestapi 패키지 설치\n",
    "\n"
   ]
  },
  {
   "cell_type": "code",
   "execution_count": 1,
   "id": "40687b0a",
   "metadata": {},
   "outputs": [],
   "source": [
    "# 개발용 경로설정\n",
    "import os, sys \n",
    "sys.path.append(r\"F:\\pypjts\\DSE-REST-API\\src\")"
   ]
  },
  {
   "cell_type": "code",
   "execution_count": 2,
   "id": "abc20d38",
   "metadata": {},
   "outputs": [],
   "source": [
    "# 커맨드 프롬프트 사용 권장\n",
    "# !pip install dserestapi"
   ]
  },
  {
   "cell_type": "markdown",
   "id": "6ae627ba",
   "metadata": {},
   "source": [
    "# **********************************************************************"
   ]
  },
  {
   "cell_type": "markdown",
   "id": "12d18a3b",
   "metadata": {},
   "source": [
    "# [3.1] 환경셋업 | Normal Case: 일반유저 (Member) 계정으로 만든 에이전트 사용"
   ]
  },
  {
   "cell_type": "code",
   "execution_count": 3,
   "id": "2659e45f",
   "metadata": {},
   "outputs": [
    {
     "name": "stdout",
     "output_type": "stream",
     "text": [
      "['CLM_AGENT_CREDENTIAL_PATH', 'F:\\\\pypjts\\\\DSE-REST-API\\\\How to use APIs\\\\credentials\\\\Member\\\\CML Agent ID-PW.json']\n",
      "['3DX_PLATFORM_TENANT_URI', 'https://r1132100527066-apk2-sgi.3dexperience.3ds.com:443']\n"
     ]
    }
   ],
   "source": [
    "import os\n",
    "import re \n",
    "os.environ[\"CLM_AGENT_CREDENTIAL_PATH\"] = r\"F:\\pypjts\\DSE-REST-API\\How to use APIs\\credentials\\Member\\CML Agent ID-PW.json\"\n",
    "os.environ[\"3DX_PLATFORM_TENANT_URI\"] = \"https://r1132100527066-apk2-sgi.3dexperience.3ds.com:443\"\n",
    "for k, v in os.environ.items():\n",
    "    if re.search(r\"^CLM|^3DX\", k):\n",
    "        print([k, v])"
   ]
  },
  {
   "cell_type": "code",
   "execution_count": 4,
   "id": "d918e5d6",
   "metadata": {},
   "outputs": [
    {
     "data": {
      "text/plain": [
       "<module 'dserestapi' from 'F:\\\\pypjts\\\\DSE-REST-API\\\\src\\\\dserestapi\\\\__init__.py'>"
      ]
     },
     "execution_count": 4,
     "metadata": {},
     "output_type": "execute_result"
    }
   ],
   "source": [
    "import dserestapi \n",
    "dserestapi"
   ]
  },
  {
   "cell_type": "markdown",
   "id": "2283ab92",
   "metadata": {},
   "source": [
    "# [3.2] 환경셋업 | Error Case: 어드민 계정으로 만든 에이전트 사용 "
   ]
  },
  {
   "cell_type": "code",
   "execution_count": 5,
   "id": "4d0b8ed0",
   "metadata": {},
   "outputs": [],
   "source": [
    "# import os\n",
    "# import re \n",
    "# os.environ[\"CLM_AGENT_CREDENTIAL_PATH\"] = r\"F:\\pypjts\\DSE-REST-API\\How to use APIs\\credentials\\Admin\\CML Agent ID-PW.json\"\n",
    "# os.environ[\"3DX_PLATFORM_TENANT_URI\"] = \"https://r1132100527066-apk2-sgi.3dexperience.3ds.com:443\"\n",
    "# from dserestapi import Storages\n",
    "# api = Storages()\n",
    "# res = api.get()\n",
    "# res.json() "
   ]
  },
  {
   "cell_type": "markdown",
   "id": "982ca070",
   "metadata": {},
   "source": [
    "# **********************************************************************"
   ]
  },
  {
   "cell_type": "markdown",
   "id": "168ad45e",
   "metadata": {},
   "source": [
    "# [4] 사용 예제 | Storages"
   ]
  },
  {
   "cell_type": "markdown",
   "id": "25c65d0b",
   "metadata": {},
   "source": [
    "### [4.1] 스토리지 목록 가져오기 "
   ]
  },
  {
   "cell_type": "code",
   "execution_count": 6,
   "id": "bdb2f79d",
   "metadata": {},
   "outputs": [
    {
     "data": {
      "text/plain": [
       "<Response [200]>"
      ]
     },
     "execution_count": 6,
     "metadata": {},
     "output_type": "execute_result"
    }
   ],
   "source": [
    "# 모든 스토리지 리스트 가져오기\n",
    "from dserestapi import Storages\n",
    "api = Storages()\n",
    "res = api.get()\n",
    "res"
   ]
  },
  {
   "cell_type": "code",
   "execution_count": 7,
   "id": "a92e1d81",
   "metadata": {},
   "outputs": [],
   "source": [
    "import json \n",
    "file = os.path.join(os.getcwd(), \"01_Storages\", \"Storages List.json\")\n",
    "with open(file, \"w\", encoding=\"utf-8\") as f:\n",
    "    json.dump(res.json(), f, ensure_ascii=False, indent=2)"
   ]
  },
  {
   "cell_type": "code",
   "execution_count": null,
   "id": "665e908b",
   "metadata": {},
   "outputs": [],
   "source": [
    "# !pip install pandas "
   ]
  },
  {
   "cell_type": "code",
   "execution_count": 9,
   "id": "d1f21d37",
   "metadata": {},
   "outputs": [
    {
     "data": {
      "application/vnd.microsoft.datawrangler.viewer.v0+json": {
       "columns": [
        {
         "name": "index",
         "rawType": "int64",
         "type": "integer"
        },
        {
         "name": "id",
         "rawType": "object",
         "type": "string"
        },
        {
         "name": "resourceId",
         "rawType": "object",
         "type": "string"
        },
        {
         "name": "projectId",
         "rawType": "object",
         "type": "string"
        },
        {
         "name": "resourceUUID",
         "rawType": "object",
         "type": "string"
        },
        {
         "name": "workspaceId",
         "rawType": "object",
         "type": "string"
        },
        {
         "name": "name",
         "rawType": "object",
         "type": "string"
        },
        {
         "name": "creator",
         "rawType": "object",
         "type": "string"
        },
        {
         "name": "kind",
         "rawType": "object",
         "type": "string"
        },
        {
         "name": "type",
         "rawType": "object",
         "type": "string"
        },
        {
         "name": "created",
         "rawType": "int64",
         "type": "integer"
        },
        {
         "name": "lastModified",
         "rawType": "int64",
         "type": "integer"
        },
        {
         "name": "permissions",
         "rawType": "object",
         "type": "unknown"
        }
       ],
       "ref": "3dfc4a06-0330-4bd2-aaf1-6c5dc777a639",
       "rows": [
        [
         "0",
         "0add512f-3759-487b-aa40-9c5019874ea3",
         "20241217_16:00_dsjeon_storage",
         "dp-global-000000",
         "0add512f-3759-487b-aa40-9c5019874ea3",
         "dw-global-000000-default",
         "20241217_16:00_dsjeon_storage",
         "jeondongsoo",
         "Storage",
         "ObjectStorage",
         "1734418711011",
         "1734418711007",
         "{'read': True, 'write': True, 'execute': True}"
        ],
        [
         "1",
         "7118465e-739b-4746-8fc7-657755764ee7",
         "240129_part_information_OU3",
         "dp-global-000000",
         "7118465e-739b-4746-8fc7-657755764ee7",
         "dw-global-000000-default",
         "240129_part_information_OU3",
         "N/A",
         "Storage",
         "IndexUnit",
         "1707553208946",
         "1745657169549",
         "{'read': True, 'write': True, 'execute': True}"
        ],
        [
         "2",
         "R1132100527066_3DS_AdditiveManufacturingQualityAnalyst_Data",
         "3DS_AdditiveManufacturingQualityAnalyst_Data",
         "ca221e4a-46b1-43b1-9c3e-4eea8a0aa662",
         "R1132100527066_3DS_AdditiveManufacturingQualityAnalyst_Data",
         "ca221e4a-46b1-43b1-9c3e-4eea8a0aa662",
         "3DS_AdditiveManufacturingQualityAnalyst_Data",
         "svc_sgi_clouduser",
         "Storage",
         "ObjectStorage",
         "1751697876373",
         "1751697876334",
         "{'read': True, 'write': True, 'execute': True}"
        ],
        [
         "3",
         "R1132100527066_3DS_AdditiveManufacturingQualityAnalyst_Image",
         "3DS_AdditiveManufacturingQualityAnalyst_Image",
         "ca221e4a-46b1-43b1-9c3e-4eea8a0aa662",
         "R1132100527066_3DS_AdditiveManufacturingQualityAnalyst_Image",
         "ca221e4a-46b1-43b1-9c3e-4eea8a0aa662",
         "3DS_AdditiveManufacturingQualityAnalyst_Image",
         "svc_sgi_clouduser",
         "Storage",
         "ObjectStorage",
         "1751697876576",
         "1751697876537",
         "{'read': True, 'write': True, 'execute': True}"
        ],
        [
         "4",
         "R1132100527066_3DS_AdditiveManufacturingQualityAnalyst_Result",
         "3DS_AdditiveManufacturingQualityAnalyst_Result",
         "ca221e4a-46b1-43b1-9c3e-4eea8a0aa662",
         "R1132100527066_3DS_AdditiveManufacturingQualityAnalyst_Result",
         "ca221e4a-46b1-43b1-9c3e-4eea8a0aa662",
         "3DS_AdditiveManufacturingQualityAnalyst_Result",
         "svc_sgi_clouduser",
         "Storage",
         "ObjectStorage",
         "1751697876473",
         "1751697876435",
         "{'read': True, 'write': True, 'execute': True}"
        ],
        [
         "5",
         "R1132100527066_3DS_AdditiveManufacturingQualityAnalyst_SGI",
         "3DS_AdditiveManufacturingQualityAnalyst_SGI",
         "ca221e4a-46b1-43b1-9c3e-4eea8a0aa662",
         "R1132100527066_3DS_AdditiveManufacturingQualityAnalyst_SGI",
         "ca221e4a-46b1-43b1-9c3e-4eea8a0aa662",
         "3DS_AdditiveManufacturingQualityAnalyst_SGI",
         "svc_sgi_clouduser",
         "Storage",
         "IndexUnit",
         "1751697876280",
         "1751697876130",
         "{'read': True, 'write': True, 'execute': True}"
        ],
        [
         "6",
         "R1132100527066_3DS_Clustering_Data",
         "3DS_Clustering_Data",
         "dp-global-000000",
         "R1132100527066_3DS_Clustering_Data",
         "dw-global-000000-default",
         "3DS_Clustering_Data",
         "N/A",
         "Storage",
         "IndexUnit",
         "1707553209072",
         "1745657169645",
         "{'read': True, 'write': True, 'execute': True}"
        ],
        [
         "7",
         "R1132100527066_3DS_FieldQualityIntelligence_Data",
         "3DS_FieldQualityIntelligence_Data",
         "dp-fieldqualityintelligence-000000",
         "R1132100527066_3DS_FieldQualityIntelligence_Data",
         "dp-fieldqualityintelligence-000000",
         "3DS_FieldQualityIntelligence_Data",
         "svc_sgi_clouduser",
         "Storage",
         "IndexUnit",
         "1751698135340",
         "1751698135288",
         "{'read': True, 'write': False, 'execute': True}"
        ],
        [
         "8",
         "R1132100527066_3DS_FieldQualityIntelligence_storage",
         "3DS_FieldQualityIntelligence_storage",
         "dp-fieldqualityintelligence-000000",
         "R1132100527066_3DS_FieldQualityIntelligence_storage",
         "dp-fieldqualityintelligence-000000",
         "3DS_FieldQualityIntelligence_storage",
         "svc_sgi_clouduser",
         "Storage",
         "ObjectStorage",
         "1751698135433",
         "1751698135393",
         "{'read': True, 'write': True, 'execute': True}"
        ],
        [
         "9",
         "R1132100527066_3DS_IQ_MolecularTable",
         "3DS_IQ_MolecularTable",
         "dp-bioviainsightqueries-000000",
         "R1132100527066_3DS_IQ_MolecularTable",
         "dp-bioviainsightqueries-000000",
         "3DS_IQ_MolecularTable",
         "svc_sgi_clouduser",
         "Storage",
         "IndexUnit",
         "1751697942920",
         "1751697942866",
         "{'read': True, 'write': True, 'execute': True}"
        ],
        [
         "10",
         "R1132100527066_3DS_MI_ImportConsolidatedData",
         "3DS_MI_ImportConsolidatedData",
         "dp-bioviamaterialsintelligence-000000",
         "R1132100527066_3DS_MI_ImportConsolidatedData",
         "dp-bioviamaterialsintelligence-000000",
         "3DS_MI_ImportConsolidatedData",
         "svc_sgi_clouduser",
         "Storage",
         "S3Storage",
         "1751698021284",
         "1751698021274",
         "{'read': True, 'write': True, 'execute': True}"
        ],
        [
         "11",
         "R1132100527066_3DS_ManufacturingEngineeringIntelligence_Consolidation",
         "3DS_ManufacturingEngineeringIntelligence_Consolidation",
         "1d99889d-91a9-47c6-ae10-5a0f0c06bee5",
         "R1132100527066_3DS_ManufacturingEngineeringIntelligence_Consolidation",
         "1d99889d-91a9-47c6-ae10-5a0f0c06bee5",
         "3DS_ManufacturingEngineeringIntelligence_Consolidation",
         "svc_sgi_clouduser",
         "Storage",
         "IndexUnit",
         "1751698149286",
         "1751698149227",
         "{'read': True, 'write': True, 'execute': True}"
        ],
        [
         "12",
         "R1132100527066_3DS_ModelBasedSystemEngineering_Search",
         "3DS_ModelBasedSystemEngineering_Search",
         "6cc6c82c-1181-4b51-9af5-75865de628b2",
         "R1132100527066_3DS_ModelBasedSystemEngineering_Search",
         "6cc6c82c-1181-4b51-9af5-75865de628b2",
         "3DS_ModelBasedSystemEngineering_Search",
         "svc_sgi_clouduser",
         "Storage",
         "IndexUnit",
         "1751698256678",
         "1751698256625",
         "{'read': True, 'write': False, 'execute': True}"
        ],
        [
         "13",
         "R1132100527066_3DS_ProcurementIntelligence_Data",
         "3DS_ProcurementIntelligence_Data",
         "a818380d-3daf-40b4-91f0-4667fcfd0c8c",
         "R1132100527066_3DS_ProcurementIntelligence_Data",
         "a818380d-3daf-40b4-91f0-4667fcfd0c8c",
         "3DS_ProcurementIntelligence_Data",
         "svc_sgi_clouduser",
         "Storage",
         "IndexUnit",
         "1751698162467",
         "1751698162414",
         "{'read': True, 'write': False, 'execute': True}"
        ],
        [
         "14",
         "R1132100527066_3DS_ProcurementIntelligence_ERPStorage",
         "3DS_ProcurementIntelligence_ERPStorage",
         "a818380d-3daf-40b4-91f0-4667fcfd0c8c",
         "R1132100527066_3DS_ProcurementIntelligence_ERPStorage",
         "a818380d-3daf-40b4-91f0-4667fcfd0c8c",
         "3DS_ProcurementIntelligence_ERPStorage",
         "svc_sgi_clouduser",
         "Storage",
         "ObjectStorage",
         "1751698162297",
         "1751698162258",
         "{'read': True, 'write': True, 'execute': True}"
        ],
        [
         "15",
         "R1132100527066_3DS_ProcurementIntelligence_ExternalData",
         "3DS_ProcurementIntelligence_ExternalData",
         "a818380d-3daf-40b4-91f0-4667fcfd0c8c",
         "R1132100527066_3DS_ProcurementIntelligence_ExternalData",
         "a818380d-3daf-40b4-91f0-4667fcfd0c8c",
         "3DS_ProcurementIntelligence_ExternalData",
         "N/A",
         "Storage",
         "IndexUnit",
         "1751698162625",
         "1751698162571",
         "{'read': True, 'write': True, 'execute': True}"
        ],
        [
         "16",
         "a3672732-e712-44a1-86d5-96b85cb27afc",
         "3DSpace",
         "dp-3dspace-000000",
         "a3672732-e712-44a1-86d5-96b85cb27afc",
         "dw-3dspace-000000-default",
         "3DSpace",
         "svc_sgi_clouduser",
         "Storage",
         "IndexUnit",
         "1745657299647",
         "1753816071584",
         "{'read': True, 'write': False, 'execute': False}"
        ],
        [
         "17",
         "2d0f5d0f-d1de-4007-9115-5aaf42ab682e",
         "3dnetwork",
         "dp-3dnetwork-000000",
         "2d0f5d0f-d1de-4007-9115-5aaf42ab682e",
         "dw-3dnetwork-000000-default",
         "3dnetwork",
         "svc_sgi_clouduser",
         "Storage",
         "IndexUnit",
         "1748362699788",
         "1751707587298",
         "{'read': True, 'write': False, 'execute': False}"
        ],
        [
         "18",
         "be91132e-f85b-4370-872c-2ee5f09f0796",
         "3dorganization",
         "dp-3dorganization-000000",
         "be91132e-f85b-4370-872c-2ee5f09f0796",
         "dw-3dorganization-000000-default",
         "3dorganization",
         "svc_sgi_clouduser",
         "Storage",
         "IndexUnit",
         "1745657296251",
         "1745657294104",
         "{'read': True, 'write': False, 'execute': False}"
        ],
        [
         "19",
         "fb2b5ec4-0fe1-43a4-b61d-a4c26f53abdc",
         "3dplan",
         "dp-3dplan-000000",
         "fb2b5ec4-0fe1-43a4-b61d-a4c26f53abdc",
         "dw-3dplan-000000-default",
         "3dplan",
         "svc_sgi_clouduser",
         "Storage",
         "IndexUnit",
         "1745669346606",
         "1751707645419",
         "{'read': True, 'write': False, 'execute': False}"
        ],
        [
         "20",
         "R1132100527066_3dplan_Baseline",
         "3dplan_Baseline",
         "20f147c2-5b24-4a71-af10-81521fbcf73a",
         "R1132100527066_3dplan_Baseline",
         "20f147c2-5b24-4a71-af10-81521fbcf73a",
         "3dplan_Baseline",
         "svc_sgi_clouduser",
         "Storage",
         "IndexUnit",
         "1751698223408",
         "1751698223357",
         "{'read': True, 'write': True, 'execute': True}"
        ],
        [
         "21",
         "069a5dfa-bb76-428a-9b5c-9b2a80abce99",
         "6WTags",
         "dp-6wtags-000000",
         "069a5dfa-bb76-428a-9b5c-9b2a80abce99",
         "dw-6wtags-000000-default",
         "6WTags",
         "svc_sgi_clouduser",
         "Storage",
         "IndexUnit",
         "1745657301190",
         "1745666203072",
         "{'read': True, 'write': False, 'execute': False}"
        ],
        [
         "22",
         "3f2c1d90-c971-48d2-bdea-6fe016239dad",
         "BusinessProcess",
         "dp-global-000000",
         "3f2c1d90-c971-48d2-bdea-6fe016239dad",
         "dw-global-000000-default",
         "BusinessProcess",
         "svc_iterop_clouduser",
         "Storage",
         "IndexUnit",
         "1726900285706",
         "1726900285703",
         "{'read': True, 'write': False, 'execute': True}"
        ],
        [
         "23",
         "525ee943-5a35-4d98-a9f4-e9d83fdb92ed",
         "DATAFLOW_SGI",
         "dp-global-000000",
         "525ee943-5a35-4d98-a9f4-e9d83fdb92ed",
         "dw-global-000000-default",
         "DATAFLOW_SGI",
         "jihunyoon",
         "Storage",
         "IndexUnit",
         "1734678235580",
         "1734678235574",
         "{'read': True, 'write': True, 'execute': True}"
        ],
        [
         "24",
         "7e1cbda5-14bb-4f38-89ac-ba5163fc949b",
         "DATASET",
         "dp-netvibestrainingprogram-881699",
         "7e1cbda5-14bb-4f38-89ac-ba5163fc949b",
         "dw-netvibestrainingprogram-881699-intermediatepartnerstraining",
         "DATASET",
         "jle69",
         "Storage",
         "ObjectStorage",
         "1752565016996",
         "1752565017030",
         "{'read': True, 'write': True, 'execute': True}"
        ],
        [
         "25",
         "3eb778e6-a1fb-48a3-81a4-eeacba7282ea",
         "DATASET",
         "901e3c05-6645-4ddb-b263-f87749f43231",
         "3eb778e6-a1fb-48a3-81a4-eeacba7282ea",
         "dw-6645-4ddb-youtubedataanalytics",
         "DATASET",
         "jle69_gmail",
         "Storage",
         "ObjectStorage",
         "1752297014907",
         "1752297014916",
         "{'read': True, 'write': True, 'execute': True}"
        ],
        [
         "26",
         "cb8ef631-61ed-4939-963a-eeb94882c147",
         "DATASET",
         "dp-netvibestrainingprogram-881699",
         "cb8ef631-61ed-4939-963a-eeb94882c147",
         "dw-netvibestrainingprogram-881699-advancedpartnerstraining",
         "DATASET",
         "jle69",
         "Storage",
         "ObjectStorage",
         "1751249374063",
         "1752123921957",
         "{'read': True, 'write': True, 'execute': True}"
        ],
        [
         "27",
         "e1730c37-37c6-4b43-a59c-22286a39496b",
         "DATASET",
         "dp-netvibestrainingprogram-881699",
         "e1730c37-37c6-4b43-a59c-22286a39496b",
         "dw-netvibestrainingprogram-881699-biginnerlevel",
         "DATASET",
         "jle69",
         "Storage",
         "ObjectStorage",
         "1752471182303",
         "1752471182337",
         "{'read': True, 'write': True, 'execute': True}"
        ],
        [
         "28",
         "e0a395a2-ec43-41ff-a376-d6006c68dbbe",
         "DATASET",
         "dp-jle69ptoyproject-874623",
         "e0a395a2-ec43-41ff-a376-d6006c68dbbe",
         "dw-jle69ptoyproject-874623-youtubedataanalytics",
         "DATASET",
         "jle69_gmail",
         "Storage",
         "ObjectStorage",
         "1752307565391",
         "1752307565394",
         "{'read': True, 'write': True, 'execute': True}"
        ],
        [
         "29",
         "3739ef15-1177-4ea6-b7d8-62dabf30544d",
         "DATASET",
         "901e3c05-6645-4ddb-b263-f87749f43231",
         "3739ef15-1177-4ea6-b7d8-62dabf30544d",
         "dw-6645-4ddb-stocktraderstudio",
         "DATASET",
         "jle69",
         "Storage",
         "ObjectStorage",
         "1752125255046",
         "1752125277066",
         "{'read': True, 'write': True, 'execute': True}"
        ],
        [
         "30",
         "fa720da6-8f57-49b0-ba8e-ce57f3fca92d",
         "DATASET",
         "dp-dseagent-716118",
         "fa720da6-8f57-49b0-ba8e-ce57f3fca92d",
         "dw-dseagent-716118-workspace",
         "DATASET",
         "jle69_gmail",
         "Storage",
         "ObjectStorage",
         "1751874395411",
         "1751874395442",
         "{'read': True, 'write': True, 'execute': True}"
        ],
        [
         "31",
         "R1132100527066_DELMIA_SnOP_DataModel",
         "DELMIA_SnOP_DataModel",
         "dp-global-000000",
         "R1132100527066_DELMIA_SnOP_DataModel",
         "dw-global-000000-default",
         "DELMIA_SnOP_DataModel",
         "svc_sgi_clouduser",
         "Storage",
         "IndexUnit",
         "1720256627665",
         "1707561887551",
         "{'read': True, 'write': True, 'execute': True}"
        ],
        [
         "32",
         "R1132100527066_DELMIA_SnOP_Images",
         "DELMIA_SnOP_Images",
         "dp-global-000000",
         "R1132100527066_DELMIA_SnOP_Images",
         "dw-global-000000-default",
         "DELMIA_SnOP_Images",
         "N/A",
         "Storage",
         "ObjectStorage",
         "1720256627668",
         "1707561224191",
         "{'read': True, 'write': True, 'execute': True}"
        ],
        [
         "33",
         "R1132100527066_DELMIA_SnOP_Metric",
         "DELMIA_SnOP_Metric",
         "dp-global-000000",
         "R1132100527066_DELMIA_SnOP_Metric",
         "dw-global-000000-default",
         "DELMIA_SnOP_Metric",
         "N/A",
         "Storage",
         "IndexUnit",
         "1707553208309",
         "1745657169739",
         "{'read': True, 'write': True, 'execute': True}"
        ],
        [
         "34",
         "R1132100527066_DELMIA_SnOP_Storage",
         "DELMIA_SnOP_Storage",
         "dp-global-000000",
         "R1132100527066_DELMIA_SnOP_Storage",
         "dw-global-000000-default",
         "DELMIA_SnOP_Storage",
         "N/A",
         "Storage",
         "ObjectStorage",
         "1720256627670",
         "1707561224140",
         "{'read': True, 'write': True, 'execute': True}"
        ],
        [
         "35",
         "a2ab2c11-36c8-46fa-8212-131bbcdabfec",
         "DF_TEST",
         "dp-global-000000",
         "a2ab2c11-36c8-46fa-8212-131bbcdabfec",
         "dw-global-000000-default",
         "DF_TEST",
         "jihunyoon",
         "Storage",
         "ObjectStorage",
         "1734497873628",
         "1734497873623",
         "{'read': True, 'write': True, 'execute': True}"
        ],
        [
         "36",
         "a945e9cc-8bfb-4aa3-b23e-bfd7e2e1ceba",
         "DF_TEST_SGI",
         "dp-global-000000",
         "a945e9cc-8bfb-4aa3-b23e-bfd7e2e1ceba",
         "dw-global-000000-default",
         "DF_TEST_SGI",
         "jihunyoon",
         "Storage",
         "IndexUnit",
         "1734501357681",
         "1734501357677",
         "{'read': True, 'write': True, 'execute': True}"
        ],
        [
         "37",
         "6eb0cd0a-9630-42d0-8a44-7b31701e4a4c",
         "Data_Lake_01",
         "dp-jle69ptrain01-365631",
         "6eb0cd0a-9630-42d0-8a44-7b31701e4a4c",
         "dw-jle69ptrain01-365631-traindataengineering",
         "Data_Lake_01",
         "jle69_gmail",
         "Storage",
         "IndexUnit",
         "1753851812888",
         "1753860930425",
         "{'read': True, 'write': True, 'execute': True}"
        ],
        [
         "38",
         "f62f92f5-9031-4495-972b-d9482ecf9685",
         "DediTrainVelizy",
         "dp-netvibestrainingprogram-881699",
         "f62f92f5-9031-4495-972b-d9482ecf9685",
         "dw-netvibestrainingprogram-881699-advancedpartnerstraining",
         "DediTrainVelizy",
         "jle69",
         "Storage",
         "IndexUnit",
         "1751263785021",
         "1752123921957",
         "{'read': True, 'write': True, 'execute': True}"
        ],
        [
         "39",
         "25626555-7e90-4907-91e5-313870a6bb1d",
         "DummyData",
         "dp-netvibestrainingprogram-881699",
         "25626555-7e90-4907-91e5-313870a6bb1d",
         "dw-netvibestrainingprogram-881699-biginnerlevel",
         "DummyData",
         "jle69",
         "Storage",
         "IndexUnit",
         "1753176698529",
         "1753179183318",
         "{'read': True, 'write': True, 'execute': True}"
        ],
        [
         "40",
         "95402619-a89f-46da-8c34-d1955703e71c",
         "EDRCou3InternalBucket",
         "dp-global-000000",
         "95402619-a89f-46da-8c34-d1955703e71c",
         "dw-global-000000-default",
         "EDRCou3InternalBucket",
         "N/A",
         "Storage",
         "ObjectStorage",
         "1707553209043",
         "1745657169927",
         "{'read': True, 'write': True, 'execute': True}"
        ],
        [
         "41",
         "8fc53b1d-9f40-41d8-a237-2c7721b359d0",
         "EDRCou3index",
         "dp-global-000000",
         "8fc53b1d-9f40-41d8-a237-2c7721b359d0",
         "dw-global-000000-default",
         "EDRCou3index",
         "N/A",
         "Storage",
         "IndexUnit",
         "1751081541885",
         "1751081539438",
         "{'read': True, 'write': True, 'execute': True}"
        ],
        [
         "42",
         "36d01723-6463-4e57-9a21-883349a619ff",
         "EPC-K5K-BUCKET",
         "dp-global-000000",
         "36d01723-6463-4e57-9a21-883349a619ff",
         "dw-global-000000-default",
         "EPC-K5K-BUCKET",
         "N/A",
         "Storage",
         "ObjectStorage",
         "1707553208905",
         "1745657169945",
         "{'read': True, 'write': True, 'execute': True}"
        ],
        [
         "43",
         "16275aeb-2dcc-43e2-9e2d-c1c65a12baf7",
         "EPC-K5K-INDEXUNIT",
         "dp-global-000000",
         "16275aeb-2dcc-43e2-9e2d-c1c65a12baf7",
         "dw-global-000000-default",
         "EPC-K5K-INDEXUNIT",
         "N/A",
         "Storage",
         "IndexUnit",
         "1707553208930",
         "1745657169963",
         "{'read': True, 'write': True, 'execute': True}"
        ],
        [
         "44",
         "R1132100527066_ERPStorage",
         "ERPStorage",
         "dp-global-000000",
         "R1132100527066_ERPStorage",
         "dw-global-000000-default",
         "ERPStorage",
         "svc_sgi_clouduser",
         "Storage",
         "ObjectStorage",
         "1720256627671",
         "1720233822226",
         "{'read': True, 'write': True, 'execute': True}"
        ],
        [
         "45",
         "d27534ab-e09f-492a-a75a-223e97c390f0",
         "ETH94.TESTDATASET",
         "dp-global-000000",
         "d27534ab-e09f-492a-a75a-223e97c390f0",
         "dw-global-000000-default",
         "ETH94.TESTDATASET",
         "eomtaehyun",
         "Storage",
         "ObjectStorage",
         "1734419170856",
         "1734419170852",
         "{'read': True, 'write': True, 'execute': True}"
        ],
        [
         "46",
         "e5281160-f15b-4b9d-a9cb-34e7f2a2ac7b",
         "ETH94_ICTPEOPLE_Date_SGI",
         "dp-global-000000",
         "e5281160-f15b-4b9d-a9cb-34e7f2a2ac7b",
         "dw-global-000000-default",
         "ETH94_ICTPEOPLE_Date_SGI",
         "eomtaehyun",
         "Storage",
         "IndexUnit",
         "1734419635468",
         "1734419635462",
         "{'read': True, 'write': True, 'execute': True}"
        ],
        [
         "47",
         "2a3e5921-5434-47c2-a62e-cdf645bc865e",
         "ETH94_ICTPEOPLE_Date_SGI1",
         "dp-global-000000",
         "2a3e5921-5434-47c2-a62e-cdf645bc865e",
         "dw-global-000000-default",
         "ETH94_ICTPEOPLE_Date_SGI1",
         "eomtaehyun",
         "Storage",
         "IndexUnit",
         "1734420722276",
         "1734420722272",
         "{'read': True, 'write': True, 'execute': True}"
        ],
        [
         "48",
         "d7b26fe8-3e58-4d8d-81f7-48cbd66ff2ad",
         "ETH94_ICTPEOPLE_SGI",
         "dp-global-000000",
         "d7b26fe8-3e58-4d8d-81f7-48cbd66ff2ad",
         "dw-global-000000-default",
         "ETH94_ICTPEOPLE_SGI",
         "eomtaehyun",
         "Storage",
         "IndexUnit",
         "1734334861748",
         "1734334861742",
         "{'read': True, 'write': True, 'execute': True}"
        ],
        [
         "49",
         "ef7f39eb-3461-4ff1-a9c5-5c29ffd49145",
         "ETH_ICTPEOPLE_DATASET_SGI_N",
         "dp-global-000000",
         "ef7f39eb-3461-4ff1-a9c5-5c29ffd49145",
         "dw-global-000000-default",
         "ETH_ICTPEOPLE_DATASET_SGI_N",
         "eomtaehyun",
         "Storage",
         "IndexUnit",
         "1734481912645",
         "1734481912640",
         "{'read': True, 'write': True, 'execute': True}"
        ]
       ],
       "shape": {
        "columns": 12,
        "rows": 160
       }
      },
      "text/html": [
       "<div>\n",
       "<style scoped>\n",
       "    .dataframe tbody tr th:only-of-type {\n",
       "        vertical-align: middle;\n",
       "    }\n",
       "\n",
       "    .dataframe tbody tr th {\n",
       "        vertical-align: top;\n",
       "    }\n",
       "\n",
       "    .dataframe thead th {\n",
       "        text-align: right;\n",
       "    }\n",
       "</style>\n",
       "<table border=\"1\" class=\"dataframe\">\n",
       "  <thead>\n",
       "    <tr style=\"text-align: right;\">\n",
       "      <th></th>\n",
       "      <th>id</th>\n",
       "      <th>resourceId</th>\n",
       "      <th>projectId</th>\n",
       "      <th>resourceUUID</th>\n",
       "      <th>workspaceId</th>\n",
       "      <th>name</th>\n",
       "      <th>creator</th>\n",
       "      <th>kind</th>\n",
       "      <th>type</th>\n",
       "      <th>created</th>\n",
       "      <th>lastModified</th>\n",
       "      <th>permissions</th>\n",
       "    </tr>\n",
       "  </thead>\n",
       "  <tbody>\n",
       "    <tr>\n",
       "      <th>0</th>\n",
       "      <td>0add512f-3759-487b-aa40-9c5019874ea3</td>\n",
       "      <td>20241217_16:00_dsjeon_storage</td>\n",
       "      <td>dp-global-000000</td>\n",
       "      <td>0add512f-3759-487b-aa40-9c5019874ea3</td>\n",
       "      <td>dw-global-000000-default</td>\n",
       "      <td>20241217_16:00_dsjeon_storage</td>\n",
       "      <td>jeondongsoo</td>\n",
       "      <td>Storage</td>\n",
       "      <td>ObjectStorage</td>\n",
       "      <td>1734418711011</td>\n",
       "      <td>1734418711007</td>\n",
       "      <td>{'read': True, 'write': True, 'execute': True}</td>\n",
       "    </tr>\n",
       "    <tr>\n",
       "      <th>1</th>\n",
       "      <td>7118465e-739b-4746-8fc7-657755764ee7</td>\n",
       "      <td>240129_part_information_OU3</td>\n",
       "      <td>dp-global-000000</td>\n",
       "      <td>7118465e-739b-4746-8fc7-657755764ee7</td>\n",
       "      <td>dw-global-000000-default</td>\n",
       "      <td>240129_part_information_OU3</td>\n",
       "      <td>N/A</td>\n",
       "      <td>Storage</td>\n",
       "      <td>IndexUnit</td>\n",
       "      <td>1707553208946</td>\n",
       "      <td>1745657169549</td>\n",
       "      <td>{'read': True, 'write': True, 'execute': True}</td>\n",
       "    </tr>\n",
       "    <tr>\n",
       "      <th>2</th>\n",
       "      <td>R1132100527066_3DS_AdditiveManufacturingQualit...</td>\n",
       "      <td>3DS_AdditiveManufacturingQualityAnalyst_Data</td>\n",
       "      <td>ca221e4a-46b1-43b1-9c3e-4eea8a0aa662</td>\n",
       "      <td>R1132100527066_3DS_AdditiveManufacturingQualit...</td>\n",
       "      <td>ca221e4a-46b1-43b1-9c3e-4eea8a0aa662</td>\n",
       "      <td>3DS_AdditiveManufacturingQualityAnalyst_Data</td>\n",
       "      <td>svc_sgi_clouduser</td>\n",
       "      <td>Storage</td>\n",
       "      <td>ObjectStorage</td>\n",
       "      <td>1751697876373</td>\n",
       "      <td>1751697876334</td>\n",
       "      <td>{'read': True, 'write': True, 'execute': True}</td>\n",
       "    </tr>\n",
       "    <tr>\n",
       "      <th>3</th>\n",
       "      <td>R1132100527066_3DS_AdditiveManufacturingQualit...</td>\n",
       "      <td>3DS_AdditiveManufacturingQualityAnalyst_Image</td>\n",
       "      <td>ca221e4a-46b1-43b1-9c3e-4eea8a0aa662</td>\n",
       "      <td>R1132100527066_3DS_AdditiveManufacturingQualit...</td>\n",
       "      <td>ca221e4a-46b1-43b1-9c3e-4eea8a0aa662</td>\n",
       "      <td>3DS_AdditiveManufacturingQualityAnalyst_Image</td>\n",
       "      <td>svc_sgi_clouduser</td>\n",
       "      <td>Storage</td>\n",
       "      <td>ObjectStorage</td>\n",
       "      <td>1751697876576</td>\n",
       "      <td>1751697876537</td>\n",
       "      <td>{'read': True, 'write': True, 'execute': True}</td>\n",
       "    </tr>\n",
       "    <tr>\n",
       "      <th>4</th>\n",
       "      <td>R1132100527066_3DS_AdditiveManufacturingQualit...</td>\n",
       "      <td>3DS_AdditiveManufacturingQualityAnalyst_Result</td>\n",
       "      <td>ca221e4a-46b1-43b1-9c3e-4eea8a0aa662</td>\n",
       "      <td>R1132100527066_3DS_AdditiveManufacturingQualit...</td>\n",
       "      <td>ca221e4a-46b1-43b1-9c3e-4eea8a0aa662</td>\n",
       "      <td>3DS_AdditiveManufacturingQualityAnalyst_Result</td>\n",
       "      <td>svc_sgi_clouduser</td>\n",
       "      <td>Storage</td>\n",
       "      <td>ObjectStorage</td>\n",
       "      <td>1751697876473</td>\n",
       "      <td>1751697876435</td>\n",
       "      <td>{'read': True, 'write': True, 'execute': True}</td>\n",
       "    </tr>\n",
       "    <tr>\n",
       "      <th>...</th>\n",
       "      <td>...</td>\n",
       "      <td>...</td>\n",
       "      <td>...</td>\n",
       "      <td>...</td>\n",
       "      <td>...</td>\n",
       "      <td>...</td>\n",
       "      <td>...</td>\n",
       "      <td>...</td>\n",
       "      <td>...</td>\n",
       "      <td>...</td>\n",
       "      <td>...</td>\n",
       "      <td>...</td>\n",
       "    </tr>\n",
       "    <tr>\n",
       "      <th>155</th>\n",
       "      <td>5841fd29-a3a3-4780-8343-b1fe0ccaae71</td>\n",
       "      <td>r2vsurvey</td>\n",
       "      <td>dp-r2vsurvey-000000</td>\n",
       "      <td>5841fd29-a3a3-4780-8343-b1fe0ccaae71</td>\n",
       "      <td>dw-r2vsurvey-000000-default</td>\n",
       "      <td>r2vsurvey</td>\n",
       "      <td>svc_sgi_clouduser</td>\n",
       "      <td>Storage</td>\n",
       "      <td>IndexUnit</td>\n",
       "      <td>1745666684450</td>\n",
       "      <td>1751707573630</td>\n",
       "      <td>{'read': True, 'write': False, 'execute': False}</td>\n",
       "    </tr>\n",
       "    <tr>\n",
       "      <th>156</th>\n",
       "      <td>3fbd978d-c9ce-43af-9f73-ea4aed3ab4b5</td>\n",
       "      <td>sgi</td>\n",
       "      <td>dp-global-000000</td>\n",
       "      <td>3fbd978d-c9ce-43af-9f73-ea4aed3ab4b5</td>\n",
       "      <td>dw-global-000000-default</td>\n",
       "      <td>sgi</td>\n",
       "      <td>jihunyoon</td>\n",
       "      <td>Storage</td>\n",
       "      <td>IndexUnit</td>\n",
       "      <td>1734678234116</td>\n",
       "      <td>1734678234102</td>\n",
       "      <td>{'read': True, 'write': True, 'execute': True}</td>\n",
       "    </tr>\n",
       "    <tr>\n",
       "      <th>157</th>\n",
       "      <td>b35600d0-6c8d-4142-9e48-d35ab335d62b</td>\n",
       "      <td>sgi_test_syyou</td>\n",
       "      <td>dp-global-000000</td>\n",
       "      <td>b35600d0-6c8d-4142-9e48-d35ab335d62b</td>\n",
       "      <td>dw-global-000000-default</td>\n",
       "      <td>sgi_test_syyou</td>\n",
       "      <td>mobilevm</td>\n",
       "      <td>Storage</td>\n",
       "      <td>IndexUnit</td>\n",
       "      <td>1734483191336</td>\n",
       "      <td>1734483191331</td>\n",
       "      <td>{'read': True, 'write': True, 'execute': True}</td>\n",
       "    </tr>\n",
       "    <tr>\n",
       "      <th>158</th>\n",
       "      <td>595464cb-65bd-44d9-b719-c08b1a605070</td>\n",
       "      <td>syyou_storage</td>\n",
       "      <td>dp-global-000000</td>\n",
       "      <td>595464cb-65bd-44d9-b719-c08b1a605070</td>\n",
       "      <td>dw-global-000000-default</td>\n",
       "      <td>syyou_storage</td>\n",
       "      <td>mobilevm</td>\n",
       "      <td>Storage</td>\n",
       "      <td>ObjectStorage</td>\n",
       "      <td>1734677241229</td>\n",
       "      <td>1734677241224</td>\n",
       "      <td>{'read': True, 'write': True, 'execute': True}</td>\n",
       "    </tr>\n",
       "    <tr>\n",
       "      <th>159</th>\n",
       "      <td>8113ef7d-6ef8-45c1-9e1a-e8133a8740d3</td>\n",
       "      <td>wsu2_in_project02</td>\n",
       "      <td>dp-global-000000</td>\n",
       "      <td>8113ef7d-6ef8-45c1-9e1a-e8133a8740d3</td>\n",
       "      <td>dw-global-000000-default</td>\n",
       "      <td>wsu2_in_project02</td>\n",
       "      <td>wsu2</td>\n",
       "      <td>Storage</td>\n",
       "      <td>IndexUnit</td>\n",
       "      <td>1734328868870</td>\n",
       "      <td>1734328868866</td>\n",
       "      <td>{'read': True, 'write': True, 'execute': True}</td>\n",
       "    </tr>\n",
       "  </tbody>\n",
       "</table>\n",
       "<p>160 rows × 12 columns</p>\n",
       "</div>"
      ],
      "text/plain": [
       "                                                    id  \\\n",
       "0                 0add512f-3759-487b-aa40-9c5019874ea3   \n",
       "1                 7118465e-739b-4746-8fc7-657755764ee7   \n",
       "2    R1132100527066_3DS_AdditiveManufacturingQualit...   \n",
       "3    R1132100527066_3DS_AdditiveManufacturingQualit...   \n",
       "4    R1132100527066_3DS_AdditiveManufacturingQualit...   \n",
       "..                                                 ...   \n",
       "155               5841fd29-a3a3-4780-8343-b1fe0ccaae71   \n",
       "156               3fbd978d-c9ce-43af-9f73-ea4aed3ab4b5   \n",
       "157               b35600d0-6c8d-4142-9e48-d35ab335d62b   \n",
       "158               595464cb-65bd-44d9-b719-c08b1a605070   \n",
       "159               8113ef7d-6ef8-45c1-9e1a-e8133a8740d3   \n",
       "\n",
       "                                         resourceId  \\\n",
       "0                     20241217_16:00_dsjeon_storage   \n",
       "1                       240129_part_information_OU3   \n",
       "2      3DS_AdditiveManufacturingQualityAnalyst_Data   \n",
       "3     3DS_AdditiveManufacturingQualityAnalyst_Image   \n",
       "4    3DS_AdditiveManufacturingQualityAnalyst_Result   \n",
       "..                                              ...   \n",
       "155                                       r2vsurvey   \n",
       "156                                             sgi   \n",
       "157                                  sgi_test_syyou   \n",
       "158                                   syyou_storage   \n",
       "159                               wsu2_in_project02   \n",
       "\n",
       "                                projectId  \\\n",
       "0                        dp-global-000000   \n",
       "1                        dp-global-000000   \n",
       "2    ca221e4a-46b1-43b1-9c3e-4eea8a0aa662   \n",
       "3    ca221e4a-46b1-43b1-9c3e-4eea8a0aa662   \n",
       "4    ca221e4a-46b1-43b1-9c3e-4eea8a0aa662   \n",
       "..                                    ...   \n",
       "155                   dp-r2vsurvey-000000   \n",
       "156                      dp-global-000000   \n",
       "157                      dp-global-000000   \n",
       "158                      dp-global-000000   \n",
       "159                      dp-global-000000   \n",
       "\n",
       "                                          resourceUUID  \\\n",
       "0                 0add512f-3759-487b-aa40-9c5019874ea3   \n",
       "1                 7118465e-739b-4746-8fc7-657755764ee7   \n",
       "2    R1132100527066_3DS_AdditiveManufacturingQualit...   \n",
       "3    R1132100527066_3DS_AdditiveManufacturingQualit...   \n",
       "4    R1132100527066_3DS_AdditiveManufacturingQualit...   \n",
       "..                                                 ...   \n",
       "155               5841fd29-a3a3-4780-8343-b1fe0ccaae71   \n",
       "156               3fbd978d-c9ce-43af-9f73-ea4aed3ab4b5   \n",
       "157               b35600d0-6c8d-4142-9e48-d35ab335d62b   \n",
       "158               595464cb-65bd-44d9-b719-c08b1a605070   \n",
       "159               8113ef7d-6ef8-45c1-9e1a-e8133a8740d3   \n",
       "\n",
       "                              workspaceId  \\\n",
       "0                dw-global-000000-default   \n",
       "1                dw-global-000000-default   \n",
       "2    ca221e4a-46b1-43b1-9c3e-4eea8a0aa662   \n",
       "3    ca221e4a-46b1-43b1-9c3e-4eea8a0aa662   \n",
       "4    ca221e4a-46b1-43b1-9c3e-4eea8a0aa662   \n",
       "..                                    ...   \n",
       "155           dw-r2vsurvey-000000-default   \n",
       "156              dw-global-000000-default   \n",
       "157              dw-global-000000-default   \n",
       "158              dw-global-000000-default   \n",
       "159              dw-global-000000-default   \n",
       "\n",
       "                                               name            creator  \\\n",
       "0                     20241217_16:00_dsjeon_storage        jeondongsoo   \n",
       "1                       240129_part_information_OU3                N/A   \n",
       "2      3DS_AdditiveManufacturingQualityAnalyst_Data  svc_sgi_clouduser   \n",
       "3     3DS_AdditiveManufacturingQualityAnalyst_Image  svc_sgi_clouduser   \n",
       "4    3DS_AdditiveManufacturingQualityAnalyst_Result  svc_sgi_clouduser   \n",
       "..                                              ...                ...   \n",
       "155                                       r2vsurvey  svc_sgi_clouduser   \n",
       "156                                             sgi          jihunyoon   \n",
       "157                                  sgi_test_syyou           mobilevm   \n",
       "158                                   syyou_storage           mobilevm   \n",
       "159                               wsu2_in_project02               wsu2   \n",
       "\n",
       "        kind           type        created   lastModified  \\\n",
       "0    Storage  ObjectStorage  1734418711011  1734418711007   \n",
       "1    Storage      IndexUnit  1707553208946  1745657169549   \n",
       "2    Storage  ObjectStorage  1751697876373  1751697876334   \n",
       "3    Storage  ObjectStorage  1751697876576  1751697876537   \n",
       "4    Storage  ObjectStorage  1751697876473  1751697876435   \n",
       "..       ...            ...            ...            ...   \n",
       "155  Storage      IndexUnit  1745666684450  1751707573630   \n",
       "156  Storage      IndexUnit  1734678234116  1734678234102   \n",
       "157  Storage      IndexUnit  1734483191336  1734483191331   \n",
       "158  Storage  ObjectStorage  1734677241229  1734677241224   \n",
       "159  Storage      IndexUnit  1734328868870  1734328868866   \n",
       "\n",
       "                                          permissions  \n",
       "0      {'read': True, 'write': True, 'execute': True}  \n",
       "1      {'read': True, 'write': True, 'execute': True}  \n",
       "2      {'read': True, 'write': True, 'execute': True}  \n",
       "3      {'read': True, 'write': True, 'execute': True}  \n",
       "4      {'read': True, 'write': True, 'execute': True}  \n",
       "..                                                ...  \n",
       "155  {'read': True, 'write': False, 'execute': False}  \n",
       "156    {'read': True, 'write': True, 'execute': True}  \n",
       "157    {'read': True, 'write': True, 'execute': True}  \n",
       "158    {'read': True, 'write': True, 'execute': True}  \n",
       "159    {'read': True, 'write': True, 'execute': True}  \n",
       "\n",
       "[160 rows x 12 columns]"
      ]
     },
     "execution_count": 9,
     "metadata": {},
     "output_type": "execute_result"
    }
   ],
   "source": [
    "import pandas as pd \n",
    "df = pd.DataFrame(res.json()['cards'])\n",
    "df#.head(5)"
   ]
  },
  {
   "cell_type": "code",
   "execution_count": null,
   "id": "07d5fdd5",
   "metadata": {},
   "outputs": [],
   "source": [
    "df.info()"
   ]
  },
  {
   "cell_type": "code",
   "execution_count": null,
   "id": "e8ff81fb",
   "metadata": {},
   "outputs": [],
   "source": [
    "df.dtypes"
   ]
  },
  {
   "cell_type": "code",
   "execution_count": null,
   "id": "1157e29b",
   "metadata": {},
   "outputs": [],
   "source": [
    "df.describe()"
   ]
  },
  {
   "cell_type": "code",
   "execution_count": null,
   "id": "7dccfc94",
   "metadata": {},
   "outputs": [],
   "source": [
    "workspace_ids = df.workspaceId.unique()\n",
    "import pprint \n",
    "pp = pprint.PrettyPrinter(indent=2)\n",
    "print(\"Unique Workspace IDs Count:\", len(workspace_ids))\n",
    "pp.pprint(sorted(workspace_ids))"
   ]
  },
  {
   "cell_type": "markdown",
   "id": "68884add",
   "metadata": {},
   "source": [
    "### [4.2] ObjectStorage 신규 생성 "
   ]
  },
  {
   "cell_type": "code",
   "execution_count": null,
   "id": "2c0e701f",
   "metadata": {},
   "outputs": [],
   "source": [
    "# 스토리지 생성\n",
    "res = api.create(\n",
    "    stype=\"ObjectStorage\",\n",
    "    name=\"TestObject-01.CreatedByRestAPI\",\n",
    "    description=\"테스트 후 바로 삭제할 것\"\n",
    ")\n",
    "res "
   ]
  },
  {
   "cell_type": "code",
   "execution_count": null,
   "id": "0af86930",
   "metadata": {},
   "outputs": [],
   "source": [
    "file = os.path.join(os.getcwd(), \"01_Storages\", \"Create A Storage.json\")\n",
    "with open(file, \"w\", encoding=\"utf-8\") as f:\n",
    "    json.dump(res.json(), f, ensure_ascii=False, indent=2)"
   ]
  },
  {
   "cell_type": "markdown",
   "id": "688cdb37",
   "metadata": {},
   "source": [
    "### [4.3] 생성한 스토리지 찾기"
   ]
  },
  {
   "cell_type": "code",
   "execution_count": null,
   "id": "17c3eaff",
   "metadata": {},
   "outputs": [],
   "source": [
    "# 스토리지 검색-1\n",
    "res = api.search_by_name(\n",
    "    name=\"TestObject-01.CreatedByRestAPI\", \n",
    "    # workspace_id=\"dw-global-000000-default\"\n",
    ")\n",
    "res "
   ]
  },
  {
   "cell_type": "code",
   "execution_count": null,
   "id": "c17f679d",
   "metadata": {},
   "outputs": [],
   "source": [
    "file = os.path.join(os.getcwd(), \"01_Storages\", \"Search-1 the Storage.json\")\n",
    "with open(file, \"w\", encoding=\"utf-8\") as f:\n",
    "    json.dump(res.json(), f, ensure_ascii=False, indent=2)"
   ]
  },
  {
   "cell_type": "markdown",
   "id": "099350cf",
   "metadata": {},
   "source": [
    "### [4.4] 스토리지 비우기 \n",
    "- 샘플파일 아무거나 수동으로 업로드"
   ]
  },
  {
   "cell_type": "code",
   "execution_count": null,
   "id": "ccdf54e4",
   "metadata": {},
   "outputs": [],
   "source": [
    "resource_uuid = \"4407fe2c-1739-4391-9843-d120d7fe6cd7\""
   ]
  },
  {
   "cell_type": "code",
   "execution_count": null,
   "id": "58b369e4",
   "metadata": {},
   "outputs": [],
   "source": [
    "res = api.clear(resource_uuid)\n",
    "res "
   ]
  },
  {
   "cell_type": "markdown",
   "id": "0104ba25",
   "metadata": {},
   "source": [
    "- res.json() 없음 --> 결과는 플랫폼에서 직접 확인  "
   ]
  },
  {
   "cell_type": "markdown",
   "id": "c03cfbac",
   "metadata": {},
   "source": [
    "### [4.5] 스토리지 Export"
   ]
  },
  {
   "cell_type": "code",
   "execution_count": null,
   "id": "b65eff5c",
   "metadata": {},
   "outputs": [],
   "source": [
    "res = api.export_(resource_uuid)\n",
    "res "
   ]
  },
  {
   "cell_type": "code",
   "execution_count": null,
   "id": "6228b8a2",
   "metadata": {},
   "outputs": [],
   "source": [
    "file = os.path.join(os.getcwd(), \"01_Storages\", \"Export the Storage.json\")\n",
    "with open(file, \"w\", encoding=\"utf-8\") as f:\n",
    "    json.dump(res.json(), f, ensure_ascii=False, indent=2)"
   ]
  },
  {
   "cell_type": "markdown",
   "id": "c8929237",
   "metadata": {},
   "source": [
    "### [4.6] 스토리지 Import"
   ]
  },
  {
   "cell_type": "code",
   "execution_count": null,
   "id": "7d720bf6",
   "metadata": {},
   "outputs": [],
   "source": [
    "payload = {\n",
    "    \"name\": \"TestObject-05.ImportByRestAPI\",\n",
    "    \"identifier\": \"TestObject-05.ImportByRestAPI\",\n",
    "    \"update\": True,\n",
    "    \"content\": \"ewogICJzdG9yYWdlIiA6IHsKICAgICJAY2xhc3MiIDogIk9iamVjdFN0b3JhZ2UiLAogICAgInJlc291cmNlSWQiIDogIlRlc3RPYmplY3QtMDMuQ3JlYXRlZEJ5UmVzdEFQSSIsCiAgICAibmFtZSIgOiAiVGVzdE9iamVjdC0wMy5DcmVhdGVkQnlSZXN0QVBJIiwKICAgICJkZXNjcmlwdGlvbiIgOiAi7YWM7Iqk7Yq4IO2bhCDrsJTroZwg7IKt7KCc7ZWgIOqygyIsCiAgICAia2luZCIgOiAiU3RvcmFnZSIsCiAgICAidHlwZSIgOiAiT2JqZWN0U3RvcmFnZSIsCiAgICAicmVzb3VyY2VQYXRoIiA6ICJTdG9yYWdlL1Rlc3RPYmplY3QtMDMuQ3JlYXRlZEJ5UmVzdEFQSS5qc29uIiwKICAgICJjb25maWciIDogewogICAgICAiYnVja2V0IiA6ICJ0ZXN0b2JqZWN0MDNjcmVhdGVkYnlyZXN0YXBpIiwKICAgICAgImRlbGVnYXRpb25zIiA6IFsgewogICAgICAgICJuYW1lIiA6ICJTZW1hbnRpY0dyYXBoSW5kZXguRE9TQWNjb3VudC4yIiwKICAgICAgICAicGVybWlzc2lvbiIgOiAicmVhZCIKICAgICAgfSwgewogICAgICAgICJuYW1lIiA6ICJTZW1hbnRpY0dyYXBoSW5kZXguRE9TQWNjb3VudC4yIiwKICAgICAgICAicGVybWlzc2lvbiIgOiAid3JpdGUiCiAgICAgIH0sIHsKICAgICAgICAibmFtZSIgOiAiUFBFUy5Eb3NBY2NvdW50IiwKICAgICAgICAicGVybWlzc2lvbiIgOiAiZXhlY3V0ZSIKICAgICAgfSwgewogICAgICAgICJuYW1lIiA6ICJEYXRhc2V0R292ZXJuYW5jZSIsCiAgICAgICAgInBlcm1pc3Npb24iIDogInJlYWQiCiAgICAgIH0gXQogICAgfQogIH0sCiAgInZlcnNpb24iIDogewogICAgInZhbHVlIiA6ICIxLjIiCiAgfQp9\"\n",
    "}"
   ]
  },
  {
   "cell_type": "code",
   "execution_count": null,
   "id": "60d40268",
   "metadata": {},
   "outputs": [],
   "source": [
    "from importlib import reload\n",
    "import dserestapi\n",
    "reload(dserestapi)\n",
    "from dserestapi import Storages\n",
    "api = Storages()\n",
    "res = api.import_(payload)\n",
    "res "
   ]
  },
  {
   "cell_type": "markdown",
   "id": "f0320d46",
   "metadata": {},
   "source": [
    "### [4.7] 생성한 스토리지 삭제"
   ]
  },
  {
   "cell_type": "code",
   "execution_count": null,
   "id": "be8fa606",
   "metadata": {},
   "outputs": [],
   "source": [
    "# API를 이용해서 재검색\n",
    "res = api.search_by_name(\n",
    "    name=\"TestObject-01.CreatedByRestAPI\"\n",
    ")\n",
    "resource_uuid = res.json()[\"cards\"][0][\"resourceUUID\"]\n",
    "resource_uuid"
   ]
  },
  {
   "cell_type": "code",
   "execution_count": null,
   "id": "65456f1b",
   "metadata": {},
   "outputs": [],
   "source": [
    "res = api.delete(resource_uuid=resource_uuid)\n",
    "res "
   ]
  },
  {
   "cell_type": "markdown",
   "id": "a5416f46",
   "metadata": {},
   "source": [
    "- res.json() --> 삭제 함수 응답에는 JSON 데이터가 없기 때문에 에러 발생"
   ]
  },
  {
   "cell_type": "markdown",
   "id": "bc5cb5f4",
   "metadata": {},
   "source": [
    "# **********************************************************************"
   ]
  },
  {
   "cell_type": "markdown",
   "id": "34ee8d53",
   "metadata": {},
   "source": [
    "# [5] 사용 예제 | Object Storage"
   ]
  },
  {
   "cell_type": "markdown",
   "id": "6897441c",
   "metadata": {},
   "source": [
    "### [5.1] Object Storage에 파일 업로드 "
   ]
  },
  {
   "cell_type": "code",
   "execution_count": null,
   "id": "72ecd534",
   "metadata": {},
   "outputs": [],
   "source": [
    "# 신규 스토리지 재생성 \n",
    "from dserestapi import Storages\n",
    "api = Storages()\n",
    "res = api.create(\n",
    "    stype=\"ObjectStorage\",\n",
    "    name=\"TestObject-01.CreatedByRestAPI\",\n",
    "    description=\"테스트 후 바로 삭제할 것\"\n",
    ")\n",
    "res.json()"
   ]
  },
  {
   "cell_type": "code",
   "execution_count": null,
   "id": "dbd9621e",
   "metadata": {},
   "outputs": [],
   "source": [
    "# 생성한 스토리지의 resourceUUID 추출 \n",
    "resource_uuid = res.json()[\"resourceUUID\"]\n",
    "# resource_uuid = \"4407fe2c-1739-4391-9843-d120d7fe6cd7\"\n",
    "resource_uuid"
   ]
  },
  {
   "cell_type": "markdown",
   "id": "fcfc0649",
   "metadata": {},
   "source": [
    "#### [5.1.1] 파일 업로드 | 경로 미지정\n",
    "- 업로드할 파일은 항상 파일 절대경로를 사용해야함"
   ]
  },
  {
   "cell_type": "code",
   "execution_count": null,
   "id": "847f23da",
   "metadata": {},
   "outputs": [],
   "source": [
    "from dserestapi import ObjectStorage\n",
    "api = ObjectStorage()\n",
    "uploading_file = r\"F:\\pypjts\\DSE-REST-API\\How to use APIs\\credentials\\CML Agent ID-PW.json\"\n",
    "res = api.upload(resourceUUID=resource_uuid, file=uploading_file, path=None)\n",
    "res "
   ]
  },
  {
   "cell_type": "markdown",
   "id": "2a233acd",
   "metadata": {},
   "source": [
    "#### [5.1.2] 파일 업로드 | 경로 강제 지정"
   ]
  },
  {
   "cell_type": "code",
   "execution_count": null,
   "id": "0e6b784e",
   "metadata": {},
   "outputs": [],
   "source": [
    "api = ObjectStorage()\n",
    "uploading_file = r\"F:\\pypjts\\DSE-REST-API\\How to use APIs\\credentials\\CML Agent ID-PW.json\"\n",
    "res = api.upload(resourceUUID=resource_uuid, file=uploading_file, path=\"Manual_Path_01/\")\n",
    "res "
   ]
  },
  {
   "cell_type": "markdown",
   "id": "de75cf7e",
   "metadata": {},
   "source": [
    "- JSON 데이터 없음"
   ]
  },
  {
   "cell_type": "markdown",
   "id": "72c69f12",
   "metadata": {},
   "source": [
    "### [5.2] Object Storage에 디렉토리 내의 모든 파일들을 한번에 업로드 "
   ]
  },
  {
   "cell_type": "code",
   "execution_count": null,
   "id": "b511150a",
   "metadata": {},
   "outputs": [],
   "source": [
    "# 업로드할 디렉토리 확인\n",
    "import os \n",
    "top_dir = r\"E:\\__ENGINEER_DRIVE__\\__DATASET__\\__Dummy Data__\"\n",
    "uploading_files = []\n",
    "for root, dirs, files in os.walk(top_dir):\n",
    "    for file in files:\n",
    "        uploading_files.append(os.path.join(root, file))\n",
    "\n",
    "uploading_files"
   ]
  },
  {
   "cell_type": "markdown",
   "id": "89502428",
   "metadata": {},
   "source": [
    "#### [5.2.1] 멀티 파일 업로드 | 자동 경로 설정"
   ]
  },
  {
   "cell_type": "code",
   "execution_count": null,
   "id": "2bd45058",
   "metadata": {},
   "outputs": [],
   "source": [
    "# 멀티 파일 업로드 | 자동 경로 설정\n",
    "import pprint \n",
    "pp = pprint.PrettyPrinter(indent=2)\n",
    "api = ObjectStorage()\n",
    "res_li = api.upload_files(resourceUUID=resource_uuid, files=uploading_files, path=None)\n",
    "pp.pprint(res_li)"
   ]
  },
  {
   "cell_type": "markdown",
   "id": "236ee35b",
   "metadata": {},
   "source": [
    "#### [5.2.2] 멀티 파일 업로드 | 수동 경로 설정"
   ]
  },
  {
   "cell_type": "code",
   "execution_count": null,
   "id": "8cc6f05b",
   "metadata": {},
   "outputs": [],
   "source": [
    "# 멀티 파일 업로드 | 수동 경로 설정\n",
    "api = ObjectStorage()\n",
    "res_li = api.upload_files(resourceUUID=resource_uuid, files=uploading_files, path=\"Multi/\")\n",
    "pp.pprint(res_li)"
   ]
  },
  {
   "cell_type": "markdown",
   "id": "251a6840",
   "metadata": {},
   "source": [
    "- res.json() 없음 --> 업로드 결과는 플랫폼에서 직접 확인  "
   ]
  },
  {
   "cell_type": "markdown",
   "id": "b0f7d8bf",
   "metadata": {},
   "source": [
    "### [5.3] 스토리지 EXPORT "
   ]
  },
  {
   "cell_type": "code",
   "execution_count": null,
   "id": "dfc1cccb",
   "metadata": {},
   "outputs": [],
   "source": [
    "api = Storages()\n",
    "res = api.export_(resource_uuid=resource_uuid)\n",
    "res "
   ]
  },
  {
   "cell_type": "code",
   "execution_count": null,
   "id": "22efc22a",
   "metadata": {},
   "outputs": [],
   "source": [
    "file = os.path.join(os.getcwd(), \"01_Storages\", \"Export Object Storage.json\")\n",
    "with open(file, \"w\", encoding=\"utf-8\") as f:\n",
    "    json.dump(res.json(), f, ensure_ascii=False, indent=2)"
   ]
  },
  {
   "cell_type": "markdown",
   "id": "0f3c4fdd",
   "metadata": {},
   "source": [
    "# **********************************************************************"
   ]
  },
  {
   "cell_type": "markdown",
   "id": "f0e9f189",
   "metadata": {},
   "source": [
    "# [6] 사용 예제 | Semantic Graph Index Unit"
   ]
  },
  {
   "cell_type": "markdown",
   "id": "397c5f1f",
   "metadata": {},
   "source": [
    "### [6.1] SGI Storage 신규 생성시 데이터 모델링을 동시에 수행 "
   ]
  },
  {
   "cell_type": "code",
   "execution_count": null,
   "id": "dfa640f0",
   "metadata": {},
   "outputs": [],
   "source": [
    "# 데이터 모델링 \n",
    "data_modeling_config = {\n",
    "    \"datamodel\": {\n",
    "        \"classes\": [\n",
    "            {\n",
    "                \"name\": \"DummyData_01\",\n",
    "                \"parents\": [],\n",
    "                \"pkg\": \"Rawdata\",\n",
    "                \"attributes\": [\n",
    "                    {\n",
    "                        \"name\": \"seq\",\n",
    "                        \"type\": {\n",
    "                            \"dataType\": \"Integer\",\n",
    "                            \"dataStructure\": \"Singleton\"\n",
    "                        },\n",
    "                        \"annotation\": {}\n",
    "                    },\n",
    "                    {\n",
    "                        \"name\": \"title\",\n",
    "                        \"type\": {\n",
    "                            \"dataType\": \"String\",\n",
    "                            \"dataStructure\": \"Singleton\"\n",
    "                        },\n",
    "                        \"annotation\": {}\n",
    "                    },\n",
    "                    {\n",
    "                        \"name\": \"_text\",\n",
    "                        \"type\": {\n",
    "                            \"dataType\": \"String\",\n",
    "                            \"dataStructure\": \"Singleton\"\n",
    "                        },\n",
    "                        \"annotation\": {}\n",
    "                    }\n",
    "                ]\n",
    "            },\n",
    "            {\n",
    "                \"name\": \"DummyData_02\",\n",
    "                \"parents\": [],\n",
    "                \"pkg\": \"Rawdata\",\n",
    "                \"attributes\": [\n",
    "                    {\n",
    "                        \"name\": \"seq\",\n",
    "                        \"type\": {\n",
    "                            \"dataType\": \"Integer\",\n",
    "                            \"dataStructure\": \"Singleton\"\n",
    "                        },\n",
    "                        \"annotation\": {}\n",
    "                    },\n",
    "                    {\n",
    "                        \"name\": \"title\",\n",
    "                        \"type\": {\n",
    "                            \"dataType\": \"String\",\n",
    "                            \"dataStructure\": \"Singleton\"\n",
    "                        },\n",
    "                        \"annotation\": {}\n",
    "                    },\n",
    "                    {\n",
    "                        \"name\": \"_text\",\n",
    "                        \"type\": {\n",
    "                            \"dataType\": \"String\",\n",
    "                            \"dataStructure\": \"Singleton\"\n",
    "                        },\n",
    "                        \"annotation\": {}\n",
    "                    }\n",
    "                ]\n",
    "            }\n",
    "        ]\n",
    "    }\n",
    "}"
   ]
  },
  {
   "cell_type": "code",
   "execution_count": null,
   "id": "13727c74",
   "metadata": {},
   "outputs": [],
   "source": [
    "from dserestapi import Storages\n",
    "# 스토리지 생성\n",
    "api = Storages()\n",
    "res = api.create(\n",
    "    stype=\"IndexUnit\",\n",
    "    name=\"TestSGI_01_CreatedByRestAPI\",\n",
    "    description=\"SGI 데이터 모델링 테스트 후 삭제할 것\",\n",
    "    config=data_modeling_config\n",
    ")\n",
    "res.json() "
   ]
  },
  {
   "cell_type": "code",
   "execution_count": null,
   "id": "c80a1faa",
   "metadata": {},
   "outputs": [],
   "source": [
    "file = os.path.join(os.getcwd(), \"03_SemanticGraphIndex\", \"Create A SGI.json\")\n",
    "with open(file, \"w\", encoding=\"utf-8\") as f:\n",
    "    json.dump(res.json(), f, ensure_ascii=False, indent=2)"
   ]
  },
  {
   "cell_type": "markdown",
   "id": "71bdf657",
   "metadata": {},
   "source": [
    "### [6.2] 데이터 모델 스키마에 맞는 데이터 생성 후 스키마에 맞는 데이터 타입인지 정합성 체크 "
   ]
  },
  {
   "cell_type": "code",
   "execution_count": null,
   "id": "da9ef74d",
   "metadata": {},
   "outputs": [],
   "source": [
    "resource_uuid = res.json()[\"resourceUUID\"]\n",
    "# resource_uuid = \"b1176f72-a3e2-4afc-9b02-543859e0cdf2\"\n",
    "resource_uuid"
   ]
  },
  {
   "cell_type": "code",
   "execution_count": null,
   "id": "873122a3",
   "metadata": {},
   "outputs": [],
   "source": [
    "# from dserestapi import SemanticGraphIndex\n",
    "# sgi = SemanticGraphIndex()\n",
    "# res = sgi.class_count(resourceUUID=resource_uuid, pkg_name=\"Rawdata\", class_name_li=[\"DummyData_01\"])\n",
    "# with open(os.path.join(os.getcwd(), \"Class Count.json\"), \"w\", encoding=\"utf-8\") as f:\n",
    "#     json.dump(res.json(), f, ensure_ascii=False, indent=2)"
   ]
  },
  {
   "cell_type": "code",
   "execution_count": null,
   "id": "cc977987",
   "metadata": {},
   "outputs": [],
   "source": [
    "# 데이터 생성 \n",
    "data = [\n",
    "    {\n",
    "        \"uri\": \"Rawdata.DummyData_01.0001\",\n",
    "        \"class\": \"Rawdata.DummyData_01\",\n",
    "        \"seq\": 1,\n",
    "        \"title\": \"This is a title-1\",\n",
    "        \"_text\": \"bla bla bla bla bla bla bla bla bla bla bla bla bla bla bla bla bla bla bla bla bla bla bla bla~\"\n",
    "    },\n",
    "    {\n",
    "        \"uri\": \"Rawdata.DummyData_01.0002\",\n",
    "        \"class\": \"Rawdata.DummyData_01\",\n",
    "        \"seq\": 2,\n",
    "        \"title\": \"This is a title-2\",\n",
    "        \"_text\": \"(2) bla bla bla bla bla bla bla bla bla bla bla bla bla bla bla bla bla bla bla bla bla bla bla bla~\"\n",
    "    },\n",
    "]"
   ]
  },
  {
   "cell_type": "code",
   "execution_count": null,
   "id": "b51469ee",
   "metadata": {},
   "outputs": [],
   "source": [
    "# 저장할 데이터의 정합성 체크 \n",
    "from dserestapi import SemanticGraphIndex\n",
    "sgi = SemanticGraphIndex()\n",
    "res = sgi.validateItemsEvent(resourceUUID=resource_uuid, action=\"AddOrReplaceItem\", data=data)\n",
    "res.json()"
   ]
  },
  {
   "cell_type": "code",
   "execution_count": null,
   "id": "7750df3a",
   "metadata": {},
   "outputs": [],
   "source": [
    "file = os.path.join(os.getcwd(), \"03_SemanticGraphIndex\", \"Validation Items.json\")\n",
    "with open(file, \"w\", encoding=\"utf-8\") as f:\n",
    "    json.dump(res.json(), f, ensure_ascii=False, indent=2)"
   ]
  },
  {
   "cell_type": "markdown",
   "id": "e68f697f",
   "metadata": {},
   "source": [
    "### [6.3] 생성한 SGI의 타겟 데이터 모델에 데이터를 저장"
   ]
  },
  {
   "cell_type": "code",
   "execution_count": null,
   "id": "fd892d03",
   "metadata": {},
   "outputs": [],
   "source": [
    "res = sgi.ingest(resourceUUID=resource_uuid, data=data)\n",
    "res.json()"
   ]
  },
  {
   "cell_type": "code",
   "execution_count": null,
   "id": "90819025",
   "metadata": {},
   "outputs": [],
   "source": [
    "file = os.path.join(os.getcwd(), \"03_SemanticGraphIndex\", \"Ingest Data.json\")\n",
    "with open(file, \"w\", encoding=\"utf-8\") as f:\n",
    "    json.dump(res.json(), f, ensure_ascii=False, indent=2)"
   ]
  },
  {
   "cell_type": "markdown",
   "id": "1c326598",
   "metadata": {},
   "source": [
    "- 데이터가 저장되었는지 플랫폼에서 직접확인"
   ]
  },
  {
   "cell_type": "markdown",
   "id": "037722de",
   "metadata": {},
   "source": [
    "### [6.4] 데이터 저장 결과 알림 받기 "
   ]
  },
  {
   "cell_type": "code",
   "execution_count": null,
   "id": "9bbf45df",
   "metadata": {},
   "outputs": [],
   "source": [
    "res = sgi.notification(resourceUUID=resource_uuid)\n",
    "res.json()"
   ]
  },
  {
   "cell_type": "markdown",
   "id": "a78a42bb",
   "metadata": {},
   "source": [
    "### [6.5] 저장한 데이터의 object 별 uri 가져오기"
   ]
  },
  {
   "cell_type": "code",
   "execution_count": null,
   "id": "9e16ee3c",
   "metadata": {},
   "outputs": [],
   "source": [
    "res = sgi.get_uri(resourceUUID=resource_uuid)\n",
    "res.json()"
   ]
  },
  {
   "cell_type": "code",
   "execution_count": null,
   "id": "034dbdc5",
   "metadata": {},
   "outputs": [],
   "source": [
    "file = os.path.join(os.getcwd(), \"03_SemanticGraphIndex\", \"SGI URIs.json\")\n",
    "with open(file, \"w\", encoding=\"utf-8\") as f:\n",
    "    json.dump(res.json(), f, ensure_ascii=False, indent=2)"
   ]
  },
  {
   "cell_type": "markdown",
   "id": "c23fbd86",
   "metadata": {},
   "source": [
    "# **********************************************************************"
   ]
  },
  {
   "cell_type": "markdown",
   "id": "cb6e72c5",
   "metadata": {},
   "source": [
    "# [7] 생각해 볼 문제 : Data Security는 어디에 팔아먹고?\n",
    "- REST API 로 Object/SGI Storage 를 생성할 경우 글로벌 워크스페이스에 노출되며 프라이빗 워크스페이스에 생성하는 방법은 현재 없다.\n",
    "- 해결 방법은? Object\n",
    "1. Data Project 수동 생성 \"JLE69 Knowledge Sharing\"\n",
    "2. Data Workspace 수동 생성 \"Demospace\"\n",
    "3. SGI 수동 생성 \"DataLake\""
   ]
  },
  {
   "cell_type": "code",
   "execution_count": null,
   "id": "68f96a3a",
   "metadata": {},
   "outputs": [],
   "source": []
  },
  {
   "cell_type": "markdown",
   "id": "7a9f6825",
   "metadata": {},
   "source": [
    "### [7.1] 수동으로 생성한 SGI 메타데이터 가져오기"
   ]
  },
  {
   "cell_type": "code",
   "execution_count": 23,
   "id": "914b7745",
   "metadata": {},
   "outputs": [
    {
     "data": {
      "text/plain": [
       "{'cards': [{'id': 'a4bf482b-aaff-4cf4-9ecf-f00f04f0cfc7',\n",
       "   'resourceId': 'DataLake',\n",
       "   'projectId': 'dp-jle69knowledgesharning-884650',\n",
       "   'resourceUUID': 'a4bf482b-aaff-4cf4-9ecf-f00f04f0cfc7',\n",
       "   'workspaceId': 'dw-jle69knowledgesharning-884650-demospace',\n",
       "   'name': 'DataLake',\n",
       "   'creator': 'jle69_gmail',\n",
       "   'kind': 'Storage',\n",
       "   'type': 'IndexUnit',\n",
       "   'created': 1753955565636,\n",
       "   'lastModified': 1753955565640,\n",
       "   'permissions': {'read': True, 'write': True, 'execute': True}}]}"
      ]
     },
     "execution_count": 23,
     "metadata": {},
     "output_type": "execute_result"
    }
   ],
   "source": [
    "from dserestapi import Storages \n",
    "storages = Storages()\n",
    "res = storages.search_by_name(name=\"DataLake\", workspace_id=\"dw-jle69knowledgesharning-884650-demospace\")\n",
    "res.json()"
   ]
  },
  {
   "cell_type": "code",
   "execution_count": 24,
   "id": "fc119233",
   "metadata": {},
   "outputs": [],
   "source": [
    "resource_uuid = res.json()[\"cards\"][0][\"resourceUUID\"]"
   ]
  },
  {
   "cell_type": "markdown",
   "id": "ce0dddc5",
   "metadata": {},
   "source": [
    "### [7.2] 더미 클래스/데이터 생성"
   ]
  },
  {
   "cell_type": "code",
   "execution_count": 43,
   "id": "26216da5",
   "metadata": {},
   "outputs": [
    {
     "name": "stdout",
     "output_type": "stream",
     "text": [
      "{ 'action': 'AddOrReplaceClass',\n",
      "  'classDefinition': { 'abstract': False,\n",
      "                       'annotations': [],\n",
      "                       'attributes': [ { 'annotations': [],\n",
      "                                         'name': 'column_1',\n",
      "                                         'type': 'String'},\n",
      "                                       { 'annotations': [],\n",
      "                                         'name': 'column_2',\n",
      "                                         'type': 'Integer'},\n",
      "                                       { 'annotations': [],\n",
      "                                         'name': 'column_3',\n",
      "                                         'type': 'Float'}],\n",
      "                       'name': 'ModelGenerator.TestModel',\n",
      "                       'parents': ['core.Item']}}\n"
     ]
    }
   ],
   "source": [
    "import pprint \n",
    "pp = pprint.PrettyPrinter(indent=2)\n",
    "from importlib import reload\n",
    "import dserestapi\n",
    "reload(dserestapi)\n",
    "from dserestapi import SGIModel\n",
    "model = SGIModel(pkg_name=\"ModelGenerator\", cls_name=\"TestModel\")\n",
    "model.gen_class()\n",
    "model.gen_property(name=\"column_1\", dtype=\"String\")\n",
    "model.gen_property(name=\"column_2\", dtype=\"Integer\")\n",
    "model.gen_property(name=\"column_3\", dtype=\"Float\")\n",
    "pp.pprint(model.schema)"
   ]
  },
  {
   "cell_type": "code",
   "execution_count": 44,
   "id": "1a6d174e",
   "metadata": {},
   "outputs": [
    {
     "data": {
      "text/plain": [
       "<dserestapi.SGIModel at 0x17cdeb2e2d0>"
      ]
     },
     "execution_count": 44,
     "metadata": {},
     "output_type": "execute_result"
    }
   ],
   "source": [
    "model.gen_items(data=[\n",
    "    {\"column_1\": \"value_1\", \"column_2\": 100, \"column_3\": 1.5},\n",
    "    {\"column_1\": \"value_2\", \"column_2\": 200, \"column_3\": 2.5},\n",
    "    {\"column_1\": \"value_3\", \"column_2\": 300, \"column_3\": 3.5}\n",
    "])"
   ]
  },
  {
   "cell_type": "code",
   "execution_count": 45,
   "id": "69d213be",
   "metadata": {},
   "outputs": [
    {
     "name": "stdout",
     "output_type": "stream",
     "text": [
      "[ { 'action': 'AddOrReplaceClass',\n",
      "    'classDefinition': { 'abstract': False,\n",
      "                         'annotations': [],\n",
      "                         'attributes': [ { 'annotations': [],\n",
      "                                           'name': 'column_1',\n",
      "                                           'type': 'String'},\n",
      "                                         { 'annotations': [],\n",
      "                                           'name': 'column_2',\n",
      "                                           'type': 'Integer'},\n",
      "                                         { 'annotations': [],\n",
      "                                           'name': 'column_3',\n",
      "                                           'type': 'Float'}],\n",
      "                         'name': 'ModelGenerator.TestModel',\n",
      "                         'parents': ['core.Item']}},\n",
      "  { 'action': 'AddOrReplaceItem',\n",
      "    'item': { 'class': 'ModelGenerator.TestModel',\n",
      "              'column_1': 'value_1',\n",
      "              'column_2': 100,\n",
      "              'column_3': 1.5,\n",
      "              'uri': 'ModelGenerator.TestModel_00'}},\n",
      "  { 'action': 'AddOrReplaceItem',\n",
      "    'item': { 'class': 'ModelGenerator.TestModel',\n",
      "              'column_1': 'value_2',\n",
      "              'column_2': 200,\n",
      "              'column_3': 2.5,\n",
      "              'uri': 'ModelGenerator.TestModel_01'}},\n",
      "  { 'action': 'AddOrReplaceItem',\n",
      "    'item': { 'class': 'ModelGenerator.TestModel',\n",
      "              'column_1': 'value_3',\n",
      "              'column_2': 300,\n",
      "              'column_3': 3.5,\n",
      "              'uri': 'ModelGenerator.TestModel_02'}}]\n"
     ]
    }
   ],
   "source": [
    "conf_data = model.gen_JsonEventData()\n",
    "pp.pprint(conf_data)"
   ]
  },
  {
   "cell_type": "markdown",
   "id": "ad30e354",
   "metadata": {},
   "source": [
    "### [7.3] 더미 클래스/데이터를 SGI에 적용 및 저장"
   ]
  },
  {
   "cell_type": "code",
   "execution_count": 46,
   "id": "d968197c",
   "metadata": {},
   "outputs": [
    {
     "data": {
      "text/plain": [
       "{'notifications': []}"
      ]
     },
     "execution_count": 46,
     "metadata": {},
     "output_type": "execute_result"
    }
   ],
   "source": [
    "from dserestapi import Storages, SemanticGraphIndex\n",
    "sgi = SemanticGraphIndex()\n",
    "res = sgi.ingest(resource_uuid=resource_uuid, data=conf_data)\n",
    "res.json()"
   ]
  },
  {
   "cell_type": "markdown",
   "id": "13a30cf0",
   "metadata": {},
   "source": [
    "# THE END."
   ]
  }
 ],
 "metadata": {
  "kernelspec": {
   "display_name": ".env",
   "language": "python",
   "name": "python3"
  },
  "language_info": {
   "codemirror_mode": {
    "name": "ipython",
    "version": 3
   },
   "file_extension": ".py",
   "mimetype": "text/x-python",
   "name": "python",
   "nbconvert_exporter": "python",
   "pygments_lexer": "ipython3",
   "version": "3.12.9"
  }
 },
 "nbformat": 4,
 "nbformat_minor": 5
}
